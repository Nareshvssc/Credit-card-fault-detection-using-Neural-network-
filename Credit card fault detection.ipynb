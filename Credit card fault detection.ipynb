{
 "cells": [
  {
   "cell_type": "code",
   "execution_count": 1,
   "id": "c3f41cb0",
   "metadata": {},
   "outputs": [],
   "source": [
    "#credit card fault detection problem\n",
    "import pandas as pd\n",
    "import numpy as np\n",
    "import matplotlib.pyplot as plt\n",
    "import tensorflow as tf\n"
   ]
  },
  {
   "cell_type": "code",
   "execution_count": 2,
   "id": "a9eb7b7f",
   "metadata": {},
   "outputs": [
    {
     "data": {
      "text/html": [
       "<div>\n",
       "<style scoped>\n",
       "    .dataframe tbody tr th:only-of-type {\n",
       "        vertical-align: middle;\n",
       "    }\n",
       "\n",
       "    .dataframe tbody tr th {\n",
       "        vertical-align: top;\n",
       "    }\n",
       "\n",
       "    .dataframe thead th {\n",
       "        text-align: right;\n",
       "    }\n",
       "</style>\n",
       "<table border=\"1\" class=\"dataframe\">\n",
       "  <thead>\n",
       "    <tr style=\"text-align: right;\">\n",
       "      <th></th>\n",
       "      <th>Time</th>\n",
       "      <th>V1</th>\n",
       "      <th>V2</th>\n",
       "      <th>V3</th>\n",
       "      <th>V4</th>\n",
       "      <th>V5</th>\n",
       "      <th>V6</th>\n",
       "      <th>V7</th>\n",
       "      <th>V8</th>\n",
       "      <th>V9</th>\n",
       "      <th>...</th>\n",
       "      <th>V21</th>\n",
       "      <th>V22</th>\n",
       "      <th>V23</th>\n",
       "      <th>V24</th>\n",
       "      <th>V25</th>\n",
       "      <th>V26</th>\n",
       "      <th>V27</th>\n",
       "      <th>V28</th>\n",
       "      <th>Amount</th>\n",
       "      <th>Class</th>\n",
       "    </tr>\n",
       "  </thead>\n",
       "  <tbody>\n",
       "    <tr>\n",
       "      <th>0</th>\n",
       "      <td>0.0</td>\n",
       "      <td>-1.359807</td>\n",
       "      <td>-0.072781</td>\n",
       "      <td>2.536347</td>\n",
       "      <td>1.378155</td>\n",
       "      <td>-0.338321</td>\n",
       "      <td>0.462388</td>\n",
       "      <td>0.239599</td>\n",
       "      <td>0.098698</td>\n",
       "      <td>0.363787</td>\n",
       "      <td>...</td>\n",
       "      <td>-0.018307</td>\n",
       "      <td>0.277838</td>\n",
       "      <td>-0.110474</td>\n",
       "      <td>0.066928</td>\n",
       "      <td>0.128539</td>\n",
       "      <td>-0.189115</td>\n",
       "      <td>0.133558</td>\n",
       "      <td>-0.021053</td>\n",
       "      <td>149.62</td>\n",
       "      <td>0</td>\n",
       "    </tr>\n",
       "    <tr>\n",
       "      <th>1</th>\n",
       "      <td>0.0</td>\n",
       "      <td>1.191857</td>\n",
       "      <td>0.266151</td>\n",
       "      <td>0.166480</td>\n",
       "      <td>0.448154</td>\n",
       "      <td>0.060018</td>\n",
       "      <td>-0.082361</td>\n",
       "      <td>-0.078803</td>\n",
       "      <td>0.085102</td>\n",
       "      <td>-0.255425</td>\n",
       "      <td>...</td>\n",
       "      <td>-0.225775</td>\n",
       "      <td>-0.638672</td>\n",
       "      <td>0.101288</td>\n",
       "      <td>-0.339846</td>\n",
       "      <td>0.167170</td>\n",
       "      <td>0.125895</td>\n",
       "      <td>-0.008983</td>\n",
       "      <td>0.014724</td>\n",
       "      <td>2.69</td>\n",
       "      <td>0</td>\n",
       "    </tr>\n",
       "    <tr>\n",
       "      <th>2</th>\n",
       "      <td>1.0</td>\n",
       "      <td>-1.358354</td>\n",
       "      <td>-1.340163</td>\n",
       "      <td>1.773209</td>\n",
       "      <td>0.379780</td>\n",
       "      <td>-0.503198</td>\n",
       "      <td>1.800499</td>\n",
       "      <td>0.791461</td>\n",
       "      <td>0.247676</td>\n",
       "      <td>-1.514654</td>\n",
       "      <td>...</td>\n",
       "      <td>0.247998</td>\n",
       "      <td>0.771679</td>\n",
       "      <td>0.909412</td>\n",
       "      <td>-0.689281</td>\n",
       "      <td>-0.327642</td>\n",
       "      <td>-0.139097</td>\n",
       "      <td>-0.055353</td>\n",
       "      <td>-0.059752</td>\n",
       "      <td>378.66</td>\n",
       "      <td>0</td>\n",
       "    </tr>\n",
       "    <tr>\n",
       "      <th>3</th>\n",
       "      <td>1.0</td>\n",
       "      <td>-0.966272</td>\n",
       "      <td>-0.185226</td>\n",
       "      <td>1.792993</td>\n",
       "      <td>-0.863291</td>\n",
       "      <td>-0.010309</td>\n",
       "      <td>1.247203</td>\n",
       "      <td>0.237609</td>\n",
       "      <td>0.377436</td>\n",
       "      <td>-1.387024</td>\n",
       "      <td>...</td>\n",
       "      <td>-0.108300</td>\n",
       "      <td>0.005274</td>\n",
       "      <td>-0.190321</td>\n",
       "      <td>-1.175575</td>\n",
       "      <td>0.647376</td>\n",
       "      <td>-0.221929</td>\n",
       "      <td>0.062723</td>\n",
       "      <td>0.061458</td>\n",
       "      <td>123.50</td>\n",
       "      <td>0</td>\n",
       "    </tr>\n",
       "    <tr>\n",
       "      <th>4</th>\n",
       "      <td>2.0</td>\n",
       "      <td>-1.158233</td>\n",
       "      <td>0.877737</td>\n",
       "      <td>1.548718</td>\n",
       "      <td>0.403034</td>\n",
       "      <td>-0.407193</td>\n",
       "      <td>0.095921</td>\n",
       "      <td>0.592941</td>\n",
       "      <td>-0.270533</td>\n",
       "      <td>0.817739</td>\n",
       "      <td>...</td>\n",
       "      <td>-0.009431</td>\n",
       "      <td>0.798278</td>\n",
       "      <td>-0.137458</td>\n",
       "      <td>0.141267</td>\n",
       "      <td>-0.206010</td>\n",
       "      <td>0.502292</td>\n",
       "      <td>0.219422</td>\n",
       "      <td>0.215153</td>\n",
       "      <td>69.99</td>\n",
       "      <td>0</td>\n",
       "    </tr>\n",
       "  </tbody>\n",
       "</table>\n",
       "<p>5 rows × 31 columns</p>\n",
       "</div>"
      ],
      "text/plain": [
       "   Time        V1        V2        V3        V4        V5        V6        V7  \\\n",
       "0   0.0 -1.359807 -0.072781  2.536347  1.378155 -0.338321  0.462388  0.239599   \n",
       "1   0.0  1.191857  0.266151  0.166480  0.448154  0.060018 -0.082361 -0.078803   \n",
       "2   1.0 -1.358354 -1.340163  1.773209  0.379780 -0.503198  1.800499  0.791461   \n",
       "3   1.0 -0.966272 -0.185226  1.792993 -0.863291 -0.010309  1.247203  0.237609   \n",
       "4   2.0 -1.158233  0.877737  1.548718  0.403034 -0.407193  0.095921  0.592941   \n",
       "\n",
       "         V8        V9  ...       V21       V22       V23       V24       V25  \\\n",
       "0  0.098698  0.363787  ... -0.018307  0.277838 -0.110474  0.066928  0.128539   \n",
       "1  0.085102 -0.255425  ... -0.225775 -0.638672  0.101288 -0.339846  0.167170   \n",
       "2  0.247676 -1.514654  ...  0.247998  0.771679  0.909412 -0.689281 -0.327642   \n",
       "3  0.377436 -1.387024  ... -0.108300  0.005274 -0.190321 -1.175575  0.647376   \n",
       "4 -0.270533  0.817739  ... -0.009431  0.798278 -0.137458  0.141267 -0.206010   \n",
       "\n",
       "        V26       V27       V28  Amount  Class  \n",
       "0 -0.189115  0.133558 -0.021053  149.62      0  \n",
       "1  0.125895 -0.008983  0.014724    2.69      0  \n",
       "2 -0.139097 -0.055353 -0.059752  378.66      0  \n",
       "3 -0.221929  0.062723  0.061458  123.50      0  \n",
       "4  0.502292  0.219422  0.215153   69.99      0  \n",
       "\n",
       "[5 rows x 31 columns]"
      ]
     },
     "execution_count": 2,
     "metadata": {},
     "output_type": "execute_result"
    }
   ],
   "source": [
    "# importing dataset\n",
    "df = pd.read_csv('https://storage.googleapis.com/download.tensorflow.org/data/creditcard.csv')\n",
    "df.head()"
   ]
  },
  {
   "cell_type": "code",
   "execution_count": 3,
   "id": "c68f8baf",
   "metadata": {},
   "outputs": [
    {
     "data": {
      "text/plain": [
       "0    284315\n",
       "1       492\n",
       "Name: Class, dtype: int64"
      ]
     },
     "execution_count": 3,
     "metadata": {},
     "output_type": "execute_result"
    }
   ],
   "source": [
    "# a highly unbalanced datasets\n",
    "df['Class'].value_counts()"
   ]
  },
  {
   "cell_type": "code",
   "execution_count": 4,
   "id": "fc27fbe0",
   "metadata": {},
   "outputs": [
    {
     "name": "stdout",
     "output_type": "stream",
     "text": [
      "the positive labels arre  492 and the negative labels are  284315\n"
     ]
    }
   ],
   "source": [
    "neg,pos = np.bincount(df['Class'])\n",
    "print(\"the positive labels arre \",pos,\"and the negative labels are \",neg)"
   ]
  },
  {
   "cell_type": "code",
   "execution_count": 5,
   "id": "eaedaf18",
   "metadata": {},
   "outputs": [],
   "source": [
    "df.drop(labels='Time',axis=1,inplace=True)"
   ]
  },
  {
   "cell_type": "code",
   "execution_count": 6,
   "id": "c342a9ee",
   "metadata": {},
   "outputs": [],
   "source": [
    "df['Amount'] = df['Amount'].apply((lambda x: np.log(x+0.01)))"
   ]
  },
  {
   "cell_type": "code",
   "execution_count": 7,
   "id": "1b3d460d",
   "metadata": {},
   "outputs": [],
   "source": [
    "import seaborn as sns"
   ]
  },
  {
   "cell_type": "code",
   "execution_count": 8,
   "id": "536602d1",
   "metadata": {},
   "outputs": [
    {
     "data": {
      "image/png": "[encoded data removed]",
      "text/plain": [
       "<Figure size 600x600 with 3 Axes>"
      ]
     },
     "metadata": {},
     "output_type": "display_data"
    }
   ],
   "source": [
    "sns.jointplot(x='V5',y='V6',data= df,hue='Class')\n",
    "plt.show()"
   ]
  },
  {
   "cell_type": "code",
   "execution_count": 9,
   "id": "dd12dd06",
   "metadata": {},
   "outputs": [],
   "source": [
    "from sklearn.model_selection import train_test_split"
   ]
  },
  {
   "cell_type": "code",
   "execution_count": 10,
   "id": "3c2472c2",
   "metadata": {},
   "outputs": [],
   "source": [
    "X = df.iloc[:,:-1]\n",
    "y = df.iloc[:,-1]"
   ]
  },
  {
   "cell_type": "code",
   "execution_count": 11,
   "id": "d190fcba",
   "metadata": {},
   "outputs": [],
   "source": [
    "X_train,X_test,y_train,y_test = train_test_split(X,y,test_size=0.2)"
   ]
  },
  {
   "cell_type": "code",
   "execution_count": 12,
   "id": "9a7fb16c",
   "metadata": {},
   "outputs": [],
   "source": [
    "from sklearn.preprocessing import StandardScaler"
   ]
  },
  {
   "cell_type": "code",
   "execution_count": 189,
   "id": "47cc64ca",
   "metadata": {},
   "outputs": [],
   "source": [
    "sc = StandardScaler()"
   ]
  },
  {
   "cell_type": "code",
   "execution_count": 190,
   "id": "cf13a400",
   "metadata": {},
   "outputs": [],
   "source": [
    "X_train_transform = sc.fit_transform(X_train)"
   ]
  },
  {
   "cell_type": "code",
   "execution_count": 15,
   "id": "d11cd932",
   "metadata": {},
   "outputs": [],
   "source": [
    "from tensorflow import keras"
   ]
  },
  {
   "cell_type": "code",
   "execution_count": 16,
   "id": "7c70dc7a",
   "metadata": {},
   "outputs": [],
   "source": [
    "METRICS = [\n",
    "      keras.metrics.TruePositives(name='tp'),\n",
    "      keras.metrics.FalsePositives(name='fp'),\n",
    "      keras.metrics.TrueNegatives(name='tn'),\n",
    "      keras.metrics.FalseNegatives(name='fn'), \n",
    "      keras.metrics.BinaryAccuracy(name='accuracy'),\n",
    "      keras.metrics.Precision(name='precision'),\n",
    "      keras.metrics.Recall(name='recall'),\n",
    "      keras.metrics.AUC(name='auc'),\n",
    "      keras.metrics.AUC(name='prc', curve='PR'), # precision-recall curve\n",
    "]"
   ]
  },
  {
   "cell_type": "code",
   "execution_count": 17,
   "id": "2e571ce6",
   "metadata": {},
   "outputs": [],
   "source": [
    "def make_model(metrics=METRICS,output_bias=None):\n",
    "    if output_bias is not None:\n",
    "        output_bias = keras.initializers.Constant(output_bias)\n",
    "    model = keras.models.Sequential([\n",
    "            keras.layers.Dense(10,activation='relu',input_shape=(X_train_transform.shape[1],)),\n",
    "            keras.layers.Dropout(0.2),\n",
    "                keras.layers.Dense(1,activation='sigmoid',bias_initializer=output_bias)\n",
    "                    ])\n",
    "    model.compile(\n",
    "      optimizer=keras.optimizers.Adam(learning_rate=1e-3),\n",
    "      loss=keras.losses.BinaryCrossentropy(),\n",
    "      metrics=metrics)\n",
    "    return model "
   ]
  },
  {
   "cell_type": "code",
   "execution_count": 18,
   "id": "f8716a4b",
   "metadata": {},
   "outputs": [],
   "source": [
    "early_stopping = keras.callbacks.EarlyStopping(monitor='val_prc',patience=5,mode='max',restore_best_weights=True)"
   ]
  },
  {
   "cell_type": "code",
   "execution_count": 19,
   "id": "9fb25f02",
   "metadata": {},
   "outputs": [],
   "source": [
    "model = make_model()"
   ]
  },
  {
   "cell_type": "code",
   "execution_count": 20,
   "id": "aec7265c",
   "metadata": {},
   "outputs": [
    {
     "name": "stdout",
     "output_type": "stream",
     "text": [
      "Model: \"sequential\"\n",
      "_________________________________________________________________\n",
      " Layer (type)                Output Shape              Param #   \n",
      "=================================================================\n",
      " dense (Dense)               (None, 10)                300       \n",
      "                                                                 \n",
      " dropout (Dropout)           (None, 10)                0         \n",
      "                                                                 \n",
      " dense_1 (Dense)             (None, 1)                 11        \n",
      "                                                                 \n",
      "=================================================================\n",
      "Total params: 311\n",
      "Trainable params: 311\n",
      "Non-trainable params: 0\n",
      "_________________________________________________________________\n"
     ]
    }
   ],
   "source": [
    "model.summary()"
   ]
  },
  {
   "cell_type": "code",
   "execution_count": 21,
   "id": "c083941e",
   "metadata": {},
   "outputs": [
    {
     "name": "stdout",
     "output_type": "stream",
     "text": [
      "7121/7121 [==============================] - 12s 1ms/step\n"
     ]
    },
    {
     "data": {
      "text/plain": [
       "[0.5363261699676514,\n",
       " 5.0,\n",
       " 62876.0,\n",
       " 164567.0,\n",
       " 397.0,\n",
       " 0.7222980260848999,\n",
       " 7.951527368277311e-05,\n",
       " 0.012437811121344566,\n",
       " 0.09071973711252213,\n",
       " 0.0009107158402912319]"
      ]
     },
     "execution_count": 21,
     "metadata": {},
     "output_type": "execute_result"
    }
   ],
   "source": [
    "EPOCHS = 100\n",
    "BATCH_SIZE = 2048\n",
    "model.predict(X_train_transform)\n",
    "model.evaluate(X_train_transform,y_train,batch_size=BATCH_SIZE,verbose=0)"
   ]
  },
  {
   "cell_type": "code",
   "execution_count": 22,
   "id": "73f0eb09",
   "metadata": {},
   "outputs": [
    {
     "name": "stdout",
     "output_type": "stream",
     "text": [
      "loss at the None intialization is = 1.02\n"
     ]
    }
   ],
   "source": [
    "print(\"loss at the None intialization is = 1.02\")"
   ]
  },
  {
   "cell_type": "code",
   "execution_count": 23,
   "id": "a8301919",
   "metadata": {},
   "outputs": [],
   "source": [
    "# these are results obatined from the model with intial intialization is and we can see that these are not great "
   ]
  },
  {
   "cell_type": "code",
   "execution_count": 24,
   "id": "332d2c63",
   "metadata": {},
   "outputs": [
    {
     "name": "stdout",
     "output_type": "stream",
     "text": [
      "7121/7121 [==============================] - 11s 2ms/step\n"
     ]
    }
   ],
   "source": [
    "#lets try to intialize the  bias as pos/total = 0.00172\n",
    "model = make_model(output_bias=0.00172)\n",
    "model.predict(X_train_transform)\n",
    "loss = model.evaluate(X_train_transform,y_train,batch_size=BATCH_SIZE,verbose=0)\n"
   ]
  },
  {
   "cell_type": "code",
   "execution_count": 25,
   "id": "bcd0533e",
   "metadata": {},
   "outputs": [
    {
     "name": "stdout",
     "output_type": "stream",
     "text": [
      "with the intialization 0.00172 the loss is =  1.6787774562835693\n"
     ]
    }
   ],
   "source": [
    "print(\"with the intialization 0.00172 the loss is = \",loss[0])"
   ]
  },
  {
   "cell_type": "code",
   "execution_count": 26,
   "id": "87d4fb8a",
   "metadata": {},
   "outputs": [],
   "source": [
    "#thus it can be seen that the intialization of bias has significantly changes the results\n",
    "import os\n",
    "import tempfile"
   ]
  },
  {
   "cell_type": "code",
   "execution_count": 27,
   "id": "66b8661e",
   "metadata": {},
   "outputs": [],
   "source": [
    "# Save the intial weights\n",
    "\n",
    "initial_weights = os.path.join(tempfile.mkdtemp(), 'initial_weights')"
   ]
  },
  {
   "cell_type": "code",
   "execution_count": 28,
   "id": "077149ce",
   "metadata": {},
   "outputs": [],
   "source": [
    "model.save_weights(initial_weights)"
   ]
  },
  {
   "cell_type": "code",
   "execution_count": 188,
   "id": "92dbf898",
   "metadata": {},
   "outputs": [
    {
     "name": "stderr",
     "output_type": "stream",
     "text": [
      "C:\\Users\\nares\\anaconda3\\envs\\ineurontf\\lib\\site-packages\\sklearn\\base.py:444: UserWarning: X has feature names, but StandardScaler was fitted without feature names\n",
      "  f\"X has feature names, but {self.__class__.__name__} was fitted without\"\n"
     ]
    }
   ],
   "source": [
    "X_test_transform = sc.transform(X_test)"
   ]
  },
  {
   "cell_type": "code",
   "execution_count": 30,
   "id": "93cdea44",
   "metadata": {},
   "outputs": [],
   "source": [
    "# 1. Train the model for 20 epochs with careful and random intialization and compare the results\n",
    "model.layers[-1].bias.assign([0.0])\n",
    "zero_bias_model = model.fit(X_train_transform,y_train,    batch_size=BATCH_SIZE,\n",
    "    epochs=5,verbose=0,validation_data=(X_test_transform,y_test))"
   ]
  },
  {
   "cell_type": "code",
   "execution_count": null,
   "id": "d0606488",
   "metadata": {},
   "outputs": [],
   "source": []
  },
  {
   "cell_type": "code",
   "execution_count": 31,
   "id": "b1f0ae79",
   "metadata": {},
   "outputs": [],
   "source": [
    "model = make_model()\n",
    "model.load_weights(initial_weights)\n",
    "careful_bias_history = model.fit(\n",
    "   X_train_transform,\n",
    "    y_train,\n",
    "    batch_size=BATCH_SIZE,\n",
    "    epochs=5,\n",
    "    validation_data=(X_test_transform, y_test), \n",
    "    verbose=0)"
   ]
  },
  {
   "cell_type": "code",
   "execution_count": 32,
   "id": "b1d2c1d0",
   "metadata": {},
   "outputs": [],
   "source": [
    "def plot_loss(history,label,n):\n",
    "    plt.semilogy(history.epoch,history.history['loss'],label=label)\n",
    "    plt.legend()\n",
    "    plt.xlabel(\"epochs\")\n",
    "    plt.ylabel(\"Loss \")"
   ]
  },
  {
   "cell_type": "code",
   "execution_count": 33,
   "id": "14c708bf",
   "metadata": {},
   "outputs": [
    {
     "data": {
      "image/png": "[encoded data removed]",
      "text/plain": [
       "<Figure size 640x480 with 1 Axes>"
      ]
     },
     "metadata": {},
     "output_type": "display_data"
    }
   ],
   "source": [
    "plot_loss(zero_bias_model,\"zero_bias_weights\",0)\n",
    "plot_loss(careful_bias_history,\"careful intialization\",1)"
   ]
  },
  {
   "cell_type": "code",
   "execution_count": 34,
   "id": "59e1fa3f",
   "metadata": {},
   "outputs": [],
   "source": [
    "# Thus it can be seen that in our case zero bias initialization give more advantage thus training the model with that "
   ]
  },
  {
   "cell_type": "code",
   "execution_count": 35,
   "id": "fcb36343",
   "metadata": {},
   "outputs": [],
   "source": [
    "model = make_model()\n",
    "model.layers[-1].bias.assign([0.0])\n",
    "base_line_model = model.fit(X_train_transform,y_train, batch_size=BATCH_SIZE,\n",
    "epochs=EPOCHS,verbose=0,validation_data=(X_test_transform,y_test),callbacks=[early_stopping])"
   ]
  },
  {
   "cell_type": "code",
   "execution_count": 36,
   "id": "c54ed909",
   "metadata": {},
   "outputs": [
    {
     "data": {
      "image/png": "[encoded data removed]",
      "text/plain": [
       "<Figure size 640x480 with 1 Axes>"
      ]
     },
     "metadata": {},
     "output_type": "display_data"
    }
   ],
   "source": [
    "plot_loss(base_line_model,\"base_line_model\",1)"
   ]
  },
  {
   "cell_type": "code",
   "execution_count": 37,
   "id": "2b28b33a",
   "metadata": {},
   "outputs": [],
   "source": [
    "df = pd.DataFrame(data = base_line_model.history)"
   ]
  },
  {
   "cell_type": "code",
   "execution_count": 38,
   "id": "26f4239a",
   "metadata": {},
   "outputs": [
    {
     "data": {
      "text/html": [
       "<div>\n",
       "<style scoped>\n",
       "    .dataframe tbody tr th:only-of-type {\n",
       "        vertical-align: middle;\n",
       "    }\n",
       "\n",
       "    .dataframe tbody tr th {\n",
       "        vertical-align: top;\n",
       "    }\n",
       "\n",
       "    .dataframe thead th {\n",
       "        text-align: right;\n",
       "    }\n",
       "</style>\n",
       "<table border=\"1\" class=\"dataframe\">\n",
       "  <thead>\n",
       "    <tr style=\"text-align: right;\">\n",
       "      <th></th>\n",
       "      <th>loss</th>\n",
       "      <th>tp</th>\n",
       "      <th>fp</th>\n",
       "      <th>tn</th>\n",
       "      <th>fn</th>\n",
       "      <th>accuracy</th>\n",
       "      <th>precision</th>\n",
       "      <th>recall</th>\n",
       "      <th>auc</th>\n",
       "      <th>prc</th>\n",
       "      <th>val_loss</th>\n",
       "      <th>val_tp</th>\n",
       "      <th>val_fp</th>\n",
       "      <th>val_tn</th>\n",
       "      <th>val_fn</th>\n",
       "      <th>val_accuracy</th>\n",
       "      <th>val_precision</th>\n",
       "      <th>val_recall</th>\n",
       "      <th>val_auc</th>\n",
       "      <th>val_prc</th>\n",
       "    </tr>\n",
       "  </thead>\n",
       "  <tbody>\n",
       "    <tr>\n",
       "      <th>0</th>\n",
       "      <td>0.569575</td>\n",
       "      <td>276.0</td>\n",
       "      <td>72191.0</td>\n",
       "      <td>212124.0</td>\n",
       "      <td>216.0</td>\n",
       "      <td>0.745768</td>\n",
       "      <td>0.003809</td>\n",
       "      <td>0.560976</td>\n",
       "      <td>0.685522</td>\n",
       "      <td>0.177583</td>\n",
       "      <td>0.354431</td>\n",
       "      <td>48.0</td>\n",
       "      <td>4553.0</td>\n",
       "      <td>52319.0</td>\n",
       "      <td>42.0</td>\n",
       "      <td>0.919332</td>\n",
       "      <td>0.010433</td>\n",
       "      <td>0.533333</td>\n",
       "      <td>0.695491</td>\n",
       "      <td>0.281716</td>\n",
       "    </tr>\n",
       "    <tr>\n",
       "      <th>1</th>\n",
       "      <td>0.294720</td>\n",
       "      <td>201.0</td>\n",
       "      <td>13689.0</td>\n",
       "      <td>213754.0</td>\n",
       "      <td>201.0</td>\n",
       "      <td>0.939038</td>\n",
       "      <td>0.014471</td>\n",
       "      <td>0.500000</td>\n",
       "      <td>0.701655</td>\n",
       "      <td>0.264782</td>\n",
       "      <td>0.181586</td>\n",
       "      <td>48.0</td>\n",
       "      <td>157.0</td>\n",
       "      <td>56715.0</td>\n",
       "      <td>42.0</td>\n",
       "      <td>0.996506</td>\n",
       "      <td>0.234146</td>\n",
       "      <td>0.533333</td>\n",
       "      <td>0.758702</td>\n",
       "      <td>0.386218</td>\n",
       "    </tr>\n",
       "    <tr>\n",
       "      <th>2</th>\n",
       "      <td>0.169592</td>\n",
       "      <td>174.0</td>\n",
       "      <td>2314.0</td>\n",
       "      <td>225129.0</td>\n",
       "      <td>228.0</td>\n",
       "      <td>0.988843</td>\n",
       "      <td>0.069936</td>\n",
       "      <td>0.432836</td>\n",
       "      <td>0.758730</td>\n",
       "      <td>0.265247</td>\n",
       "      <td>0.094560</td>\n",
       "      <td>44.0</td>\n",
       "      <td>9.0</td>\n",
       "      <td>56863.0</td>\n",
       "      <td>46.0</td>\n",
       "      <td>0.999034</td>\n",
       "      <td>0.830189</td>\n",
       "      <td>0.488889</td>\n",
       "      <td>0.802726</td>\n",
       "      <td>0.493526</td>\n",
       "    </tr>\n",
       "    <tr>\n",
       "      <th>3</th>\n",
       "      <td>0.105415</td>\n",
       "      <td>190.0</td>\n",
       "      <td>543.0</td>\n",
       "      <td>226900.0</td>\n",
       "      <td>212.0</td>\n",
       "      <td>0.996686</td>\n",
       "      <td>0.259209</td>\n",
       "      <td>0.472637</td>\n",
       "      <td>0.791358</td>\n",
       "      <td>0.371911</td>\n",
       "      <td>0.052531</td>\n",
       "      <td>51.0</td>\n",
       "      <td>10.0</td>\n",
       "      <td>56862.0</td>\n",
       "      <td>39.0</td>\n",
       "      <td>0.999140</td>\n",
       "      <td>0.836066</td>\n",
       "      <td>0.566667</td>\n",
       "      <td>0.835408</td>\n",
       "      <td>0.551700</td>\n",
       "    </tr>\n",
       "    <tr>\n",
       "      <th>4</th>\n",
       "      <td>0.072158</td>\n",
       "      <td>192.0</td>\n",
       "      <td>193.0</td>\n",
       "      <td>227250.0</td>\n",
       "      <td>210.0</td>\n",
       "      <td>0.998231</td>\n",
       "      <td>0.498701</td>\n",
       "      <td>0.477612</td>\n",
       "      <td>0.838604</td>\n",
       "      <td>0.407450</td>\n",
       "      <td>0.032233</td>\n",
       "      <td>51.0</td>\n",
       "      <td>10.0</td>\n",
       "      <td>56862.0</td>\n",
       "      <td>39.0</td>\n",
       "      <td>0.999140</td>\n",
       "      <td>0.836066</td>\n",
       "      <td>0.566667</td>\n",
       "      <td>0.856806</td>\n",
       "      <td>0.599336</td>\n",
       "    </tr>\n",
       "  </tbody>\n",
       "</table>\n",
       "</div>"
      ],
      "text/plain": [
       "       loss     tp       fp        tn     fn  accuracy  precision    recall  \\\n",
       "0  0.569575  276.0  72191.0  212124.0  216.0  0.745768   0.003809  0.560976   \n",
       "1  0.294720  201.0  13689.0  213754.0  201.0  0.939038   0.014471  0.500000   \n",
       "2  0.169592  174.0   2314.0  225129.0  228.0  0.988843   0.069936  0.432836   \n",
       "3  0.105415  190.0    543.0  226900.0  212.0  0.996686   0.259209  0.472637   \n",
       "4  0.072158  192.0    193.0  227250.0  210.0  0.998231   0.498701  0.477612   \n",
       "\n",
       "        auc       prc  val_loss  val_tp  val_fp   val_tn  val_fn  \\\n",
       "0  0.685522  0.177583  0.354431    48.0  4553.0  52319.0    42.0   \n",
       "1  0.701655  0.264782  0.181586    48.0   157.0  56715.0    42.0   \n",
       "2  0.758730  0.265247  0.094560    44.0     9.0  56863.0    46.0   \n",
       "3  0.791358  0.371911  0.052531    51.0    10.0  56862.0    39.0   \n",
       "4  0.838604  0.407450  0.032233    51.0    10.0  56862.0    39.0   \n",
       "\n",
       "   val_accuracy  val_precision  val_recall   val_auc   val_prc  \n",
       "0      0.919332       0.010433    0.533333  0.695491  0.281716  \n",
       "1      0.996506       0.234146    0.533333  0.758702  0.386218  \n",
       "2      0.999034       0.830189    0.488889  0.802726  0.493526  \n",
       "3      0.999140       0.836066    0.566667  0.835408  0.551700  \n",
       "4      0.999140       0.836066    0.566667  0.856806  0.599336  "
      ]
     },
     "execution_count": 38,
     "metadata": {},
     "output_type": "execute_result"
    }
   ],
   "source": [
    "df.head()"
   ]
  },
  {
   "cell_type": "code",
   "execution_count": 39,
   "id": "7a3d37b7",
   "metadata": {},
   "outputs": [],
   "source": [
    "def plot_metrics(history,label):\n",
    "    plt.plot(history.epoch,history.history[label],label=label)\n",
    "    plt.plot(history.epoch,history.history[\"val_\"+label],label='val_'+label)\n",
    "    plt.legend()\n",
    "    plt.xlabel(\"epochs\")"
   ]
  },
  {
   "cell_type": "code",
   "execution_count": 40,
   "id": "9d124276",
   "metadata": {},
   "outputs": [
    {
     "data": {
      "text/plain": [
       "<matplotlib.legend.Legend at 0x11e2c071308>"
      ]
     },
     "execution_count": 40,
     "metadata": {},
     "output_type": "execute_result"
    },
    {
     "data": {
      "image/png": "[encoded data removed]",
      "text/plain": [
       "<Figure size 640x480 with 4 Axes>"
      ]
     },
     "metadata": {},
     "output_type": "display_data"
    }
   ],
   "source": [
    "fig,axes = plt.subplots(2,2)\n",
    "ax0,ax1,ax2,ax3 = axes.flat\n",
    "ax0.plot(base_line_model.epoch,base_line_model.history['loss'],base_line_model.history['val_loss'],label='loss')\n",
    "ax0.legend()\n",
    "ax1.plot(base_line_model.epoch,base_line_model.history['accuracy'],base_line_model.history['val_accuracy'],label='loss')\n",
    "ax0.legend()\n"
   ]
  },
  {
   "cell_type": "code",
   "execution_count": 41,
   "id": "47bbb9c6",
   "metadata": {},
   "outputs": [],
   "source": [
    "from sklearn.metrics import confusion_matrix"
   ]
  },
  {
   "cell_type": "code",
   "execution_count": 42,
   "id": "a7cdd587",
   "metadata": {},
   "outputs": [
    {
     "name": "stdout",
     "output_type": "stream",
     "text": [
      "1899/1899 [==============================] - 3s 2ms/step\n"
     ]
    }
   ],
   "source": [
    "y_predict = model.predict(X_test_transform,batch_size=30)"
   ]
  },
  {
   "cell_type": "code",
   "execution_count": 61,
   "id": "7b43cd55",
   "metadata": {},
   "outputs": [],
   "source": [
    "y_prediction = np.where(y_predict>0.5,1,0)"
   ]
  },
  {
   "cell_type": "code",
   "execution_count": 44,
   "id": "50130b94",
   "metadata": {},
   "outputs": [],
   "source": [
    "cm = confusion_matrix(y_test,y_prediction)"
   ]
  },
  {
   "cell_type": "code",
   "execution_count": 45,
   "id": "b0be7008",
   "metadata": {},
   "outputs": [
    {
     "data": {
      "image/png": "[encoded data removed]",
      "text/plain": [
       "<Figure size 640x480 with 2 Axes>"
      ]
     },
     "metadata": {},
     "output_type": "display_data"
    }
   ],
   "source": [
    "plt.title(\"Confusion matrix taking 0.5 as boundary\")\n",
    "sns.heatmap(cm,annot=True,fmt='d')\n",
    "plt.show()"
   ]
  },
  {
   "cell_type": "code",
   "execution_count": 46,
   "id": "7ce65c01",
   "metadata": {},
   "outputs": [],
   "source": [
    "# It can be seen that there are some false positive i.e 13 these are those transcation which are flagged off by the system \n",
    "# but these were not fraud ones , false negatives shows that these were predicted as legitimate transcation infact which were not\n",
    "# thus here we should consider reducing false negatives"
   ]
  },
  {
   "cell_type": "code",
   "execution_count": 47,
   "id": "6ec49a3c",
   "metadata": {},
   "outputs": [],
   "source": [
    "#Now plotting ROC to determine the threshold\n",
    "from sklearn.metrics import roc_curve"
   ]
  },
  {
   "cell_type": "code",
   "execution_count": 48,
   "id": "90c13ff1",
   "metadata": {},
   "outputs": [
    {
     "name": "stdout",
     "output_type": "stream",
     "text": [
      "7121/7121 [==============================] - 12s 2ms/step\n"
     ]
    }
   ],
   "source": [
    "y_train_prediction = model.predict(X_train_transform)"
   ]
  },
  {
   "cell_type": "code",
   "execution_count": 49,
   "id": "f621f182",
   "metadata": {},
   "outputs": [],
   "source": [
    "fpr_tr,tpr_tr,thre_tr = roc_curve(y_train,y_train_prediction)"
   ]
  },
  {
   "cell_type": "code",
   "execution_count": 50,
   "id": "beac822a",
   "metadata": {},
   "outputs": [
    {
     "data": {
      "image/png": "[encoded data removed]",
      "text/plain": [
       "<Figure size 640x480 with 1 Axes>"
      ]
     },
     "metadata": {},
     "output_type": "display_data"
    }
   ],
   "source": [
    "fpr,tpr,thre =roc_curve(y_test,y_predict)\n",
    "plt.plot(100*fpr,100*tpr,label=\"Test\")\n",
    "plt.plot(100*fpr_tr,100*tpr_tr,label=\"Train\")\n",
    "plt.xlabel(\"Flase positive rate\")\n",
    "plt.ylabel(\"True positive rate\")\n",
    "plt.grid(\"both\")\n",
    "plt.legend()\n",
    "plt.show()"
   ]
  },
  {
   "cell_type": "code",
   "execution_count": 52,
   "id": "938b7392",
   "metadata": {},
   "outputs": [
    {
     "data": {
      "image/png": "[encoded data removed]",
      "text/plain": [
       "<Figure size 640x480 with 2 Axes>"
      ]
     },
     "metadata": {},
     "output_type": "display_data"
    }
   ],
   "source": [
    "y_prediction = np.where(y_predict>=0.2,1,0)\n",
    "cm = confusion_matrix(y_test,y_prediction)\n",
    "plt.title(\"Confusion matrix taking 0.2 as boundary\")\n",
    "sns.heatmap(cm,annot=True,fmt='d')\n",
    "plt.show()"
   ]
  },
  {
   "cell_type": "code",
   "execution_count": 53,
   "id": "a7846361",
   "metadata": {},
   "outputs": [],
   "source": [
    "from sklearn.metrics import precision_recall_curve"
   ]
  },
  {
   "cell_type": "code",
   "execution_count": 63,
   "id": "474ec41b",
   "metadata": {},
   "outputs": [],
   "source": [
    "#Plotting AUPRC precision recall curve for various thresholds\n",
    "def plot_prc(name,labels,predictions,**kwargs):\n",
    "    pr,rec,thres = precision_recall_curve(labels,predictions)\n",
    "    plt.plot(rec,pr,label=name,**kwargs)\n",
    "    plt.legend()\n",
    "    plt.grid(\"both\")"
   ]
  },
  {
   "cell_type": "code",
   "execution_count": 64,
   "id": "b146aafc",
   "metadata": {},
   "outputs": [],
   "source": [
    "y_train_predict = np.where(y_train_prediction>0.5,1,0)"
   ]
  },
  {
   "cell_type": "code",
   "execution_count": 70,
   "id": "2204132d",
   "metadata": {},
   "outputs": [
    {
     "data": {
      "image/png": "[encoded data removed]",
      "text/plain": [
       "<Figure size 640x480 with 1 Axes>"
      ]
     },
     "metadata": {},
     "output_type": "display_data"
    }
   ],
   "source": [
    "plot_prc(\"Train_AUPRC\",y_train,y_train_predict)\n",
    "plot_prc(\"Test_AUPRC\",y_test,y_prediction)"
   ]
  },
  {
   "cell_type": "code",
   "execution_count": 71,
   "id": "2e0c3841",
   "metadata": {},
   "outputs": [],
   "source": [
    "#here we see that Fraud detection is important thus any positive signal doesnt get missed , thus we should lower false negative\n",
    "# or we can say that we need to increase recall , also we see that if we lower the threshold to decrease false negative we may\n",
    "# end up in classifying more fraud which are actually not fraud and customer needs to check the detail which may further \n",
    "# cause unhappiness thus precision should also be ensured\n"
   ]
  },
  {
   "cell_type": "code",
   "execution_count": 72,
   "id": "17082a7e",
   "metadata": {},
   "outputs": [],
   "source": [
    "#As here we dont have more positive examples due to imbalance data we need\n",
    "# to assign more weight for the few samples that we have during training , this will cause the model to pay more attention\n",
    "# to examples that are underrepresented\n"
   ]
  },
  {
   "cell_type": "code",
   "execution_count": 73,
   "id": "2d8f22c0",
   "metadata": {},
   "outputs": [],
   "source": [
    "weight_for_0 = 0.5*(pos+neg)*(1/neg)\n",
    "weight_for_1 = 0.5*(pos+neg)*(1/pos)"
   ]
  },
  {
   "cell_type": "code",
   "execution_count": 74,
   "id": "a2a042be",
   "metadata": {},
   "outputs": [],
   "source": [
    "class_weights ={0:weight_for_0,1:weight_for_1}"
   ]
  },
  {
   "cell_type": "code",
   "execution_count": 78,
   "id": "b40cf73a",
   "metadata": {},
   "outputs": [
    {
     "data": {
      "text/plain": [
       "2048"
      ]
     },
     "execution_count": 78,
     "metadata": {},
     "output_type": "execute_result"
    }
   ],
   "source": [
    "EPOCHS\n",
    "BATCH_SIZE"
   ]
  },
  {
   "cell_type": "code",
   "execution_count": 80,
   "id": "b56df353",
   "metadata": {},
   "outputs": [
    {
     "name": "stdout",
     "output_type": "stream",
     "text": [
      "Epoch 1/100\n",
      "112/112 [==============================] - ETA: 0s - loss: 0.7452 - tp: 457.0000 - fp: 159980.0000 - tn: 124335.0000 - fn: 35.0000 - accuracy: 0.4382 - precision: 0.0028 - recall: 0.9289 - auc: 0.8480 - prc: 0.0428WARNING:tensorflow:Early stopping conditioned on metric `val_prc` which is not available. Available metrics are: loss,tp,fp,tn,fn,accuracy,precision,recall,auc,prc\n",
      "112/112 [==============================] - 3s 13ms/step - loss: 0.7452 - tp: 457.0000 - fp: 159980.0000 - tn: 124335.0000 - fn: 35.0000 - accuracy: 0.4382 - precision: 0.0028 - recall: 0.9289 - auc: 0.8480 - prc: 0.0428\n",
      "Epoch 2/100\n",
      "111/112 [============================>.] - ETA: 0s - loss: 0.4727 - tp: 386.0000 - fp: 111863.0000 - tn: 115066.0000 - fn: 13.0000 - accuracy: 0.5079 - precision: 0.0034 - recall: 0.9674 - auc: 0.9382 - prc: 0.1814WARNING:tensorflow:Early stopping conditioned on metric `val_prc` which is not available. Available metrics are: loss,tp,fp,tn,fn,accuracy,precision,recall,auc,prc\n",
      "112/112 [==============================] - 1s 12ms/step - loss: 0.4728 - tp: 389.0000 - fp: 112074.0000 - tn: 115369.0000 - fn: 13.0000 - accuracy: 0.5081 - precision: 0.0035 - recall: 0.9677 - auc: 0.9384 - prc: 0.1824\n",
      "Epoch 3/100\n",
      "110/112 [============================>.] - ETA: 0s - loss: 0.3600 - tp: 378.0000 - fp: 69754.0000 - tn: 155126.0000 - fn: 22.0000 - accuracy: 0.6903 - precision: 0.0054 - recall: 0.9450 - auc: 0.9530 - prc: 0.3532WARNING:tensorflow:Early stopping conditioned on metric `val_prc` which is not available. Available metrics are: loss,tp,fp,tn,fn,accuracy,precision,recall,auc,prc\n",
      "112/112 [==============================] - 1s 12ms/step - loss: 0.3588 - tp: 380.0000 - fp: 70352.0000 - tn: 157091.0000 - fn: 22.0000 - accuracy: 0.6911 - precision: 0.0054 - recall: 0.9453 - auc: 0.9534 - prc: 0.3538\n",
      "Epoch 4/100\n",
      "108/112 [===========================>..] - ETA: 0s - loss: 0.3080 - tp: 365.0000 - fp: 37318.0000 - tn: 183474.0000 - fn: 27.0000 - accuracy: 0.8312 - precision: 0.0097 - recall: 0.9311 - auc: 0.9588 - prc: 0.5316WARNING:tensorflow:Early stopping conditioned on metric `val_prc` which is not available. Available metrics are: loss,tp,fp,tn,fn,accuracy,precision,recall,auc,prc\n",
      "112/112 [==============================] - 1s 12ms/step - loss: 0.3056 - tp: 375.0000 - fp: 38083.0000 - tn: 189360.0000 - fn: 27.0000 - accuracy: 0.8327 - precision: 0.0098 - recall: 0.9328 - auc: 0.9599 - prc: 0.5347\n",
      "Epoch 5/100\n",
      "111/112 [============================>.] - ETA: 0s - loss: 0.2509 - tp: 366.0000 - fp: 21945.0000 - tn: 204983.0000 - fn: 34.0000 - accuracy: 0.9033 - precision: 0.0164 - recall: 0.9150 - auc: 0.9687 - prc: 0.6052WARNING:tensorflow:Early stopping conditioned on metric `val_prc` which is not available. Available metrics are: loss,tp,fp,tn,fn,accuracy,precision,recall,auc,prc\n",
      "112/112 [==============================] - 1s 10ms/step - loss: 0.2511 - tp: 368.0000 - fp: 21981.0000 - tn: 205462.0000 - fn: 34.0000 - accuracy: 0.9034 - precision: 0.0165 - recall: 0.9154 - auc: 0.9689 - prc: 0.6048\n",
      "Epoch 6/100\n",
      "109/112 [============================>.] - ETA: 0s - loss: 0.2373 - tp: 363.0000 - fp: 14546.0000 - tn: 208292.0000 - fn: 31.0000 - accuracy: 0.9347 - precision: 0.0243 - recall: 0.9213 - auc: 0.9708 - prc: 0.6488WARNING:tensorflow:Early stopping conditioned on metric `val_prc` which is not available. Available metrics are: loss,tp,fp,tn,fn,accuracy,precision,recall,auc,prc\n",
      "112/112 [==============================] - 1s 11ms/step - loss: 0.2373 - tp: 370.0000 - fp: 14799.0000 - tn: 212644.0000 - fn: 32.0000 - accuracy: 0.9349 - precision: 0.0244 - recall: 0.9204 - auc: 0.9709 - prc: 0.6482\n",
      "Epoch 7/100\n",
      "110/112 [============================>.] - ETA: 0s - loss: 0.2061 - tp: 364.0000 - fp: 10871.0000 - tn: 214011.0000 - fn: 34.0000 - accuracy: 0.9516 - precision: 0.0324 - recall: 0.9146 - auc: 0.9766 - prc: 0.6660WARNING:tensorflow:Early stopping conditioned on metric `val_prc` which is not available. Available metrics are: loss,tp,fp,tn,fn,accuracy,precision,recall,auc,prc\n",
      "112/112 [==============================] - 1s 10ms/step - loss: 0.2061 - tp: 367.0000 - fp: 10954.0000 - tn: 216489.0000 - fn: 35.0000 - accuracy: 0.9518 - precision: 0.0324 - recall: 0.9129 - auc: 0.9767 - prc: 0.6668\n",
      "Epoch 8/100\n",
      "108/112 [===========================>..] - ETA: 0s - loss: 0.1967 - tp: 363.0000 - fp: 8474.0000 - tn: 212315.0000 - fn: 32.0000 - accuracy: 0.9615 - precision: 0.0411 - recall: 0.9190 - auc: 0.9773 - prc: 0.6710WARNING:tensorflow:Early stopping conditioned on metric `val_prc` which is not available. Available metrics are: loss,tp,fp,tn,fn,accuracy,precision,recall,auc,prc\n",
      "112/112 [==============================] - 1s 11ms/step - loss: 0.1945 - tp: 370.0000 - fp: 8731.0000 - tn: 218712.0000 - fn: 32.0000 - accuracy: 0.9615 - precision: 0.0407 - recall: 0.9204 - auc: 0.9777 - prc: 0.6717\n",
      "Epoch 9/100\n",
      "110/112 [============================>.] - ETA: 0s - loss: 0.1921 - tp: 361.0000 - fp: 7728.0000 - tn: 217156.0000 - fn: 35.0000 - accuracy: 0.9655 - precision: 0.0446 - recall: 0.9116 - auc: 0.9765 - prc: 0.6773WARNING:tensorflow:Early stopping conditioned on metric `val_prc` which is not available. Available metrics are: loss,tp,fp,tn,fn,accuracy,precision,recall,auc,prc\n",
      "112/112 [==============================] - 1s 11ms/step - loss: 0.1919 - tp: 367.0000 - fp: 7832.0000 - tn: 219611.0000 - fn: 35.0000 - accuracy: 0.9655 - precision: 0.0448 - recall: 0.9129 - auc: 0.9768 - prc: 0.6762\n",
      "Epoch 10/100\n",
      "112/112 [==============================] - ETA: 0s - loss: 0.1853 - tp: 365.0000 - fp: 7742.0000 - tn: 219701.0000 - fn: 37.0000 - accuracy: 0.9659 - precision: 0.0450 - recall: 0.9080 - auc: 0.9786 - prc: 0.6605WARNING:tensorflow:Early stopping conditioned on metric `val_prc` which is not available. Available metrics are: loss,tp,fp,tn,fn,accuracy,precision,recall,auc,prc\n",
      "112/112 [==============================] - 1s 11ms/step - loss: 0.1853 - tp: 365.0000 - fp: 7742.0000 - tn: 219701.0000 - fn: 37.0000 - accuracy: 0.9659 - precision: 0.0450 - recall: 0.9080 - auc: 0.9786 - prc: 0.6605\n",
      "Epoch 11/100\n",
      "107/112 [===========================>..] - ETA: 0s - loss: 0.1706 - tp: 356.0000 - fp: 7409.0000 - tn: 211337.0000 - fn: 34.0000 - accuracy: 0.9660 - precision: 0.0458 - recall: 0.9128 - auc: 0.9828 - prc: 0.6475WARNING:tensorflow:Early stopping conditioned on metric `val_prc` which is not available. Available metrics are: loss,tp,fp,tn,fn,accuracy,precision,recall,auc,prc\n",
      "112/112 [==============================] - 1s 11ms/step - loss: 0.1761 - tp: 366.0000 - fp: 7704.0000 - tn: 219739.0000 - fn: 36.0000 - accuracy: 0.9660 - precision: 0.0454 - recall: 0.9104 - auc: 0.9806 - prc: 0.6420\n",
      "Epoch 12/100\n",
      "110/112 [============================>.] - ETA: 0s - loss: 0.1694 - tp: 366.0000 - fp: 7233.0000 - tn: 217649.0000 - fn: 32.0000 - accuracy: 0.9678 - precision: 0.0482 - recall: 0.9196 - auc: 0.9823 - prc: 0.6549WARNING:tensorflow:Early stopping conditioned on metric `val_prc` which is not available. Available metrics are: loss,tp,fp,tn,fn,accuracy,precision,recall,auc,prc\n",
      "112/112 [==============================] - 1s 11ms/step - loss: 0.1686 - tp: 370.0000 - fp: 7309.0000 - tn: 220134.0000 - fn: 32.0000 - accuracy: 0.9678 - precision: 0.0482 - recall: 0.9204 - auc: 0.9825 - prc: 0.6551\n",
      "Epoch 13/100\n",
      "109/112 [============================>.] - ETA: 0s - loss: 0.1636 - tp: 372.0000 - fp: 7122.0000 - tn: 215711.0000 - fn: 27.0000 - accuracy: 0.9680 - precision: 0.0496 - recall: 0.9323 - auc: 0.9840 - prc: 0.6235WARNING:tensorflow:Early stopping conditioned on metric `val_prc` which is not available. Available metrics are: loss,tp,fp,tn,fn,accuracy,precision,recall,auc,prc\n",
      "112/112 [==============================] - 1s 12ms/step - loss: 0.1620 - tp: 375.0000 - fp: 7274.0000 - tn: 220169.0000 - fn: 27.0000 - accuracy: 0.9680 - precision: 0.0490 - recall: 0.9328 - auc: 0.9841 - prc: 0.6255\n",
      "Epoch 14/100\n",
      "109/112 [============================>.] - ETA: 0s - loss: 0.1650 - tp: 360.0000 - fp: 7049.0000 - tn: 215790.0000 - fn: 33.0000 - accuracy: 0.9683 - precision: 0.0486 - recall: 0.9160 - auc: 0.9821 - prc: 0.6216WARNING:tensorflow:Early stopping conditioned on metric `val_prc` which is not available. Available metrics are: loss,tp,fp,tn,fn,accuracy,precision,recall,auc,prc\n"
     ]
    },
    {
     "name": "stdout",
     "output_type": "stream",
     "text": [
      "112/112 [==============================] - 1s 12ms/step - loss: 0.1639 - tp: 369.0000 - fp: 7166.0000 - tn: 220277.0000 - fn: 33.0000 - accuracy: 0.9684 - precision: 0.0490 - recall: 0.9179 - auc: 0.9825 - prc: 0.6249\n",
      "Epoch 15/100\n",
      "112/112 [==============================] - ETA: 0s - loss: 0.1582 - tp: 369.0000 - fp: 7080.0000 - tn: 220363.0000 - fn: 33.0000 - accuracy: 0.9688 - precision: 0.0495 - recall: 0.9179 - auc: 0.9832 - prc: 0.6331WARNING:tensorflow:Early stopping conditioned on metric `val_prc` which is not available. Available metrics are: loss,tp,fp,tn,fn,accuracy,precision,recall,auc,prc\n",
      "112/112 [==============================] - 1s 11ms/step - loss: 0.1582 - tp: 369.0000 - fp: 7080.0000 - tn: 220363.0000 - fn: 33.0000 - accuracy: 0.9688 - precision: 0.0495 - recall: 0.9179 - auc: 0.9832 - prc: 0.6331\n",
      "Epoch 16/100\n",
      "107/112 [===========================>..] - ETA: 0s - loss: 0.1555 - tp: 352.0000 - fp: 6700.0000 - tn: 212053.0000 - fn: 31.0000 - accuracy: 0.9693 - precision: 0.0499 - recall: 0.9191 - auc: 0.9839 - prc: 0.6351WARNING:tensorflow:Early stopping conditioned on metric `val_prc` which is not available. Available metrics are: loss,tp,fp,tn,fn,accuracy,precision,recall,auc,prc\n",
      "112/112 [==============================] - 1s 11ms/step - loss: 0.1531 - tp: 371.0000 - fp: 6989.0000 - tn: 220454.0000 - fn: 31.0000 - accuracy: 0.9692 - precision: 0.0504 - recall: 0.9229 - auc: 0.9847 - prc: 0.6439\n",
      "Epoch 17/100\n",
      "108/112 [===========================>..] - ETA: 0s - loss: 0.1595 - tp: 356.0000 - fp: 6723.0000 - tn: 214071.0000 - fn: 34.0000 - accuracy: 0.9695 - precision: 0.0503 - recall: 0.9128 - auc: 0.9817 - prc: 0.6497WARNING:tensorflow:Early stopping conditioned on metric `val_prc` which is not available. Available metrics are: loss,tp,fp,tn,fn,accuracy,precision,recall,auc,prc\n",
      "112/112 [==============================] - 1s 10ms/step - loss: 0.1586 - tp: 368.0000 - fp: 6906.0000 - tn: 220537.0000 - fn: 34.0000 - accuracy: 0.9695 - precision: 0.0506 - recall: 0.9154 - auc: 0.9821 - prc: 0.6492\n",
      "Epoch 18/100\n",
      "111/112 [============================>.] - ETA: 0s - loss: 0.1446 - tp: 375.0000 - fp: 6922.0000 - tn: 220005.0000 - fn: 26.0000 - accuracy: 0.9694 - precision: 0.0514 - recall: 0.9352 - auc: 0.9873 - prc: 0.6451WARNING:tensorflow:Early stopping conditioned on metric `val_prc` which is not available. Available metrics are: loss,tp,fp,tn,fn,accuracy,precision,recall,auc,prc\n",
      "112/112 [==============================] - 1s 10ms/step - loss: 0.1444 - tp: 376.0000 - fp: 6933.0000 - tn: 220510.0000 - fn: 26.0000 - accuracy: 0.9695 - precision: 0.0514 - recall: 0.9353 - auc: 0.9873 - prc: 0.6444\n",
      "Epoch 19/100\n",
      "107/112 [===========================>..] - ETA: 0s - loss: 0.1473 - tp: 353.0000 - fp: 6419.0000 - tn: 212332.0000 - fn: 32.0000 - accuracy: 0.9706 - precision: 0.0521 - recall: 0.9169 - auc: 0.9846 - prc: 0.6574WARNING:tensorflow:Early stopping conditioned on metric `val_prc` which is not available. Available metrics are: loss,tp,fp,tn,fn,accuracy,precision,recall,auc,prc\n",
      "112/112 [==============================] - 1s 11ms/step - loss: 0.1490 - tp: 368.0000 - fp: 6645.0000 - tn: 220798.0000 - fn: 34.0000 - accuracy: 0.9707 - precision: 0.0525 - recall: 0.9154 - auc: 0.9844 - prc: 0.6582\n",
      "Epoch 20/100\n",
      "112/112 [==============================] - ETA: 0s - loss: 0.1413 - tp: 371.0000 - fp: 6855.0000 - tn: 220588.0000 - fn: 31.0000 - accuracy: 0.9698 - precision: 0.0513 - recall: 0.9229 - auc: 0.9878 - prc: 0.6117WARNING:tensorflow:Early stopping conditioned on metric `val_prc` which is not available. Available metrics are: loss,tp,fp,tn,fn,accuracy,precision,recall,auc,prc\n",
      "112/112 [==============================] - 1s 12ms/step - loss: 0.1413 - tp: 371.0000 - fp: 6855.0000 - tn: 220588.0000 - fn: 31.0000 - accuracy: 0.9698 - precision: 0.0513 - recall: 0.9229 - auc: 0.9878 - prc: 0.6117\n",
      "Epoch 21/100\n",
      "109/112 [============================>.] - ETA: 0s - loss: 0.1496 - tp: 361.0000 - fp: 6486.0000 - tn: 216353.0000 - fn: 32.0000 - accuracy: 0.9708 - precision: 0.0527 - recall: 0.9186 - auc: 0.9843 - prc: 0.6214WARNING:tensorflow:Early stopping conditioned on metric `val_prc` which is not available. Available metrics are: loss,tp,fp,tn,fn,accuracy,precision,recall,auc,prc\n",
      "112/112 [==============================] - 1s 12ms/step - loss: 0.1509 - tp: 368.0000 - fp: 6631.0000 - tn: 220812.0000 - fn: 34.0000 - accuracy: 0.9707 - precision: 0.0526 - recall: 0.9154 - auc: 0.9842 - prc: 0.6183\n",
      "Epoch 22/100\n",
      "112/112 [==============================] - ETA: 0s - loss: 0.1359 - tp: 377.0000 - fp: 7023.0000 - tn: 220420.0000 - fn: 25.0000 - accuracy: 0.9691 - precision: 0.0509 - recall: 0.9378 - auc: 0.9884 - prc: 0.6229WARNING:tensorflow:Early stopping conditioned on metric `val_prc` which is not available. Available metrics are: loss,tp,fp,tn,fn,accuracy,precision,recall,auc,prc\n",
      "112/112 [==============================] - 1s 11ms/step - loss: 0.1359 - tp: 377.0000 - fp: 7023.0000 - tn: 220420.0000 - fn: 25.0000 - accuracy: 0.9691 - precision: 0.0509 - recall: 0.9378 - auc: 0.9884 - prc: 0.6229\n",
      "Epoch 23/100\n",
      "109/112 [============================>.] - ETA: 0s - loss: 0.1353 - tp: 369.0000 - fp: 6829.0000 - tn: 216005.0000 - fn: 29.0000 - accuracy: 0.9693 - precision: 0.0513 - recall: 0.9271 - auc: 0.9887 - prc: 0.6217WARNING:tensorflow:Early stopping conditioned on metric `val_prc` which is not available. Available metrics are: loss,tp,fp,tn,fn,accuracy,precision,recall,auc,prc\n",
      "112/112 [==============================] - 1s 11ms/step - loss: 0.1350 - tp: 372.0000 - fp: 6961.0000 - tn: 220482.0000 - fn: 30.0000 - accuracy: 0.9693 - precision: 0.0507 - recall: 0.9254 - auc: 0.9887 - prc: 0.6182\n",
      "Epoch 24/100\n",
      "111/112 [============================>.] - ETA: 0s - loss: 0.1398 - tp: 374.0000 - fp: 6950.0000 - tn: 219977.0000 - fn: 27.0000 - accuracy: 0.9693 - precision: 0.0511 - recall: 0.9327 - auc: 0.9871 - prc: 0.6134WARNING:tensorflow:Early stopping conditioned on metric `val_prc` which is not available. Available metrics are: loss,tp,fp,tn,fn,accuracy,precision,recall,auc,prc\n",
      "112/112 [==============================] - 1s 12ms/step - loss: 0.1396 - tp: 375.0000 - fp: 6964.0000 - tn: 220479.0000 - fn: 27.0000 - accuracy: 0.9693 - precision: 0.0511 - recall: 0.9328 - auc: 0.9872 - prc: 0.6128\n",
      "Epoch 25/100\n",
      "109/112 [============================>.] - ETA: 0s - loss: 0.1295 - tp: 368.0000 - fp: 6662.0000 - tn: 216173.0000 - fn: 29.0000 - accuracy: 0.9700 - precision: 0.0523 - recall: 0.9270 - auc: 0.9898 - prc: 0.6095WARNING:tensorflow:Early stopping conditioned on metric `val_prc` which is not available. Available metrics are: loss,tp,fp,tn,fn,accuracy,precision,recall,auc,prc\n",
      "112/112 [==============================] - 1s 11ms/step - loss: 0.1309 - tp: 372.0000 - fp: 6791.0000 - tn: 220652.0000 - fn: 30.0000 - accuracy: 0.9701 - precision: 0.0519 - recall: 0.9254 - auc: 0.9893 - prc: 0.6082\n",
      "Epoch 26/100\n",
      "109/112 [============================>.] - ETA: 0s - loss: 0.1398 - tp: 363.0000 - fp: 6089.0000 - tn: 216750.0000 - fn: 30.0000 - accuracy: 0.9726 - precision: 0.0563 - recall: 0.9237 - auc: 0.9859 - prc: 0.6345WARNING:tensorflow:Early stopping conditioned on metric `val_prc` which is not available. Available metrics are: loss,tp,fp,tn,fn,accuracy,precision,recall,auc,prc\n",
      "112/112 [==============================] - 1s 10ms/step - loss: 0.1381 - tp: 372.0000 - fp: 6218.0000 - tn: 221225.0000 - fn: 30.0000 - accuracy: 0.9726 - precision: 0.0564 - recall: 0.9254 - auc: 0.9862 - prc: 0.6399\n",
      "Epoch 27/100\n",
      "109/112 [============================>.] - ETA: 0s - loss: 0.1432 - tp: 362.0000 - fp: 6239.0000 - tn: 216601.0000 - fn: 30.0000 - accuracy: 0.9719 - precision: 0.0548 - recall: 0.9235 - auc: 0.9859 - prc: 0.5835WARNING:tensorflow:Early stopping conditioned on metric `val_prc` which is not available. Available metrics are: loss,tp,fp,tn,fn,accuracy,precision,recall,auc,prc\n",
      "112/112 [==============================] - 1s 11ms/step - loss: 0.1415 - tp: 372.0000 - fp: 6359.0000 - tn: 221084.0000 - fn: 30.0000 - accuracy: 0.9720 - precision: 0.0553 - recall: 0.9254 - auc: 0.9863 - prc: 0.5882\n",
      "Epoch 28/100\n"
     ]
    },
    {
     "name": "stdout",
     "output_type": "stream",
     "text": [
      "111/112 [============================>.] - ETA: 0s - loss: 0.1288 - tp: 371.0000 - fp: 6630.0000 - tn: 220299.0000 - fn: 28.0000 - accuracy: 0.9707 - precision: 0.0530 - recall: 0.9298 - auc: 0.9893 - prc: 0.6172WARNING:tensorflow:Early stopping conditioned on metric `val_prc` which is not available. Available metrics are: loss,tp,fp,tn,fn,accuracy,precision,recall,auc,prc\n",
      "112/112 [==============================] - 1s 11ms/step - loss: 0.1298 - tp: 373.0000 - fp: 6642.0000 - tn: 220801.0000 - fn: 29.0000 - accuracy: 0.9707 - precision: 0.0532 - recall: 0.9279 - auc: 0.9893 - prc: 0.6160\n",
      "Epoch 29/100\n",
      "112/112 [==============================] - ETA: 0s - loss: 0.1367 - tp: 372.0000 - fp: 6812.0000 - tn: 220631.0000 - fn: 30.0000 - accuracy: 0.9700 - precision: 0.0518 - recall: 0.9254 - auc: 0.9872 - prc: 0.6109WARNING:tensorflow:Early stopping conditioned on metric `val_prc` which is not available. Available metrics are: loss,tp,fp,tn,fn,accuracy,precision,recall,auc,prc\n",
      "112/112 [==============================] - 1s 11ms/step - loss: 0.1367 - tp: 372.0000 - fp: 6812.0000 - tn: 220631.0000 - fn: 30.0000 - accuracy: 0.9700 - precision: 0.0518 - recall: 0.9254 - auc: 0.9872 - prc: 0.6109\n",
      "Epoch 30/100\n",
      "111/112 [============================>.] - ETA: 0s - loss: 0.1289 - tp: 373.0000 - fp: 7348.0000 - tn: 219579.0000 - fn: 28.0000 - accuracy: 0.9676 - precision: 0.0483 - recall: 0.9302 - auc: 0.9890 - prc: 0.6074WARNING:tensorflow:Early stopping conditioned on metric `val_prc` which is not available. Available metrics are: loss,tp,fp,tn,fn,accuracy,precision,recall,auc,prc\n",
      "112/112 [==============================] - 1s 11ms/step - loss: 0.1288 - tp: 374.0000 - fp: 7359.0000 - tn: 220084.0000 - fn: 28.0000 - accuracy: 0.9676 - precision: 0.0484 - recall: 0.9303 - auc: 0.9891 - prc: 0.6082\n",
      "Epoch 31/100\n",
      "108/112 [===========================>..] - ETA: 0s - loss: 0.1322 - tp: 362.0000 - fp: 6584.0000 - tn: 214212.0000 - fn: 26.0000 - accuracy: 0.9701 - precision: 0.0521 - recall: 0.9330 - auc: 0.9888 - prc: 0.6051WARNING:tensorflow:Early stopping conditioned on metric `val_prc` which is not available. Available metrics are: loss,tp,fp,tn,fn,accuracy,precision,recall,auc,prc\n",
      "112/112 [==============================] - 1s 11ms/step - loss: 0.1308 - tp: 376.0000 - fp: 6795.0000 - tn: 220648.0000 - fn: 26.0000 - accuracy: 0.9701 - precision: 0.0524 - recall: 0.9353 - auc: 0.9891 - prc: 0.6085\n",
      "Epoch 32/100\n",
      "108/112 [===========================>..] - ETA: 0s - loss: 0.1265 - tp: 363.0000 - fp: 6700.0000 - tn: 214096.0000 - fn: 25.0000 - accuracy: 0.9696 - precision: 0.0514 - recall: 0.9356 - auc: 0.9894 - prc: 0.6051WARNING:tensorflow:Early stopping conditioned on metric `val_prc` which is not available. Available metrics are: loss,tp,fp,tn,fn,accuracy,precision,recall,auc,prc\n",
      "112/112 [==============================] - 1s 11ms/step - loss: 0.1277 - tp: 375.0000 - fp: 6892.0000 - tn: 220551.0000 - fn: 27.0000 - accuracy: 0.9696 - precision: 0.0516 - recall: 0.9328 - auc: 0.9893 - prc: 0.6039\n",
      "Epoch 33/100\n",
      "109/112 [============================>.] - ETA: 0s - loss: 0.1244 - tp: 369.0000 - fp: 6306.0000 - tn: 216529.0000 - fn: 28.0000 - accuracy: 0.9716 - precision: 0.0553 - recall: 0.9295 - auc: 0.9904 - prc: 0.6372WARNING:tensorflow:Early stopping conditioned on metric `val_prc` which is not available. Available metrics are: loss,tp,fp,tn,fn,accuracy,precision,recall,auc,prc\n",
      "112/112 [==============================] - 1s 12ms/step - loss: 0.1255 - tp: 373.0000 - fp: 6447.0000 - tn: 220996.0000 - fn: 29.0000 - accuracy: 0.9716 - precision: 0.0547 - recall: 0.9279 - auc: 0.9903 - prc: 0.6233\n",
      "Epoch 34/100\n",
      "108/112 [===========================>..] - ETA: 0s - loss: 0.1303 - tp: 357.0000 - fp: 6139.0000 - tn: 214657.0000 - fn: 31.0000 - accuracy: 0.9721 - precision: 0.0550 - recall: 0.9201 - auc: 0.9885 - prc: 0.6106WARNING:tensorflow:Early stopping conditioned on metric `val_prc` which is not available. Available metrics are: loss,tp,fp,tn,fn,accuracy,precision,recall,auc,prc\n",
      "112/112 [==============================] - 1s 10ms/step - loss: 0.1286 - tp: 371.0000 - fp: 6349.0000 - tn: 221094.0000 - fn: 31.0000 - accuracy: 0.9720 - precision: 0.0552 - recall: 0.9229 - auc: 0.9889 - prc: 0.6132\n",
      "Epoch 35/100\n",
      "112/112 [==============================] - ETA: 0s - loss: 0.1219 - tp: 378.0000 - fp: 6639.0000 - tn: 220804.0000 - fn: 24.0000 - accuracy: 0.9708 - precision: 0.0539 - recall: 0.9403 - auc: 0.9898 - prc: 0.6155WARNING:tensorflow:Early stopping conditioned on metric `val_prc` which is not available. Available metrics are: loss,tp,fp,tn,fn,accuracy,precision,recall,auc,prc\n",
      "112/112 [==============================] - 1s 11ms/step - loss: 0.1219 - tp: 378.0000 - fp: 6639.0000 - tn: 220804.0000 - fn: 24.0000 - accuracy: 0.9708 - precision: 0.0539 - recall: 0.9403 - auc: 0.9898 - prc: 0.6155\n",
      "Epoch 36/100\n",
      "110/112 [============================>.] - ETA: 0s - loss: 0.1294 - tp: 365.0000 - fp: 6177.0000 - tn: 218709.0000 - fn: 29.0000 - accuracy: 0.9725 - precision: 0.0558 - recall: 0.9264 - auc: 0.9885 - prc: 0.6172WARNING:tensorflow:Early stopping conditioned on metric `val_prc` which is not available. Available metrics are: loss,tp,fp,tn,fn,accuracy,precision,recall,auc,prc\n",
      "112/112 [==============================] - 1s 11ms/step - loss: 0.1292 - tp: 373.0000 - fp: 6247.0000 - tn: 221196.0000 - fn: 29.0000 - accuracy: 0.9725 - precision: 0.0563 - recall: 0.9279 - auc: 0.9887 - prc: 0.6202\n",
      "Epoch 37/100\n",
      "112/112 [==============================] - ETA: 0s - loss: 0.1130 - tp: 379.0000 - fp: 6494.0000 - tn: 220949.0000 - fn: 23.0000 - accuracy: 0.9714 - precision: 0.0551 - recall: 0.9428 - auc: 0.9934 - prc: 0.5963WARNING:tensorflow:Early stopping conditioned on metric `val_prc` which is not available. Available metrics are: loss,tp,fp,tn,fn,accuracy,precision,recall,auc,prc\n",
      "112/112 [==============================] - 1s 11ms/step - loss: 0.1130 - tp: 379.0000 - fp: 6494.0000 - tn: 220949.0000 - fn: 23.0000 - accuracy: 0.9714 - precision: 0.0551 - recall: 0.9428 - auc: 0.9934 - prc: 0.5963\n",
      "Epoch 38/100\n",
      "112/112 [==============================] - ETA: 0s - loss: 0.1238 - tp: 374.0000 - fp: 6687.0000 - tn: 220756.0000 - fn: 28.0000 - accuracy: 0.9705 - precision: 0.0530 - recall: 0.9303 - auc: 0.9895 - prc: 0.6061WARNING:tensorflow:Early stopping conditioned on metric `val_prc` which is not available. Available metrics are: loss,tp,fp,tn,fn,accuracy,precision,recall,auc,prc\n",
      "112/112 [==============================] - 1s 11ms/step - loss: 0.1238 - tp: 374.0000 - fp: 6687.0000 - tn: 220756.0000 - fn: 28.0000 - accuracy: 0.9705 - precision: 0.0530 - recall: 0.9303 - auc: 0.9895 - prc: 0.6061\n",
      "Epoch 39/100\n",
      "111/112 [============================>.] - ETA: 0s - loss: 0.1298 - tp: 372.0000 - fp: 6412.0000 - tn: 220517.0000 - fn: 27.0000 - accuracy: 0.9717 - precision: 0.0548 - recall: 0.9323 - auc: 0.9881 - prc: 0.6031WARNING:tensorflow:Early stopping conditioned on metric `val_prc` which is not available. Available metrics are: loss,tp,fp,tn,fn,accuracy,precision,recall,auc,prc\n",
      "112/112 [==============================] - 1s 11ms/step - loss: 0.1297 - tp: 375.0000 - fp: 6429.0000 - tn: 221014.0000 - fn: 27.0000 - accuracy: 0.9717 - precision: 0.0551 - recall: 0.9328 - auc: 0.9882 - prc: 0.6056\n",
      "Epoch 40/100\n",
      "112/112 [==============================] - ETA: 0s - loss: 0.1168 - tp: 381.0000 - fp: 6801.0000 - tn: 220642.0000 - fn: 21.0000 - accuracy: 0.9701 - precision: 0.0530 - recall: 0.9478 - auc: 0.9915 - prc: 0.5981WARNING:tensorflow:Early stopping conditioned on metric `val_prc` which is not available. Available metrics are: loss,tp,fp,tn,fn,accuracy,precision,recall,auc,prc\n",
      "112/112 [==============================] - 1s 11ms/step - loss: 0.1168 - tp: 381.0000 - fp: 6801.0000 - tn: 220642.0000 - fn: 21.0000 - accuracy: 0.9701 - precision: 0.0530 - recall: 0.9478 - auc: 0.9915 - prc: 0.5981\n",
      "Epoch 41/100\n",
      "110/112 [============================>.] - ETA: 0s - loss: 0.1231 - tp: 373.0000 - fp: 6105.0000 - tn: 218779.0000 - fn: 23.0000 - accuracy: 0.9728 - precision: 0.0576 - recall: 0.9419 - auc: 0.9891 - prc: 0.6230WARNING:tensorflow:Early stopping conditioned on metric `val_prc` which is not available. Available metrics are: loss,tp,fp,tn,fn,accuracy,precision,recall,auc,prc\n"
     ]
    },
    {
     "name": "stdout",
     "output_type": "stream",
     "text": [
      "112/112 [==============================] - 1s 11ms/step - loss: 0.1224 - tp: 379.0000 - fp: 6195.0000 - tn: 221248.0000 - fn: 23.0000 - accuracy: 0.9727 - precision: 0.0577 - recall: 0.9428 - auc: 0.9892 - prc: 0.6249\n",
      "Epoch 42/100\n",
      "108/112 [===========================>..] - ETA: 0s - loss: 0.1290 - tp: 368.0000 - fp: 6033.0000 - tn: 214759.0000 - fn: 24.0000 - accuracy: 0.9726 - precision: 0.0575 - recall: 0.9388 - auc: 0.9882 - prc: 0.5939WARNING:tensorflow:Early stopping conditioned on metric `val_prc` which is not available. Available metrics are: loss,tp,fp,tn,fn,accuracy,precision,recall,auc,prc\n",
      "112/112 [==============================] - 1s 11ms/step - loss: 0.1271 - tp: 378.0000 - fp: 6207.0000 - tn: 221236.0000 - fn: 24.0000 - accuracy: 0.9727 - precision: 0.0574 - recall: 0.9403 - auc: 0.9885 - prc: 0.5939\n",
      "Epoch 43/100\n",
      "108/112 [===========================>..] - ETA: 0s - loss: 0.1128 - tp: 364.0000 - fp: 5768.0000 - tn: 215029.0000 - fn: 23.0000 - accuracy: 0.9738 - precision: 0.0594 - recall: 0.9406 - auc: 0.9919 - prc: 0.6099WARNING:tensorflow:Early stopping conditioned on metric `val_prc` which is not available. Available metrics are: loss,tp,fp,tn,fn,accuracy,precision,recall,auc,prc\n",
      "112/112 [==============================] - 1s 12ms/step - loss: 0.1201 - tp: 376.0000 - fp: 5979.0000 - tn: 221464.0000 - fn: 26.0000 - accuracy: 0.9736 - precision: 0.0592 - recall: 0.9353 - auc: 0.9905 - prc: 0.5979\n",
      "Epoch 44/100\n",
      "112/112 [==============================] - ETA: 0s - loss: 0.1158 - tp: 384.0000 - fp: 6331.0000 - tn: 221112.0000 - fn: 18.0000 - accuracy: 0.9721 - precision: 0.0572 - recall: 0.9552 - auc: 0.9912 - prc: 0.6082WARNING:tensorflow:Early stopping conditioned on metric `val_prc` which is not available. Available metrics are: loss,tp,fp,tn,fn,accuracy,precision,recall,auc,prc\n",
      "112/112 [==============================] - 1s 11ms/step - loss: 0.1158 - tp: 384.0000 - fp: 6331.0000 - tn: 221112.0000 - fn: 18.0000 - accuracy: 0.9721 - precision: 0.0572 - recall: 0.9552 - auc: 0.9912 - prc: 0.6082\n",
      "Epoch 45/100\n",
      "111/112 [============================>.] - ETA: 0s - loss: 0.1163 - tp: 378.0000 - fp: 6025.0000 - tn: 220902.0000 - fn: 23.0000 - accuracy: 0.9734 - precision: 0.0590 - recall: 0.9426 - auc: 0.9912 - prc: 0.6162WARNING:tensorflow:Early stopping conditioned on metric `val_prc` which is not available. Available metrics are: loss,tp,fp,tn,fn,accuracy,precision,recall,auc,prc\n",
      "112/112 [==============================] - 1s 11ms/step - loss: 0.1162 - tp: 379.0000 - fp: 6037.0000 - tn: 221406.0000 - fn: 23.0000 - accuracy: 0.9734 - precision: 0.0591 - recall: 0.9428 - auc: 0.9913 - prc: 0.6170\n",
      "Epoch 46/100\n",
      "111/112 [============================>.] - ETA: 0s - loss: 0.1210 - tp: 377.0000 - fp: 6104.0000 - tn: 220822.0000 - fn: 25.0000 - accuracy: 0.9730 - precision: 0.0582 - recall: 0.9378 - auc: 0.9902 - prc: 0.6244WARNING:tensorflow:Early stopping conditioned on metric `val_prc` which is not available. Available metrics are: loss,tp,fp,tn,fn,accuracy,precision,recall,auc,prc\n",
      "112/112 [==============================] - 1s 11ms/step - loss: 0.1208 - tp: 377.0000 - fp: 6120.0000 - tn: 221323.0000 - fn: 25.0000 - accuracy: 0.9730 - precision: 0.0580 - recall: 0.9378 - auc: 0.9902 - prc: 0.6243\n",
      "Epoch 47/100\n",
      "111/112 [============================>.] - ETA: 0s - loss: 0.1213 - tp: 377.0000 - fp: 6033.0000 - tn: 220895.0000 - fn: 23.0000 - accuracy: 0.9734 - precision: 0.0588 - recall: 0.9425 - auc: 0.9897 - prc: 0.6175WARNING:tensorflow:Early stopping conditioned on metric `val_prc` which is not available. Available metrics are: loss,tp,fp,tn,fn,accuracy,precision,recall,auc,prc\n",
      "112/112 [==============================] - 1s 11ms/step - loss: 0.1212 - tp: 379.0000 - fp: 6044.0000 - tn: 221399.0000 - fn: 23.0000 - accuracy: 0.9734 - precision: 0.0590 - recall: 0.9428 - auc: 0.9897 - prc: 0.6191\n",
      "Epoch 48/100\n",
      "109/112 [============================>.] - ETA: 0s - loss: 0.1221 - tp: 370.0000 - fp: 6100.0000 - tn: 216737.0000 - fn: 25.0000 - accuracy: 0.9726 - precision: 0.0572 - recall: 0.9367 - auc: 0.9899 - prc: 0.6068WARNING:tensorflow:Early stopping conditioned on metric `val_prc` which is not available. Available metrics are: loss,tp,fp,tn,fn,accuracy,precision,recall,auc,prc\n",
      "112/112 [==============================] - 1s 11ms/step - loss: 0.1230 - tp: 375.0000 - fp: 6218.0000 - tn: 221225.0000 - fn: 27.0000 - accuracy: 0.9726 - precision: 0.0569 - recall: 0.9328 - auc: 0.9899 - prc: 0.6040\n",
      "Epoch 49/100\n",
      "111/112 [============================>.] - ETA: 0s - loss: 0.1143 - tp: 377.0000 - fp: 6114.0000 - tn: 220815.0000 - fn: 22.0000 - accuracy: 0.9730 - precision: 0.0581 - recall: 0.9449 - auc: 0.9911 - prc: 0.6382WARNING:tensorflow:Early stopping conditioned on metric `val_prc` which is not available. Available metrics are: loss,tp,fp,tn,fn,accuracy,precision,recall,auc,prc\n",
      "112/112 [==============================] - 1s 11ms/step - loss: 0.1160 - tp: 379.0000 - fp: 6135.0000 - tn: 221308.0000 - fn: 23.0000 - accuracy: 0.9730 - precision: 0.0582 - recall: 0.9428 - auc: 0.9909 - prc: 0.6365\n",
      "Epoch 50/100\n",
      "111/112 [============================>.] - ETA: 0s - loss: 0.1219 - tp: 381.0000 - fp: 6496.0000 - tn: 220432.0000 - fn: 19.0000 - accuracy: 0.9713 - precision: 0.0554 - recall: 0.9525 - auc: 0.9897 - prc: 0.6077WARNING:tensorflow:Early stopping conditioned on metric `val_prc` which is not available. Available metrics are: loss,tp,fp,tn,fn,accuracy,precision,recall,auc,prc\n",
      "112/112 [==============================] - 1s 11ms/step - loss: 0.1233 - tp: 382.0000 - fp: 6512.0000 - tn: 220931.0000 - fn: 20.0000 - accuracy: 0.9713 - precision: 0.0554 - recall: 0.9502 - auc: 0.9895 - prc: 0.6071\n",
      "Epoch 51/100\n",
      "110/112 [============================>.] - ETA: 0s - loss: 0.1157 - tp: 370.0000 - fp: 6510.0000 - tn: 218371.0000 - fn: 29.0000 - accuracy: 0.9710 - precision: 0.0538 - recall: 0.9273 - auc: 0.9921 - prc: 0.6020WARNING:tensorflow:Early stopping conditioned on metric `val_prc` which is not available. Available metrics are: loss,tp,fp,tn,fn,accuracy,precision,recall,auc,prc\n",
      "112/112 [==============================] - 1s 11ms/step - loss: 0.1153 - tp: 373.0000 - fp: 6574.0000 - tn: 220869.0000 - fn: 29.0000 - accuracy: 0.9710 - precision: 0.0537 - recall: 0.9279 - auc: 0.9921 - prc: 0.6011\n",
      "Epoch 52/100\n",
      "112/112 [==============================] - ETA: 0s - loss: 0.1152 - tp: 378.0000 - fp: 6453.0000 - tn: 220990.0000 - fn: 24.0000 - accuracy: 0.9716 - precision: 0.0553 - recall: 0.9403 - auc: 0.9914 - prc: 0.6056WARNING:tensorflow:Early stopping conditioned on metric `val_prc` which is not available. Available metrics are: loss,tp,fp,tn,fn,accuracy,precision,recall,auc,prc\n",
      "112/112 [==============================] - 1s 11ms/step - loss: 0.1152 - tp: 378.0000 - fp: 6453.0000 - tn: 220990.0000 - fn: 24.0000 - accuracy: 0.9716 - precision: 0.0553 - recall: 0.9403 - auc: 0.9914 - prc: 0.6056\n",
      "Epoch 53/100\n",
      "110/112 [============================>.] - ETA: 0s - loss: 0.1059 - tp: 372.0000 - fp: 6155.0000 - tn: 218730.0000 - fn: 23.0000 - accuracy: 0.9726 - precision: 0.0570 - recall: 0.9418 - auc: 0.9936 - prc: 0.6360WARNING:tensorflow:Early stopping conditioned on metric `val_prc` which is not available. Available metrics are: loss,tp,fp,tn,fn,accuracy,precision,recall,auc,prc\n",
      "112/112 [==============================] - 1s 11ms/step - loss: 0.1067 - tp: 378.0000 - fp: 6213.0000 - tn: 221230.0000 - fn: 24.0000 - accuracy: 0.9726 - precision: 0.0574 - recall: 0.9403 - auc: 0.9936 - prc: 0.6377\n",
      "Epoch 54/100\n",
      "112/112 [==============================] - ETA: 0s - loss: 0.1108 - tp: 379.0000 - fp: 6049.0000 - tn: 221394.0000 - fn: 23.0000 - accuracy: 0.9734 - precision: 0.0590 - recall: 0.9428 - auc: 0.9926 - prc: 0.6138WARNING:tensorflow:Early stopping conditioned on metric `val_prc` which is not available. Available metrics are: loss,tp,fp,tn,fn,accuracy,precision,recall,auc,prc\n",
      "112/112 [==============================] - 1s 11ms/step - loss: 0.1108 - tp: 379.0000 - fp: 6049.0000 - tn: 221394.0000 - fn: 23.0000 - accuracy: 0.9734 - precision: 0.0590 - recall: 0.9428 - auc: 0.9926 - prc: 0.6138\n",
      "Epoch 55/100\n"
     ]
    },
    {
     "name": "stdout",
     "output_type": "stream",
     "text": [
      "110/112 [============================>.] - ETA: 0s - loss: 0.1140 - tp: 379.0000 - fp: 6041.0000 - tn: 218839.0000 - fn: 21.0000 - accuracy: 0.9731 - precision: 0.0590 - recall: 0.9475 - auc: 0.9917 - prc: 0.6169WARNING:tensorflow:Early stopping conditioned on metric `val_prc` which is not available. Available metrics are: loss,tp,fp,tn,fn,accuracy,precision,recall,auc,prc\n",
      "112/112 [==============================] - 1s 11ms/step - loss: 0.1133 - tp: 381.0000 - fp: 6100.0000 - tn: 221343.0000 - fn: 21.0000 - accuracy: 0.9731 - precision: 0.0588 - recall: 0.9478 - auc: 0.9917 - prc: 0.6163\n",
      "Epoch 56/100\n",
      "108/112 [===========================>..] - ETA: 0s - loss: 0.1131 - tp: 370.0000 - fp: 5574.0000 - tn: 215216.0000 - fn: 24.0000 - accuracy: 0.9747 - precision: 0.0622 - recall: 0.9391 - auc: 0.9922 - prc: 0.6349WARNING:tensorflow:Early stopping conditioned on metric `val_prc` which is not available. Available metrics are: loss,tp,fp,tn,fn,accuracy,precision,recall,auc,prc\n",
      "112/112 [==============================] - 1s 11ms/step - loss: 0.1127 - tp: 377.0000 - fp: 5767.0000 - tn: 221676.0000 - fn: 25.0000 - accuracy: 0.9746 - precision: 0.0614 - recall: 0.9378 - auc: 0.9922 - prc: 0.6301\n",
      "Epoch 57/100\n",
      "110/112 [============================>.] - ETA: 0s - loss: 0.1177 - tp: 376.0000 - fp: 6515.0000 - tn: 218366.0000 - fn: 23.0000 - accuracy: 0.9710 - precision: 0.0546 - recall: 0.9424 - auc: 0.9913 - prc: 0.6086WARNING:tensorflow:Early stopping conditioned on metric `val_prc` which is not available. Available metrics are: loss,tp,fp,tn,fn,accuracy,precision,recall,auc,prc\n",
      "112/112 [==============================] - 1s 11ms/step - loss: 0.1171 - tp: 379.0000 - fp: 6591.0000 - tn: 220852.0000 - fn: 23.0000 - accuracy: 0.9710 - precision: 0.0544 - recall: 0.9428 - auc: 0.9913 - prc: 0.6096\n",
      "Epoch 58/100\n",
      "110/112 [============================>.] - ETA: 0s - loss: 0.1191 - tp: 378.0000 - fp: 6353.0000 - tn: 218526.0000 - fn: 23.0000 - accuracy: 0.9717 - precision: 0.0562 - recall: 0.9426 - auc: 0.9910 - prc: 0.6217WARNING:tensorflow:Early stopping conditioned on metric `val_prc` which is not available. Available metrics are: loss,tp,fp,tn,fn,accuracy,precision,recall,auc,prc\n",
      "112/112 [==============================] - 1s 11ms/step - loss: 0.1183 - tp: 379.0000 - fp: 6424.0000 - tn: 221019.0000 - fn: 23.0000 - accuracy: 0.9717 - precision: 0.0557 - recall: 0.9428 - auc: 0.9911 - prc: 0.6224\n",
      "Epoch 59/100\n",
      "107/112 [===========================>..] - ETA: 0s - loss: 0.1080 - tp: 357.0000 - fp: 5533.0000 - tn: 213229.0000 - fn: 17.0000 - accuracy: 0.9747 - precision: 0.0606 - recall: 0.9545 - auc: 0.9925 - prc: 0.6158WARNING:tensorflow:Early stopping conditioned on metric `val_prc` which is not available. Available metrics are: loss,tp,fp,tn,fn,accuracy,precision,recall,auc,prc\n",
      "112/112 [==============================] - 1s 11ms/step - loss: 0.1086 - tp: 383.0000 - fp: 5745.0000 - tn: 221698.0000 - fn: 19.0000 - accuracy: 0.9747 - precision: 0.0625 - recall: 0.9527 - auc: 0.9928 - prc: 0.6205\n",
      "Epoch 60/100\n",
      "110/112 [============================>.] - ETA: 0s - loss: 0.1181 - tp: 377.0000 - fp: 6348.0000 - tn: 218535.0000 - fn: 20.0000 - accuracy: 0.9717 - precision: 0.0561 - recall: 0.9496 - auc: 0.9905 - prc: 0.6028WARNING:tensorflow:Early stopping conditioned on metric `val_prc` which is not available. Available metrics are: loss,tp,fp,tn,fn,accuracy,precision,recall,auc,prc\n",
      "112/112 [==============================] - 1s 11ms/step - loss: 0.1174 - tp: 382.0000 - fp: 6425.0000 - tn: 221018.0000 - fn: 20.0000 - accuracy: 0.9717 - precision: 0.0561 - recall: 0.9502 - auc: 0.9906 - prc: 0.6067\n",
      "Epoch 61/100\n",
      "110/112 [============================>.] - ETA: 0s - loss: 0.1172 - tp: 372.0000 - fp: 6194.0000 - tn: 218690.0000 - fn: 24.0000 - accuracy: 0.9724 - precision: 0.0567 - recall: 0.9394 - auc: 0.9911 - prc: 0.6193WARNING:tensorflow:Early stopping conditioned on metric `val_prc` which is not available. Available metrics are: loss,tp,fp,tn,fn,accuracy,precision,recall,auc,prc\n",
      "112/112 [==============================] - 1s 11ms/step - loss: 0.1167 - tp: 378.0000 - fp: 6267.0000 - tn: 221176.0000 - fn: 24.0000 - accuracy: 0.9724 - precision: 0.0569 - recall: 0.9403 - auc: 0.9913 - prc: 0.6173\n",
      "Epoch 62/100\n",
      "112/112 [==============================] - ETA: 0s - loss: 0.1162 - tp: 378.0000 - fp: 6553.0000 - tn: 220890.0000 - fn: 24.0000 - accuracy: 0.9711 - precision: 0.0545 - recall: 0.9403 - auc: 0.9909 - prc: 0.6238WARNING:tensorflow:Early stopping conditioned on metric `val_prc` which is not available. Available metrics are: loss,tp,fp,tn,fn,accuracy,precision,recall,auc,prc\n",
      "112/112 [==============================] - 1s 11ms/step - loss: 0.1162 - tp: 378.0000 - fp: 6553.0000 - tn: 220890.0000 - fn: 24.0000 - accuracy: 0.9711 - precision: 0.0545 - recall: 0.9403 - auc: 0.9909 - prc: 0.6238\n",
      "Epoch 63/100\n",
      "108/112 [===========================>..] - ETA: 0s - loss: 0.1178 - tp: 373.0000 - fp: 6079.0000 - tn: 214711.0000 - fn: 21.0000 - accuracy: 0.9724 - precision: 0.0578 - recall: 0.9467 - auc: 0.9914 - prc: 0.6087WARNING:tensorflow:Early stopping conditioned on metric `val_prc` which is not available. Available metrics are: loss,tp,fp,tn,fn,accuracy,precision,recall,auc,prc\n",
      "112/112 [==============================] - 1s 11ms/step - loss: 0.1165 - tp: 381.0000 - fp: 6268.0000 - tn: 221175.0000 - fn: 21.0000 - accuracy: 0.9724 - precision: 0.0573 - recall: 0.9478 - auc: 0.9915 - prc: 0.6101\n",
      "Epoch 64/100\n",
      "111/112 [============================>.] - ETA: 0s - loss: 0.1031 - tp: 384.0000 - fp: 6268.0000 - tn: 220658.0000 - fn: 18.0000 - accuracy: 0.9723 - precision: 0.0577 - recall: 0.9552 - auc: 0.9939 - prc: 0.6209WARNING:tensorflow:Early stopping conditioned on metric `val_prc` which is not available. Available metrics are: loss,tp,fp,tn,fn,accuracy,precision,recall,auc,prc\n",
      "112/112 [==============================] - 1s 11ms/step - loss: 0.1030 - tp: 384.0000 - fp: 6282.0000 - tn: 221161.0000 - fn: 18.0000 - accuracy: 0.9723 - precision: 0.0576 - recall: 0.9552 - auc: 0.9939 - prc: 0.6209\n",
      "Epoch 65/100\n",
      "112/112 [==============================] - ETA: 0s - loss: 0.1127 - tp: 381.0000 - fp: 6252.0000 - tn: 221191.0000 - fn: 21.0000 - accuracy: 0.9725 - precision: 0.0574 - recall: 0.9478 - auc: 0.9917 - prc: 0.6157WARNING:tensorflow:Early stopping conditioned on metric `val_prc` which is not available. Available metrics are: loss,tp,fp,tn,fn,accuracy,precision,recall,auc,prc\n",
      "112/112 [==============================] - 1s 11ms/step - loss: 0.1127 - tp: 381.0000 - fp: 6252.0000 - tn: 221191.0000 - fn: 21.0000 - accuracy: 0.9725 - precision: 0.0574 - recall: 0.9478 - auc: 0.9917 - prc: 0.6157\n",
      "Epoch 66/100\n",
      "110/112 [============================>.] - ETA: 0s - loss: 0.1189 - tp: 375.0000 - fp: 6245.0000 - tn: 218635.0000 - fn: 25.0000 - accuracy: 0.9722 - precision: 0.0566 - recall: 0.9375 - auc: 0.9909 - prc: 0.6042WARNING:tensorflow:Early stopping conditioned on metric `val_prc` which is not available. Available metrics are: loss,tp,fp,tn,fn,accuracy,precision,recall,auc,prc\n",
      "112/112 [==============================] - 1s 11ms/step - loss: 0.1181 - tp: 377.0000 - fp: 6320.0000 - tn: 221123.0000 - fn: 25.0000 - accuracy: 0.9722 - precision: 0.0563 - recall: 0.9378 - auc: 0.9910 - prc: 0.6044\n",
      "Epoch 67/100\n",
      "109/112 [============================>.] - ETA: 0s - loss: 0.1125 - tp: 369.0000 - fp: 5786.0000 - tn: 217057.0000 - fn: 20.0000 - accuracy: 0.9740 - precision: 0.0600 - recall: 0.9486 - auc: 0.9912 - prc: 0.6166WARNING:tensorflow:Early stopping conditioned on metric `val_prc` which is not available. Available metrics are: loss,tp,fp,tn,fn,accuracy,precision,recall,auc,prc\n",
      "112/112 [==============================] - 1s 11ms/step - loss: 0.1142 - tp: 380.0000 - fp: 5893.0000 - tn: 221550.0000 - fn: 22.0000 - accuracy: 0.9740 - precision: 0.0606 - recall: 0.9453 - auc: 0.9911 - prc: 0.6183\n",
      "Epoch 68/100\n",
      "112/112 [==============================] - ETA: 0s - loss: 0.1178 - tp: 375.0000 - fp: 6582.0000 - tn: 220861.0000 - fn: 27.0000 - accuracy: 0.9710 - precision: 0.0539 - recall: 0.9328 - auc: 0.9907 - prc: 0.6068WARNING:tensorflow:Early stopping conditioned on metric `val_prc` which is not available. Available metrics are: loss,tp,fp,tn,fn,accuracy,precision,recall,auc,prc\n"
     ]
    },
    {
     "name": "stdout",
     "output_type": "stream",
     "text": [
      "112/112 [==============================] - 1s 11ms/step - loss: 0.1178 - tp: 375.0000 - fp: 6582.0000 - tn: 220861.0000 - fn: 27.0000 - accuracy: 0.9710 - precision: 0.0539 - recall: 0.9328 - auc: 0.9907 - prc: 0.6068\n",
      "Epoch 69/100\n",
      "111/112 [============================>.] - ETA: 0s - loss: 0.1117 - tp: 380.0000 - fp: 6277.0000 - tn: 220651.0000 - fn: 20.0000 - accuracy: 0.9723 - precision: 0.0571 - recall: 0.9500 - auc: 0.9916 - prc: 0.6125WARNING:tensorflow:Early stopping conditioned on metric `val_prc` which is not available. Available metrics are: loss,tp,fp,tn,fn,accuracy,precision,recall,auc,prc\n",
      "112/112 [==============================] - 1s 11ms/step - loss: 0.1116 - tp: 382.0000 - fp: 6295.0000 - tn: 221148.0000 - fn: 20.0000 - accuracy: 0.9723 - precision: 0.0572 - recall: 0.9502 - auc: 0.9917 - prc: 0.6133\n",
      "Epoch 70/100\n",
      "111/112 [============================>.] - ETA: 0s - loss: 0.1092 - tp: 377.0000 - fp: 6089.0000 - tn: 220838.0000 - fn: 24.0000 - accuracy: 0.9731 - precision: 0.0583 - recall: 0.9401 - auc: 0.9931 - prc: 0.6213WARNING:tensorflow:Early stopping conditioned on metric `val_prc` which is not available. Available metrics are: loss,tp,fp,tn,fn,accuracy,precision,recall,auc,prc\n",
      "112/112 [==============================] - 1s 11ms/step - loss: 0.1090 - tp: 378.0000 - fp: 6102.0000 - tn: 221341.0000 - fn: 24.0000 - accuracy: 0.9731 - precision: 0.0583 - recall: 0.9403 - auc: 0.9931 - prc: 0.6221\n",
      "Epoch 71/100\n",
      "111/112 [============================>.] - ETA: 0s - loss: 0.1135 - tp: 381.0000 - fp: 6332.0000 - tn: 220595.0000 - fn: 20.0000 - accuracy: 0.9721 - precision: 0.0568 - recall: 0.9501 - auc: 0.9911 - prc: 0.6314WARNING:tensorflow:Early stopping conditioned on metric `val_prc` which is not available. Available metrics are: loss,tp,fp,tn,fn,accuracy,precision,recall,auc,prc\n",
      "112/112 [==============================] - 1s 11ms/step - loss: 0.1134 - tp: 382.0000 - fp: 6345.0000 - tn: 221098.0000 - fn: 20.0000 - accuracy: 0.9721 - precision: 0.0568 - recall: 0.9502 - auc: 0.9911 - prc: 0.6322\n",
      "Epoch 72/100\n",
      "111/112 [============================>.] - ETA: 0s - loss: 0.1112 - tp: 379.0000 - fp: 6059.0000 - tn: 220868.0000 - fn: 22.0000 - accuracy: 0.9733 - precision: 0.0589 - recall: 0.9451 - auc: 0.9923 - prc: 0.6111WARNING:tensorflow:Early stopping conditioned on metric `val_prc` which is not available. Available metrics are: loss,tp,fp,tn,fn,accuracy,precision,recall,auc,prc\n",
      "112/112 [==============================] - 1s 11ms/step - loss: 0.1111 - tp: 380.0000 - fp: 6074.0000 - tn: 221369.0000 - fn: 22.0000 - accuracy: 0.9732 - precision: 0.0589 - recall: 0.9453 - auc: 0.9923 - prc: 0.6119\n",
      "Epoch 73/100\n",
      "108/112 [===========================>..] - ETA: 0s - loss: 0.1148 - tp: 374.0000 - fp: 6376.0000 - tn: 214413.0000 - fn: 21.0000 - accuracy: 0.9711 - precision: 0.0554 - recall: 0.9468 - auc: 0.9919 - prc: 0.6035WARNING:tensorflow:Early stopping conditioned on metric `val_prc` which is not available. Available metrics are: loss,tp,fp,tn,fn,accuracy,precision,recall,auc,prc\n",
      "112/112 [==============================] - 1s 11ms/step - loss: 0.1133 - tp: 381.0000 - fp: 6582.0000 - tn: 220861.0000 - fn: 21.0000 - accuracy: 0.9710 - precision: 0.0547 - recall: 0.9478 - auc: 0.9920 - prc: 0.5997\n",
      "Epoch 74/100\n",
      "112/112 [==============================] - ETA: 0s - loss: 0.1075 - tp: 383.0000 - fp: 6394.0000 - tn: 221049.0000 - fn: 19.0000 - accuracy: 0.9719 - precision: 0.0565 - recall: 0.9527 - auc: 0.9928 - prc: 0.6015WARNING:tensorflow:Early stopping conditioned on metric `val_prc` which is not available. Available metrics are: loss,tp,fp,tn,fn,accuracy,precision,recall,auc,prc\n",
      "112/112 [==============================] - 1s 11ms/step - loss: 0.1075 - tp: 383.0000 - fp: 6394.0000 - tn: 221049.0000 - fn: 19.0000 - accuracy: 0.9719 - precision: 0.0565 - recall: 0.9527 - auc: 0.9928 - prc: 0.6015\n",
      "Epoch 75/100\n",
      "111/112 [============================>.] - ETA: 0s - loss: 0.1047 - tp: 381.0000 - fp: 6230.0000 - tn: 220696.0000 - fn: 21.0000 - accuracy: 0.9725 - precision: 0.0576 - recall: 0.9478 - auc: 0.9935 - prc: 0.6276WARNING:tensorflow:Early stopping conditioned on metric `val_prc` which is not available. Available metrics are: loss,tp,fp,tn,fn,accuracy,precision,recall,auc,prc\n",
      "112/112 [==============================] - 1s 11ms/step - loss: 0.1046 - tp: 381.0000 - fp: 6238.0000 - tn: 221205.0000 - fn: 21.0000 - accuracy: 0.9725 - precision: 0.0576 - recall: 0.9478 - auc: 0.9935 - prc: 0.6276\n",
      "Epoch 76/100\n",
      "108/112 [===========================>..] - ETA: 0s - loss: 0.1083 - tp: 369.0000 - fp: 5726.0000 - tn: 215069.0000 - fn: 20.0000 - accuracy: 0.9740 - precision: 0.0605 - recall: 0.9486 - auc: 0.9925 - prc: 0.6281WARNING:tensorflow:Early stopping conditioned on metric `val_prc` which is not available. Available metrics are: loss,tp,fp,tn,fn,accuracy,precision,recall,auc,prc\n",
      "112/112 [==============================] - 1s 12ms/step - loss: 0.1088 - tp: 381.0000 - fp: 5881.0000 - tn: 221562.0000 - fn: 21.0000 - accuracy: 0.9741 - precision: 0.0608 - recall: 0.9478 - auc: 0.9925 - prc: 0.6230\n",
      "Epoch 77/100\n",
      "111/112 [============================>.] - ETA: 0s - loss: 0.1096 - tp: 380.0000 - fp: 5849.0000 - tn: 221078.0000 - fn: 21.0000 - accuracy: 0.9742 - precision: 0.0610 - recall: 0.9476 - auc: 0.9925 - prc: 0.6283WARNING:tensorflow:Early stopping conditioned on metric `val_prc` which is not available. Available metrics are: loss,tp,fp,tn,fn,accuracy,precision,recall,auc,prc\n",
      "112/112 [==============================] - 1s 12ms/step - loss: 0.1104 - tp: 380.0000 - fp: 5871.0000 - tn: 221572.0000 - fn: 22.0000 - accuracy: 0.9741 - precision: 0.0608 - recall: 0.9453 - auc: 0.9924 - prc: 0.6268\n",
      "Epoch 78/100\n",
      "110/112 [============================>.] - ETA: 0s - loss: 0.1090 - tp: 375.0000 - fp: 6509.0000 - tn: 218374.0000 - fn: 22.0000 - accuracy: 0.9710 - precision: 0.0545 - recall: 0.9446 - auc: 0.9927 - prc: 0.6268WARNING:tensorflow:Early stopping conditioned on metric `val_prc` which is not available. Available metrics are: loss,tp,fp,tn,fn,accuracy,precision,recall,auc,prc\n",
      "112/112 [==============================] - 1s 12ms/step - loss: 0.1129 - tp: 379.0000 - fp: 6588.0000 - tn: 220855.0000 - fn: 23.0000 - accuracy: 0.9710 - precision: 0.0544 - recall: 0.9428 - auc: 0.9919 - prc: 0.6249\n",
      "Epoch 79/100\n",
      "111/112 [============================>.] - ETA: 0s - loss: 0.1016 - tp: 381.0000 - fp: 6180.0000 - tn: 220746.0000 - fn: 21.0000 - accuracy: 0.9727 - precision: 0.0581 - recall: 0.9478 - auc: 0.9940 - prc: 0.6204WARNING:tensorflow:Early stopping conditioned on metric `val_prc` which is not available. Available metrics are: loss,tp,fp,tn,fn,accuracy,precision,recall,auc,prc\n",
      "112/112 [==============================] - 1s 11ms/step - loss: 0.1015 - tp: 381.0000 - fp: 6188.0000 - tn: 221255.0000 - fn: 21.0000 - accuracy: 0.9727 - precision: 0.0580 - recall: 0.9478 - auc: 0.9940 - prc: 0.6204\n",
      "Epoch 80/100\n",
      "111/112 [============================>.] - ETA: 0s - loss: 0.1030 - tp: 380.0000 - fp: 5816.0000 - tn: 221110.0000 - fn: 22.0000 - accuracy: 0.9743 - precision: 0.0613 - recall: 0.9453 - auc: 0.9937 - prc: 0.6327WARNING:tensorflow:Early stopping conditioned on metric `val_prc` which is not available. Available metrics are: loss,tp,fp,tn,fn,accuracy,precision,recall,auc,prc\n",
      "112/112 [==============================] - 1s 11ms/step - loss: 0.1028 - tp: 380.0000 - fp: 5822.0000 - tn: 221621.0000 - fn: 22.0000 - accuracy: 0.9744 - precision: 0.0613 - recall: 0.9453 - auc: 0.9937 - prc: 0.6327\n",
      "Epoch 81/100\n",
      "109/112 [============================>.] - ETA: 0s - loss: 0.1021 - tp: 374.0000 - fp: 5809.0000 - tn: 217031.0000 - fn: 18.0000 - accuracy: 0.9739 - precision: 0.0605 - recall: 0.9541 - auc: 0.9937 - prc: 0.6226WARNING:tensorflow:Early stopping conditioned on metric `val_prc` which is not available. Available metrics are: loss,tp,fp,tn,fn,accuracy,precision,recall,auc,prc\n",
      "112/112 [==============================] - 1s 11ms/step - loss: 0.1017 - tp: 384.0000 - fp: 5933.0000 - tn: 221510.0000 - fn: 18.0000 - accuracy: 0.9739 - precision: 0.0608 - recall: 0.9552 - auc: 0.9938 - prc: 0.6224\n",
      "Epoch 82/100\n"
     ]
    },
    {
     "name": "stdout",
     "output_type": "stream",
     "text": [
      "109/112 [============================>.] - ETA: 0s - loss: 0.1024 - tp: 376.0000 - fp: 5641.0000 - tn: 217197.0000 - fn: 18.0000 - accuracy: 0.9746 - precision: 0.0625 - recall: 0.9543 - auc: 0.9935 - prc: 0.6114WARNING:tensorflow:Early stopping conditioned on metric `val_prc` which is not available. Available metrics are: loss,tp,fp,tn,fn,accuracy,precision,recall,auc,prc\n",
      "112/112 [==============================] - 1s 11ms/step - loss: 0.1017 - tp: 384.0000 - fp: 5766.0000 - tn: 221677.0000 - fn: 18.0000 - accuracy: 0.9746 - precision: 0.0624 - recall: 0.9552 - auc: 0.9936 - prc: 0.6131\n",
      "Epoch 83/100\n",
      "111/112 [============================>.] - ETA: 0s - loss: 0.1028 - tp: 377.0000 - fp: 5693.0000 - tn: 221236.0000 - fn: 22.0000 - accuracy: 0.9749 - precision: 0.0621 - recall: 0.9449 - auc: 0.9938 - prc: 0.6190WARNING:tensorflow:Early stopping conditioned on metric `val_prc` which is not available. Available metrics are: loss,tp,fp,tn,fn,accuracy,precision,recall,auc,prc\n",
      "112/112 [==============================] - 1s 11ms/step - loss: 0.1026 - tp: 380.0000 - fp: 5706.0000 - tn: 221737.0000 - fn: 22.0000 - accuracy: 0.9749 - precision: 0.0624 - recall: 0.9453 - auc: 0.9938 - prc: 0.6214\n",
      "Epoch 84/100\n",
      "111/112 [============================>.] - ETA: 0s - loss: 0.1033 - tp: 385.0000 - fp: 6300.0000 - tn: 220626.0000 - fn: 17.0000 - accuracy: 0.9722 - precision: 0.0576 - recall: 0.9577 - auc: 0.9935 - prc: 0.6119WARNING:tensorflow:Early stopping conditioned on metric `val_prc` which is not available. Available metrics are: loss,tp,fp,tn,fn,accuracy,precision,recall,auc,prc\n",
      "112/112 [==============================] - 1s 11ms/step - loss: 0.1032 - tp: 385.0000 - fp: 6308.0000 - tn: 221135.0000 - fn: 17.0000 - accuracy: 0.9722 - precision: 0.0575 - recall: 0.9577 - auc: 0.9935 - prc: 0.6106\n",
      "Epoch 85/100\n",
      "111/112 [============================>.] - ETA: 0s - loss: 0.1022 - tp: 382.0000 - fp: 6145.0000 - tn: 220781.0000 - fn: 20.0000 - accuracy: 0.9729 - precision: 0.0585 - recall: 0.9502 - auc: 0.9942 - prc: 0.6040WARNING:tensorflow:Early stopping conditioned on metric `val_prc` which is not available. Available metrics are: loss,tp,fp,tn,fn,accuracy,precision,recall,auc,prc\n",
      "112/112 [==============================] - 1s 11ms/step - loss: 0.1021 - tp: 382.0000 - fp: 6158.0000 - tn: 221285.0000 - fn: 20.0000 - accuracy: 0.9729 - precision: 0.0584 - recall: 0.9502 - auc: 0.9942 - prc: 0.6040\n",
      "Epoch 86/100\n",
      "109/112 [============================>.] - ETA: 0s - loss: 0.1075 - tp: 372.0000 - fp: 5942.0000 - tn: 216896.0000 - fn: 22.0000 - accuracy: 0.9733 - precision: 0.0589 - recall: 0.9442 - auc: 0.9928 - prc: 0.6318WARNING:tensorflow:Early stopping conditioned on metric `val_prc` which is not available. Available metrics are: loss,tp,fp,tn,fn,accuracy,precision,recall,auc,prc\n",
      "112/112 [==============================] - 1s 11ms/step - loss: 0.1065 - tp: 380.0000 - fp: 6076.0000 - tn: 221367.0000 - fn: 22.0000 - accuracy: 0.9732 - precision: 0.0589 - recall: 0.9453 - auc: 0.9929 - prc: 0.6322\n",
      "Epoch 87/100\n",
      "111/112 [============================>.] - ETA: 0s - loss: 0.0985 - tp: 383.0000 - fp: 5763.0000 - tn: 221165.0000 - fn: 17.0000 - accuracy: 0.9746 - precision: 0.0623 - recall: 0.9575 - auc: 0.9945 - prc: 0.6130WARNING:tensorflow:Early stopping conditioned on metric `val_prc` which is not available. Available metrics are: loss,tp,fp,tn,fn,accuracy,precision,recall,auc,prc\n",
      "112/112 [==============================] - 1s 11ms/step - loss: 0.0984 - tp: 385.0000 - fp: 5777.0000 - tn: 221666.0000 - fn: 17.0000 - accuracy: 0.9746 - precision: 0.0625 - recall: 0.9577 - auc: 0.9945 - prc: 0.6146\n",
      "Epoch 88/100\n",
      "110/112 [============================>.] - ETA: 0s - loss: 0.1016 - tp: 375.0000 - fp: 6287.0000 - tn: 218595.0000 - fn: 23.0000 - accuracy: 0.9720 - precision: 0.0563 - recall: 0.9422 - auc: 0.9940 - prc: 0.6215WARNING:tensorflow:Early stopping conditioned on metric `val_prc` which is not available. Available metrics are: loss,tp,fp,tn,fn,accuracy,precision,recall,auc,prc\n",
      "112/112 [==============================] - 1s 11ms/step - loss: 0.1059 - tp: 378.0000 - fp: 6357.0000 - tn: 221086.0000 - fn: 24.0000 - accuracy: 0.9720 - precision: 0.0561 - recall: 0.9403 - auc: 0.9931 - prc: 0.6182\n",
      "Epoch 89/100\n",
      "110/112 [============================>.] - ETA: 0s - loss: 0.1049 - tp: 379.0000 - fp: 5590.0000 - tn: 219290.0000 - fn: 21.0000 - accuracy: 0.9751 - precision: 0.0635 - recall: 0.9475 - auc: 0.9931 - prc: 0.6190WARNING:tensorflow:Early stopping conditioned on metric `val_prc` which is not available. Available metrics are: loss,tp,fp,tn,fn,accuracy,precision,recall,auc,prc\n",
      "112/112 [==============================] - 1s 11ms/step - loss: 0.1054 - tp: 380.0000 - fp: 5656.0000 - tn: 221787.0000 - fn: 22.0000 - accuracy: 0.9751 - precision: 0.0630 - recall: 0.9453 - auc: 0.9930 - prc: 0.6140\n",
      "Epoch 90/100\n",
      "110/112 [============================>.] - ETA: 0s - loss: 0.0964 - tp: 380.0000 - fp: 5850.0000 - tn: 219034.0000 - fn: 16.0000 - accuracy: 0.9740 - precision: 0.0610 - recall: 0.9596 - auc: 0.9943 - prc: 0.6345WARNING:tensorflow:Early stopping conditioned on metric `val_prc` which is not available. Available metrics are: loss,tp,fp,tn,fn,accuracy,precision,recall,auc,prc\n",
      "112/112 [==============================] - 1s 11ms/step - loss: 0.0975 - tp: 385.0000 - fp: 5924.0000 - tn: 221519.0000 - fn: 17.0000 - accuracy: 0.9739 - precision: 0.0610 - recall: 0.9577 - auc: 0.9942 - prc: 0.6334\n",
      "Epoch 91/100\n",
      "108/112 [===========================>..] - ETA: 0s - loss: 0.0943 - tp: 380.0000 - fp: 5785.0000 - tn: 215003.0000 - fn: 16.0000 - accuracy: 0.9738 - precision: 0.0616 - recall: 0.9596 - auc: 0.9950 - prc: 0.6275WARNING:tensorflow:Early stopping conditioned on metric `val_prc` which is not available. Available metrics are: loss,tp,fp,tn,fn,accuracy,precision,recall,auc,prc\n",
      "112/112 [==============================] - 1s 11ms/step - loss: 0.0967 - tp: 385.0000 - fp: 5935.0000 - tn: 221508.0000 - fn: 17.0000 - accuracy: 0.9739 - precision: 0.0609 - recall: 0.9577 - auc: 0.9946 - prc: 0.6221\n",
      "Epoch 92/100\n",
      "110/112 [============================>.] - ETA: 0s - loss: 0.0985 - tp: 376.0000 - fp: 5535.0000 - tn: 219350.0000 - fn: 19.0000 - accuracy: 0.9753 - precision: 0.0636 - recall: 0.9519 - auc: 0.9943 - prc: 0.6189WARNING:tensorflow:Early stopping conditioned on metric `val_prc` which is not available. Available metrics are: loss,tp,fp,tn,fn,accuracy,precision,recall,auc,prc\n",
      "112/112 [==============================] - 1s 11ms/step - loss: 0.0994 - tp: 382.0000 - fp: 5599.0000 - tn: 221844.0000 - fn: 20.0000 - accuracy: 0.9753 - precision: 0.0639 - recall: 0.9502 - auc: 0.9942 - prc: 0.6195\n",
      "Epoch 93/100\n",
      "111/112 [============================>.] - ETA: 0s - loss: 0.1030 - tp: 380.0000 - fp: 5755.0000 - tn: 221173.0000 - fn: 20.0000 - accuracy: 0.9746 - precision: 0.0619 - recall: 0.9500 - auc: 0.9933 - prc: 0.6171WARNING:tensorflow:Early stopping conditioned on metric `val_prc` which is not available. Available metrics are: loss,tp,fp,tn,fn,accuracy,precision,recall,auc,prc\n",
      "112/112 [==============================] - 1s 11ms/step - loss: 0.1028 - tp: 382.0000 - fp: 5767.0000 - tn: 221676.0000 - fn: 20.0000 - accuracy: 0.9746 - precision: 0.0621 - recall: 0.9502 - auc: 0.9933 - prc: 0.6187\n",
      "Epoch 94/100\n",
      "112/112 [==============================] - ETA: 0s - loss: 0.1083 - tp: 383.0000 - fp: 5741.0000 - tn: 221702.0000 - fn: 19.0000 - accuracy: 0.9747 - precision: 0.0625 - recall: 0.9527 - auc: 0.9922 - prc: 0.6007WARNING:tensorflow:Early stopping conditioned on metric `val_prc` which is not available. Available metrics are: loss,tp,fp,tn,fn,accuracy,precision,recall,auc,prc\n",
      "112/112 [==============================] - 1s 11ms/step - loss: 0.1083 - tp: 383.0000 - fp: 5741.0000 - tn: 221702.0000 - fn: 19.0000 - accuracy: 0.9747 - precision: 0.0625 - recall: 0.9527 - auc: 0.9922 - prc: 0.6007\n",
      "Epoch 95/100\n",
      "110/112 [============================>.] - ETA: 0s - loss: 0.0994 - tp: 379.0000 - fp: 5555.0000 - tn: 219329.0000 - fn: 17.0000 - accuracy: 0.9753 - precision: 0.0639 - recall: 0.9571 - auc: 0.9942 - prc: 0.6096WARNING:tensorflow:Early stopping conditioned on metric `val_prc` which is not available. Available metrics are: loss,tp,fp,tn,fn,accuracy,precision,recall,auc,prc\n"
     ]
    },
    {
     "name": "stdout",
     "output_type": "stream",
     "text": [
      "112/112 [==============================] - 1s 11ms/step - loss: 0.1034 - tp: 383.0000 - fp: 5623.0000 - tn: 221820.0000 - fn: 19.0000 - accuracy: 0.9752 - precision: 0.0638 - recall: 0.9527 - auc: 0.9936 - prc: 0.6097\n",
      "Epoch 96/100\n",
      "111/112 [============================>.] - ETA: 0s - loss: 0.1044 - tp: 381.0000 - fp: 6065.0000 - tn: 220861.0000 - fn: 21.0000 - accuracy: 0.9732 - precision: 0.0591 - recall: 0.9478 - auc: 0.9931 - prc: 0.5948WARNING:tensorflow:Early stopping conditioned on metric `val_prc` which is not available. Available metrics are: loss,tp,fp,tn,fn,accuracy,precision,recall,auc,prc\n",
      "112/112 [==============================] - 1s 11ms/step - loss: 0.1043 - tp: 381.0000 - fp: 6082.0000 - tn: 221361.0000 - fn: 21.0000 - accuracy: 0.9732 - precision: 0.0590 - recall: 0.9478 - auc: 0.9931 - prc: 0.5947\n",
      "Epoch 97/100\n",
      "111/112 [============================>.] - ETA: 0s - loss: 0.1032 - tp: 377.0000 - fp: 5511.0000 - tn: 221418.0000 - fn: 22.0000 - accuracy: 0.9757 - precision: 0.0640 - recall: 0.9449 - auc: 0.9936 - prc: 0.6030WARNING:tensorflow:Early stopping conditioned on metric `val_prc` which is not available. Available metrics are: loss,tp,fp,tn,fn,accuracy,precision,recall,auc,prc\n",
      "112/112 [==============================] - 1s 11ms/step - loss: 0.1031 - tp: 380.0000 - fp: 5530.0000 - tn: 221913.0000 - fn: 22.0000 - accuracy: 0.9756 - precision: 0.0643 - recall: 0.9453 - auc: 0.9936 - prc: 0.6048\n",
      "Epoch 98/100\n",
      "109/112 [============================>.] - ETA: 0s - loss: 0.1042 - tp: 373.0000 - fp: 6270.0000 - tn: 216566.0000 - fn: 23.0000 - accuracy: 0.9718 - precision: 0.0561 - recall: 0.9419 - auc: 0.9936 - prc: 0.5913WARNING:tensorflow:Early stopping conditioned on metric `val_prc` which is not available. Available metrics are: loss,tp,fp,tn,fn,accuracy,precision,recall,auc,prc\n",
      "112/112 [==============================] - 1s 11ms/step - loss: 0.1036 - tp: 379.0000 - fp: 6368.0000 - tn: 221075.0000 - fn: 23.0000 - accuracy: 0.9720 - precision: 0.0562 - recall: 0.9428 - auc: 0.9936 - prc: 0.5905\n",
      "Epoch 99/100\n",
      "111/112 [============================>.] - ETA: 0s - loss: 0.1020 - tp: 381.0000 - fp: 5563.0000 - tn: 221363.0000 - fn: 21.0000 - accuracy: 0.9754 - precision: 0.0641 - recall: 0.9478 - auc: 0.9938 - prc: 0.6065WARNING:tensorflow:Early stopping conditioned on metric `val_prc` which is not available. Available metrics are: loss,tp,fp,tn,fn,accuracy,precision,recall,auc,prc\n",
      "112/112 [==============================] - 1s 11ms/step - loss: 0.1019 - tp: 381.0000 - fp: 5581.0000 - tn: 221862.0000 - fn: 21.0000 - accuracy: 0.9754 - precision: 0.0639 - recall: 0.9478 - auc: 0.9938 - prc: 0.6064\n",
      "Epoch 100/100\n",
      "111/112 [============================>.] - ETA: 0s - loss: 0.0970 - tp: 379.0000 - fp: 5751.0000 - tn: 221176.0000 - fn: 22.0000 - accuracy: 0.9746 - precision: 0.0618 - recall: 0.9451 - auc: 0.9949 - prc: 0.5950WARNING:tensorflow:Early stopping conditioned on metric `val_prc` which is not available. Available metrics are: loss,tp,fp,tn,fn,accuracy,precision,recall,auc,prc\n",
      "112/112 [==============================] - 1s 11ms/step - loss: 0.0969 - tp: 380.0000 - fp: 5758.0000 - tn: 221685.0000 - fn: 22.0000 - accuracy: 0.9746 - precision: 0.0619 - recall: 0.9453 - auc: 0.9949 - prc: 0.5959\n"
     ]
    },
    {
     "data": {
      "text/plain": [
       "<keras.callbacks.History at 0x11d558b7f08>"
      ]
     },
     "execution_count": 80,
     "metadata": {},
     "output_type": "execute_result"
    }
   ],
   "source": [
    "weighted_model = make_model()\n",
    "weighted_model.load_weights(initial_weights)\n",
    "weighted_history = weighted_model.fit(X_train_transform,y_train,epochs=EPOCHS,batch_size=BATCH_SIZE,callbacks=[early_stopping],class_weight=class_weights)"
   ]
  },
  {
   "cell_type": "code",
   "execution_count": 84,
   "id": "81ab617b",
   "metadata": {},
   "outputs": [],
   "source": [
    "weighted_history = weighted_model.history.history"
   ]
  },
  {
   "cell_type": "code",
   "execution_count": 114,
   "id": "9cc2a98b",
   "metadata": {},
   "outputs": [
    {
     "ename": "AttributeError",
     "evalue": "'Sequential' object has no attribute 'epochs'",
     "output_type": "error",
     "traceback": [
      "\u001b[1;31m---------------------------------------------------------------------------\u001b[0m",
      "\u001b[1;31mAttributeError\u001b[0m                            Traceback (most recent call last)",
      "\u001b[1;32m~\\AppData\\Local\\Temp\\ipykernel_15352\\145669153.py\u001b[0m in \u001b[0;36m<module>\u001b[1;34m\u001b[0m\n\u001b[1;32m----> 1\u001b[1;33m \u001b[0mweighted_model\u001b[0m\u001b[1;33m.\u001b[0m\u001b[0mepochs\u001b[0m\u001b[1;33m\u001b[0m\u001b[1;33m\u001b[0m\u001b[0m\n\u001b[0m",
      "\u001b[1;31mAttributeError\u001b[0m: 'Sequential' object has no attribute 'epochs'"
     ]
    }
   ],
   "source": [
    "wei"
   ]
  },
  {
   "cell_type": "code",
   "execution_count": 107,
   "id": "20506756",
   "metadata": {},
   "outputs": [
    {
     "ename": "AttributeError",
     "evalue": "'dict' object has no attribute 'epoch'",
     "output_type": "error",
     "traceback": [
      "\u001b[1;31m---------------------------------------------------------------------------\u001b[0m",
      "\u001b[1;31mAttributeError\u001b[0m                            Traceback (most recent call last)",
      "\u001b[1;32m~\\AppData\\Local\\Temp\\ipykernel_15352\\4137131242.py\u001b[0m in \u001b[0;36m<module>\u001b[1;34m\u001b[0m\n\u001b[1;32m----> 1\u001b[1;33m \u001b[0mplt\u001b[0m\u001b[1;33m.\u001b[0m\u001b[0msemilogy\u001b[0m\u001b[1;33m(\u001b[0m\u001b[0mweighted_history\u001b[0m\u001b[1;33m.\u001b[0m\u001b[0mepoch\u001b[0m\u001b[1;33m,\u001b[0m\u001b[0mweighted_history\u001b[0m\u001b[1;33m[\u001b[0m\u001b[1;34m'loss'\u001b[0m\u001b[1;33m]\u001b[0m\u001b[1;33m)\u001b[0m\u001b[1;33m\u001b[0m\u001b[1;33m\u001b[0m\u001b[0m\n\u001b[0m",
      "\u001b[1;31mAttributeError\u001b[0m: 'dict' object has no attribute 'epoch'"
     ]
    }
   ],
   "source": [
    "plt.semilogy(weighted_model.epoch,weighted_history['loss'])"
   ]
  },
  {
   "cell_type": "code",
   "execution_count": 94,
   "id": "7ebc85ce",
   "metadata": {},
   "outputs": [
    {
     "name": "stdout",
     "output_type": "stream",
     "text": [
      "1425/1425 [==============================] - 2s 2ms/step\n"
     ]
    }
   ],
   "source": [
    "y_cw_predict = weighted_model.predict(X_test_transform,batch_size=40)"
   ]
  },
  {
   "cell_type": "code",
   "execution_count": 101,
   "id": "e22f9fba",
   "metadata": {},
   "outputs": [],
   "source": [
    "y_cw_predictions = np.where(y_cw_predict>0.5,1,0)"
   ]
  },
  {
   "cell_type": "code",
   "execution_count": 102,
   "id": "dd86abd0",
   "metadata": {},
   "outputs": [
    {
     "data": {
      "text/plain": [
       "Text(50.722222222222214, 0.5, 'Actual label')"
      ]
     },
     "execution_count": 102,
     "metadata": {},
     "output_type": "execute_result"
    },
    {
     "data": {
      "image/png": "[encoded data removed]",
      "text/plain": [
       "<Figure size 640x480 with 2 Axes>"
      ]
     },
     "metadata": {},
     "output_type": "display_data"
    }
   ],
   "source": [
    "cm = confusion_matrix(y_test,y_cw_predictions)\n",
    "sns.heatmap(cm,annot=True)\n",
    "plt.title(\"Threshold @0.5 \")\n",
    "plt.xlabel(\"Predicted label \")\n",
    "plt.ylabel(\"Actual label\")"
   ]
  },
  {
   "cell_type": "code",
   "execution_count": 103,
   "id": "fdef6814",
   "metadata": {},
   "outputs": [],
   "source": [
    "# here we see that @0.5 , the number of false negative has decreased from 17 to 8 thus recall is more now ,\n",
    "# but concern is there that false positive has increased slightly which may not be much difficult case\n"
   ]
  },
  {
   "cell_type": "code",
   "execution_count": 117,
   "id": "577b99bf",
   "metadata": {},
   "outputs": [
    {
     "data": {
      "text/plain": [
       "<matplotlib.legend.Legend at 0x11e3d48c288>"
      ]
     },
     "execution_count": 117,
     "metadata": {},
     "output_type": "execute_result"
    },
    {
     "data": {
      "image/png": "[encoded data removed]",
      "text/plain": [
       "<Figure size 640x480 with 1 Axes>"
      ]
     },
     "metadata": {},
     "output_type": "display_data"
    }
   ],
   "source": [
    "plt.plot(weighted_history['accuracy'],label='accuracy')\n",
    "plt.plot(weighted_history['precision'],label='precision')\n",
    "plt.legend()"
   ]
  },
  {
   "cell_type": "code",
   "execution_count": 118,
   "id": "52e9375e",
   "metadata": {},
   "outputs": [],
   "source": [
    "# We see that tho accuracy is more this model has more efficacy to show fraudlent transcation"
   ]
  },
  {
   "cell_type": "code",
   "execution_count": 119,
   "id": "d0d85816",
   "metadata": {},
   "outputs": [],
   "source": [
    "# Second Method is to Oversample the minor data while training\n"
   ]
  },
  {
   "cell_type": "code",
   "execution_count": 120,
   "id": "7e2d739e",
   "metadata": {},
   "outputs": [
    {
     "data": {
      "text/html": [
       "<div>\n",
       "<style scoped>\n",
       "    .dataframe tbody tr th:only-of-type {\n",
       "        vertical-align: middle;\n",
       "    }\n",
       "\n",
       "    .dataframe tbody tr th {\n",
       "        vertical-align: top;\n",
       "    }\n",
       "\n",
       "    .dataframe thead th {\n",
       "        text-align: right;\n",
       "    }\n",
       "</style>\n",
       "<table border=\"1\" class=\"dataframe\">\n",
       "  <thead>\n",
       "    <tr style=\"text-align: right;\">\n",
       "      <th></th>\n",
       "      <th>loss</th>\n",
       "      <th>tp</th>\n",
       "      <th>fp</th>\n",
       "      <th>tn</th>\n",
       "      <th>fn</th>\n",
       "      <th>accuracy</th>\n",
       "      <th>precision</th>\n",
       "      <th>recall</th>\n",
       "      <th>auc</th>\n",
       "      <th>prc</th>\n",
       "      <th>val_loss</th>\n",
       "      <th>val_tp</th>\n",
       "      <th>val_fp</th>\n",
       "      <th>val_tn</th>\n",
       "      <th>val_fn</th>\n",
       "      <th>val_accuracy</th>\n",
       "      <th>val_precision</th>\n",
       "      <th>val_recall</th>\n",
       "      <th>val_auc</th>\n",
       "      <th>val_prc</th>\n",
       "    </tr>\n",
       "  </thead>\n",
       "  <tbody>\n",
       "    <tr>\n",
       "      <th>0</th>\n",
       "      <td>0.569575</td>\n",
       "      <td>276.0</td>\n",
       "      <td>72191.0</td>\n",
       "      <td>212124.0</td>\n",
       "      <td>216.0</td>\n",
       "      <td>0.745768</td>\n",
       "      <td>0.003809</td>\n",
       "      <td>0.560976</td>\n",
       "      <td>0.685522</td>\n",
       "      <td>0.177583</td>\n",
       "      <td>0.354431</td>\n",
       "      <td>48.0</td>\n",
       "      <td>4553.0</td>\n",
       "      <td>52319.0</td>\n",
       "      <td>42.0</td>\n",
       "      <td>0.919332</td>\n",
       "      <td>0.010433</td>\n",
       "      <td>0.533333</td>\n",
       "      <td>0.695491</td>\n",
       "      <td>0.281716</td>\n",
       "    </tr>\n",
       "    <tr>\n",
       "      <th>1</th>\n",
       "      <td>0.294720</td>\n",
       "      <td>201.0</td>\n",
       "      <td>13689.0</td>\n",
       "      <td>213754.0</td>\n",
       "      <td>201.0</td>\n",
       "      <td>0.939038</td>\n",
       "      <td>0.014471</td>\n",
       "      <td>0.500000</td>\n",
       "      <td>0.701655</td>\n",
       "      <td>0.264782</td>\n",
       "      <td>0.181586</td>\n",
       "      <td>48.0</td>\n",
       "      <td>157.0</td>\n",
       "      <td>56715.0</td>\n",
       "      <td>42.0</td>\n",
       "      <td>0.996506</td>\n",
       "      <td>0.234146</td>\n",
       "      <td>0.533333</td>\n",
       "      <td>0.758702</td>\n",
       "      <td>0.386218</td>\n",
       "    </tr>\n",
       "    <tr>\n",
       "      <th>2</th>\n",
       "      <td>0.169592</td>\n",
       "      <td>174.0</td>\n",
       "      <td>2314.0</td>\n",
       "      <td>225129.0</td>\n",
       "      <td>228.0</td>\n",
       "      <td>0.988843</td>\n",
       "      <td>0.069936</td>\n",
       "      <td>0.432836</td>\n",
       "      <td>0.758730</td>\n",
       "      <td>0.265247</td>\n",
       "      <td>0.094560</td>\n",
       "      <td>44.0</td>\n",
       "      <td>9.0</td>\n",
       "      <td>56863.0</td>\n",
       "      <td>46.0</td>\n",
       "      <td>0.999034</td>\n",
       "      <td>0.830189</td>\n",
       "      <td>0.488889</td>\n",
       "      <td>0.802726</td>\n",
       "      <td>0.493526</td>\n",
       "    </tr>\n",
       "    <tr>\n",
       "      <th>3</th>\n",
       "      <td>0.105415</td>\n",
       "      <td>190.0</td>\n",
       "      <td>543.0</td>\n",
       "      <td>226900.0</td>\n",
       "      <td>212.0</td>\n",
       "      <td>0.996686</td>\n",
       "      <td>0.259209</td>\n",
       "      <td>0.472637</td>\n",
       "      <td>0.791358</td>\n",
       "      <td>0.371911</td>\n",
       "      <td>0.052531</td>\n",
       "      <td>51.0</td>\n",
       "      <td>10.0</td>\n",
       "      <td>56862.0</td>\n",
       "      <td>39.0</td>\n",
       "      <td>0.999140</td>\n",
       "      <td>0.836066</td>\n",
       "      <td>0.566667</td>\n",
       "      <td>0.835408</td>\n",
       "      <td>0.551700</td>\n",
       "    </tr>\n",
       "    <tr>\n",
       "      <th>4</th>\n",
       "      <td>0.072158</td>\n",
       "      <td>192.0</td>\n",
       "      <td>193.0</td>\n",
       "      <td>227250.0</td>\n",
       "      <td>210.0</td>\n",
       "      <td>0.998231</td>\n",
       "      <td>0.498701</td>\n",
       "      <td>0.477612</td>\n",
       "      <td>0.838604</td>\n",
       "      <td>0.407450</td>\n",
       "      <td>0.032233</td>\n",
       "      <td>51.0</td>\n",
       "      <td>10.0</td>\n",
       "      <td>56862.0</td>\n",
       "      <td>39.0</td>\n",
       "      <td>0.999140</td>\n",
       "      <td>0.836066</td>\n",
       "      <td>0.566667</td>\n",
       "      <td>0.856806</td>\n",
       "      <td>0.599336</td>\n",
       "    </tr>\n",
       "  </tbody>\n",
       "</table>\n",
       "</div>"
      ],
      "text/plain": [
       "       loss     tp       fp        tn     fn  accuracy  precision    recall  \\\n",
       "0  0.569575  276.0  72191.0  212124.0  216.0  0.745768   0.003809  0.560976   \n",
       "1  0.294720  201.0  13689.0  213754.0  201.0  0.939038   0.014471  0.500000   \n",
       "2  0.169592  174.0   2314.0  225129.0  228.0  0.988843   0.069936  0.432836   \n",
       "3  0.105415  190.0    543.0  226900.0  212.0  0.996686   0.259209  0.472637   \n",
       "4  0.072158  192.0    193.0  227250.0  210.0  0.998231   0.498701  0.477612   \n",
       "\n",
       "        auc       prc  val_loss  val_tp  val_fp   val_tn  val_fn  \\\n",
       "0  0.685522  0.177583  0.354431    48.0  4553.0  52319.0    42.0   \n",
       "1  0.701655  0.264782  0.181586    48.0   157.0  56715.0    42.0   \n",
       "2  0.758730  0.265247  0.094560    44.0     9.0  56863.0    46.0   \n",
       "3  0.791358  0.371911  0.052531    51.0    10.0  56862.0    39.0   \n",
       "4  0.838604  0.407450  0.032233    51.0    10.0  56862.0    39.0   \n",
       "\n",
       "   val_accuracy  val_precision  val_recall   val_auc   val_prc  \n",
       "0      0.919332       0.010433    0.533333  0.695491  0.281716  \n",
       "1      0.996506       0.234146    0.533333  0.758702  0.386218  \n",
       "2      0.999034       0.830189    0.488889  0.802726  0.493526  \n",
       "3      0.999140       0.836066    0.566667  0.835408  0.551700  \n",
       "4      0.999140       0.836066    0.566667  0.856806  0.599336  "
      ]
     },
     "execution_count": 120,
     "metadata": {},
     "output_type": "execute_result"
    }
   ],
   "source": []
  },
  {
   "cell_type": "code",
   "execution_count": 121,
   "id": "e04faebb",
   "metadata": {},
   "outputs": [
    {
     "data": {
      "text/html": [
       "<div>\n",
       "<style scoped>\n",
       "    .dataframe tbody tr th:only-of-type {\n",
       "        vertical-align: middle;\n",
       "    }\n",
       "\n",
       "    .dataframe tbody tr th {\n",
       "        vertical-align: top;\n",
       "    }\n",
       "\n",
       "    .dataframe thead th {\n",
       "        text-align: right;\n",
       "    }\n",
       "</style>\n",
       "<table border=\"1\" class=\"dataframe\">\n",
       "  <thead>\n",
       "    <tr style=\"text-align: right;\">\n",
       "      <th></th>\n",
       "      <th>Time</th>\n",
       "      <th>V1</th>\n",
       "      <th>V2</th>\n",
       "      <th>V3</th>\n",
       "      <th>V4</th>\n",
       "      <th>V5</th>\n",
       "      <th>V6</th>\n",
       "      <th>V7</th>\n",
       "      <th>V8</th>\n",
       "      <th>V9</th>\n",
       "      <th>...</th>\n",
       "      <th>V21</th>\n",
       "      <th>V22</th>\n",
       "      <th>V23</th>\n",
       "      <th>V24</th>\n",
       "      <th>V25</th>\n",
       "      <th>V26</th>\n",
       "      <th>V27</th>\n",
       "      <th>V28</th>\n",
       "      <th>Amount</th>\n",
       "      <th>Class</th>\n",
       "    </tr>\n",
       "  </thead>\n",
       "  <tbody>\n",
       "    <tr>\n",
       "      <th>0</th>\n",
       "      <td>0.0</td>\n",
       "      <td>-1.359807</td>\n",
       "      <td>-0.072781</td>\n",
       "      <td>2.536347</td>\n",
       "      <td>1.378155</td>\n",
       "      <td>-0.338321</td>\n",
       "      <td>0.462388</td>\n",
       "      <td>0.239599</td>\n",
       "      <td>0.098698</td>\n",
       "      <td>0.363787</td>\n",
       "      <td>...</td>\n",
       "      <td>-0.018307</td>\n",
       "      <td>0.277838</td>\n",
       "      <td>-0.110474</td>\n",
       "      <td>0.066928</td>\n",
       "      <td>0.128539</td>\n",
       "      <td>-0.189115</td>\n",
       "      <td>0.133558</td>\n",
       "      <td>-0.021053</td>\n",
       "      <td>149.62</td>\n",
       "      <td>0</td>\n",
       "    </tr>\n",
       "    <tr>\n",
       "      <th>1</th>\n",
       "      <td>0.0</td>\n",
       "      <td>1.191857</td>\n",
       "      <td>0.266151</td>\n",
       "      <td>0.166480</td>\n",
       "      <td>0.448154</td>\n",
       "      <td>0.060018</td>\n",
       "      <td>-0.082361</td>\n",
       "      <td>-0.078803</td>\n",
       "      <td>0.085102</td>\n",
       "      <td>-0.255425</td>\n",
       "      <td>...</td>\n",
       "      <td>-0.225775</td>\n",
       "      <td>-0.638672</td>\n",
       "      <td>0.101288</td>\n",
       "      <td>-0.339846</td>\n",
       "      <td>0.167170</td>\n",
       "      <td>0.125895</td>\n",
       "      <td>-0.008983</td>\n",
       "      <td>0.014724</td>\n",
       "      <td>2.69</td>\n",
       "      <td>0</td>\n",
       "    </tr>\n",
       "    <tr>\n",
       "      <th>2</th>\n",
       "      <td>1.0</td>\n",
       "      <td>-1.358354</td>\n",
       "      <td>-1.340163</td>\n",
       "      <td>1.773209</td>\n",
       "      <td>0.379780</td>\n",
       "      <td>-0.503198</td>\n",
       "      <td>1.800499</td>\n",
       "      <td>0.791461</td>\n",
       "      <td>0.247676</td>\n",
       "      <td>-1.514654</td>\n",
       "      <td>...</td>\n",
       "      <td>0.247998</td>\n",
       "      <td>0.771679</td>\n",
       "      <td>0.909412</td>\n",
       "      <td>-0.689281</td>\n",
       "      <td>-0.327642</td>\n",
       "      <td>-0.139097</td>\n",
       "      <td>-0.055353</td>\n",
       "      <td>-0.059752</td>\n",
       "      <td>378.66</td>\n",
       "      <td>0</td>\n",
       "    </tr>\n",
       "    <tr>\n",
       "      <th>3</th>\n",
       "      <td>1.0</td>\n",
       "      <td>-0.966272</td>\n",
       "      <td>-0.185226</td>\n",
       "      <td>1.792993</td>\n",
       "      <td>-0.863291</td>\n",
       "      <td>-0.010309</td>\n",
       "      <td>1.247203</td>\n",
       "      <td>0.237609</td>\n",
       "      <td>0.377436</td>\n",
       "      <td>-1.387024</td>\n",
       "      <td>...</td>\n",
       "      <td>-0.108300</td>\n",
       "      <td>0.005274</td>\n",
       "      <td>-0.190321</td>\n",
       "      <td>-1.175575</td>\n",
       "      <td>0.647376</td>\n",
       "      <td>-0.221929</td>\n",
       "      <td>0.062723</td>\n",
       "      <td>0.061458</td>\n",
       "      <td>123.50</td>\n",
       "      <td>0</td>\n",
       "    </tr>\n",
       "    <tr>\n",
       "      <th>4</th>\n",
       "      <td>2.0</td>\n",
       "      <td>-1.158233</td>\n",
       "      <td>0.877737</td>\n",
       "      <td>1.548718</td>\n",
       "      <td>0.403034</td>\n",
       "      <td>-0.407193</td>\n",
       "      <td>0.095921</td>\n",
       "      <td>0.592941</td>\n",
       "      <td>-0.270533</td>\n",
       "      <td>0.817739</td>\n",
       "      <td>...</td>\n",
       "      <td>-0.009431</td>\n",
       "      <td>0.798278</td>\n",
       "      <td>-0.137458</td>\n",
       "      <td>0.141267</td>\n",
       "      <td>-0.206010</td>\n",
       "      <td>0.502292</td>\n",
       "      <td>0.219422</td>\n",
       "      <td>0.215153</td>\n",
       "      <td>69.99</td>\n",
       "      <td>0</td>\n",
       "    </tr>\n",
       "  </tbody>\n",
       "</table>\n",
       "<p>5 rows × 31 columns</p>\n",
       "</div>"
      ],
      "text/plain": [
       "   Time        V1        V2        V3        V4        V5        V6        V7  \\\n",
       "0   0.0 -1.359807 -0.072781  2.536347  1.378155 -0.338321  0.462388  0.239599   \n",
       "1   0.0  1.191857  0.266151  0.166480  0.448154  0.060018 -0.082361 -0.078803   \n",
       "2   1.0 -1.358354 -1.340163  1.773209  0.379780 -0.503198  1.800499  0.791461   \n",
       "3   1.0 -0.966272 -0.185226  1.792993 -0.863291 -0.010309  1.247203  0.237609   \n",
       "4   2.0 -1.158233  0.877737  1.548718  0.403034 -0.407193  0.095921  0.592941   \n",
       "\n",
       "         V8        V9  ...       V21       V22       V23       V24       V25  \\\n",
       "0  0.098698  0.363787  ... -0.018307  0.277838 -0.110474  0.066928  0.128539   \n",
       "1  0.085102 -0.255425  ... -0.225775 -0.638672  0.101288 -0.339846  0.167170   \n",
       "2  0.247676 -1.514654  ...  0.247998  0.771679  0.909412 -0.689281 -0.327642   \n",
       "3  0.377436 -1.387024  ... -0.108300  0.005274 -0.190321 -1.175575  0.647376   \n",
       "4 -0.270533  0.817739  ... -0.009431  0.798278 -0.137458  0.141267 -0.206010   \n",
       "\n",
       "        V26       V27       V28  Amount  Class  \n",
       "0 -0.189115  0.133558 -0.021053  149.62      0  \n",
       "1  0.125895 -0.008983  0.014724    2.69      0  \n",
       "2 -0.139097 -0.055353 -0.059752  378.66      0  \n",
       "3 -0.221929  0.062723  0.061458  123.50      0  \n",
       "4  0.502292  0.219422  0.215153   69.99      0  \n",
       "\n",
       "[5 rows x 31 columns]"
      ]
     },
     "execution_count": 121,
     "metadata": {},
     "output_type": "execute_result"
    }
   ],
   "source": [
    "df = pd.read_csv('https://storage.googleapis.com/download.tensorflow.org/data/creditcard.csv')\n",
    "df.head()"
   ]
  },
  {
   "cell_type": "code",
   "execution_count": 163,
   "id": "e2165f38",
   "metadata": {},
   "outputs": [],
   "source": [
    "df.drop(labels='Time',axis=1,inplace=True)"
   ]
  },
  {
   "cell_type": "code",
   "execution_count": 164,
   "id": "269bf5c4",
   "metadata": {},
   "outputs": [],
   "source": [
    "pos_labels = df[df['Class']==0]['Class'].values\n",
    "pos_index =  df[df['Class']==0].index"
   ]
  },
  {
   "cell_type": "code",
   "execution_count": 165,
   "id": "bad42ec6",
   "metadata": {},
   "outputs": [],
   "source": [
    "pos_features = np.array(df.iloc[pos_index,:-1])"
   ]
  },
  {
   "cell_type": "code",
   "execution_count": 166,
   "id": "d72f7b85",
   "metadata": {},
   "outputs": [
    {
     "data": {
      "text/plain": [
       "(284315, 29)"
      ]
     },
     "execution_count": 166,
     "metadata": {},
     "output_type": "execute_result"
    }
   ],
   "source": [
    "pos_features.shape"
   ]
  },
  {
   "cell_type": "code",
   "execution_count": 167,
   "id": "291a767d",
   "metadata": {},
   "outputs": [],
   "source": [
    "neg_labels = df[df['Class']==1]['Class'].values\n",
    "neg_index =  df[df['Class']==1].index\n"
   ]
  },
  {
   "cell_type": "code",
   "execution_count": 168,
   "id": "4e0ed254",
   "metadata": {},
   "outputs": [],
   "source": [
    "neg_features = np.array(df.iloc[neg_index,:-1])"
   ]
  },
  {
   "cell_type": "code",
   "execution_count": 169,
   "id": "8c49166b",
   "metadata": {},
   "outputs": [],
   "source": [
    "ids = np.arange(len(pos_labels))"
   ]
  },
  {
   "cell_type": "code",
   "execution_count": 170,
   "id": "69697737",
   "metadata": {},
   "outputs": [],
   "source": [
    "choices = np.random.choice(ids,len(neg_labels))"
   ]
  },
  {
   "cell_type": "code",
   "execution_count": 171,
   "id": "e4aa0928",
   "metadata": {},
   "outputs": [],
   "source": [
    "res_pos_features = pos_features[choices]\n",
    "res_pos_labels = pos_labels[choices]"
   ]
  },
  {
   "cell_type": "code",
   "execution_count": 172,
   "id": "b47b4f3c",
   "metadata": {},
   "outputs": [],
   "source": [
    "resample_features = np.concatenate([res_pos_features,neg_features],axis=0)\n",
    "resample_labels = np.concatenate([res_pos_labels,neg_labels],axis=0)"
   ]
  },
  {
   "cell_type": "code",
   "execution_count": null,
   "id": "90edc8e6",
   "metadata": {},
   "outputs": [],
   "source": []
  },
  {
   "cell_type": "code",
   "execution_count": 173,
   "id": "e01a34d0",
   "metadata": {},
   "outputs": [],
   "source": [
    "order = np.arange(len(resample_labels))\n",
    "np.random.shuffle(order)"
   ]
  },
  {
   "cell_type": "code",
   "execution_count": 174,
   "id": "97ee79b7",
   "metadata": {},
   "outputs": [],
   "source": [
    "resample_features = resample_features[order]\n",
    "resample_labels = resample_labels[order]"
   ]
  },
  {
   "cell_type": "code",
   "execution_count": 194,
   "id": "73dca4fe",
   "metadata": {},
   "outputs": [],
   "source": [
    "X_train_res,X_test_res,y_train_re,y_test_re= train_test_split(resample_features,resample_labels,test_size=0.2)"
   ]
  },
  {
   "cell_type": "code",
   "execution_count": 195,
   "id": "709b90ad",
   "metadata": {},
   "outputs": [],
   "source": [
    "X_train_transform = sc.fit_transform(X_train_res)"
   ]
  },
  {
   "cell_type": "code",
   "execution_count": 205,
   "id": "f7cd0777",
   "metadata": {},
   "outputs": [
    {
     "name": "stdout",
     "output_type": "stream",
     "text": [
      "Epoch 1/100\n",
      "79/79 [==============================] - ETA: 0s - loss: 41.8864 - tp: 775.0000 - fp: 664.0000 - tn: 108.0000 - fn: 27.0000 - accuracy: 0.5610 - precision: 0.5386 - recall: 0.9663 - auc: 0.7337 - prc: 0.7701WARNING:tensorflow:Early stopping conditioned on metric `val_prc` which is not available. Available metrics are: loss,tp,fp,tn,fn,accuracy,precision,recall,auc,prc\n",
      "79/79 [==============================] - 3s 12ms/step - loss: 41.8864 - tp: 775.0000 - fp: 664.0000 - tn: 108.0000 - fn: 27.0000 - accuracy: 0.5610 - precision: 0.5386 - recall: 0.9663 - auc: 0.7337 - prc: 0.7701\n",
      "Epoch 2/100\n",
      "79/79 [==============================] - ETA: 0s - loss: 20.0214 - tp: 395.0000 - fp: 341.0000 - tn: 45.0000 - fn: 6.0000 - accuracy: 0.5591 - precision: 0.5367 - recall: 0.9850 - auc: 0.8139 - prc: 0.8461WARNING:tensorflow:Early stopping conditioned on metric `val_prc` which is not available. Available metrics are: loss,tp,fp,tn,fn,accuracy,precision,recall,auc,prc\n",
      "79/79 [==============================] - 1s 12ms/step - loss: 20.0214 - tp: 395.0000 - fp: 341.0000 - tn: 45.0000 - fn: 6.0000 - accuracy: 0.5591 - precision: 0.5367 - recall: 0.9850 - auc: 0.8139 - prc: 0.8461\n",
      "Epoch 3/100\n",
      "76/79 [===========================>..] - ETA: 0s - loss: 14.3108 - tp: 388.0000 - fp: 350.0000 - tn: 19.0000 - fn: 3.0000 - accuracy: 0.5355 - precision: 0.5257 - recall: 0.9923 - auc: 0.8104 - prc: 0.8499WARNING:tensorflow:Early stopping conditioned on metric `val_prc` which is not available. Available metrics are: loss,tp,fp,tn,fn,accuracy,precision,recall,auc,prc\n",
      "79/79 [==============================] - 1s 11ms/step - loss: 14.0542 - tp: 398.0000 - fp: 367.0000 - tn: 19.0000 - fn: 3.0000 - accuracy: 0.5299 - precision: 0.5203 - recall: 0.9925 - auc: 0.8087 - prc: 0.8452\n",
      "Epoch 4/100\n",
      "79/79 [==============================] - ETA: 0s - loss: 10.4892 - tp: 401.0000 - fp: 376.0000 - tn: 10.0000 - fn: 0.0000e+00 - accuracy: 0.5222 - precision: 0.5161 - recall: 1.0000 - auc: 0.8003 - prc: 0.8373WARNING:tensorflow:Early stopping conditioned on metric `val_prc` which is not available. Available metrics are: loss,tp,fp,tn,fn,accuracy,precision,recall,auc,prc\n",
      "79/79 [==============================] - 1s 11ms/step - loss: 10.4892 - tp: 401.0000 - fp: 376.0000 - tn: 10.0000 - fn: 0.0000e+00 - accuracy: 0.5222 - precision: 0.5161 - recall: 1.0000 - auc: 0.8003 - prc: 0.8373\n",
      "Epoch 5/100\n",
      "79/79 [==============================] - ETA: 0s - loss: 8.1228 - tp: 400.0000 - fp: 383.0000 - tn: 3.0000 - fn: 1.0000 - accuracy: 0.5121 - precision: 0.5109 - recall: 0.9975 - auc: 0.8025 - prc: 0.8361 WARNING:tensorflow:Early stopping conditioned on metric `val_prc` which is not available. Available metrics are: loss,tp,fp,tn,fn,accuracy,precision,recall,auc,prc\n",
      "79/79 [==============================] - 1s 11ms/step - loss: 8.1228 - tp: 400.0000 - fp: 383.0000 - tn: 3.0000 - fn: 1.0000 - accuracy: 0.5121 - precision: 0.5109 - recall: 0.9975 - auc: 0.8025 - prc: 0.8361\n",
      "Epoch 6/100\n",
      "75/79 [===========================>..] - ETA: 0s - loss: 5.8358 - tp: 380.0000 - fp: 366.0000 - tn: 3.0000 - fn: 1.0000 - accuracy: 0.5107 - precision: 0.5094 - recall: 0.9974 - auc: 0.8169 - prc: 0.8356 WARNING:tensorflow:Early stopping conditioned on metric `val_prc` which is not available. Available metrics are: loss,tp,fp,tn,fn,accuracy,precision,recall,auc,prc\n",
      "79/79 [==============================] - 1s 11ms/step - loss: 6.0890 - tp: 400.0000 - fp: 383.0000 - tn: 3.0000 - fn: 1.0000 - accuracy: 0.5121 - precision: 0.5109 - recall: 0.9975 - auc: 0.8141 - prc: 0.8362\n",
      "Epoch 7/100\n",
      "77/79 [============================>.] - ETA: 0s - loss: 4.8779 - tp: 390.0000 - fp: 379.0000 - tn: 1.0000 - fn: 0.0000e+00 - accuracy: 0.5078 - precision: 0.5072 - recall: 1.0000 - auc: 0.8240 - prc: 0.8332WARNING:tensorflow:Early stopping conditioned on metric `val_prc` which is not available. Available metrics are: loss,tp,fp,tn,fn,accuracy,precision,recall,auc,prc\n",
      "79/79 [==============================] - 1s 11ms/step - loss: 5.0314 - tp: 401.0000 - fp: 385.0000 - tn: 1.0000 - fn: 0.0000e+00 - accuracy: 0.5108 - precision: 0.5102 - recall: 1.0000 - auc: 0.8187 - prc: 0.8311\n",
      "Epoch 8/100\n",
      "79/79 [==============================] - ETA: 0s - loss: 5.0501 - tp: 400.0000 - fp: 383.0000 - tn: 3.0000 - fn: 1.0000 - accuracy: 0.5121 - precision: 0.5109 - recall: 0.9975 - auc: 0.7885 - prc: 0.7920 WARNING:tensorflow:Early stopping conditioned on metric `val_prc` which is not available. Available metrics are: loss,tp,fp,tn,fn,accuracy,precision,recall,auc,prc\n",
      "79/79 [==============================] - 1s 13ms/step - loss: 5.0501 - tp: 400.0000 - fp: 383.0000 - tn: 3.0000 - fn: 1.0000 - accuracy: 0.5121 - precision: 0.5109 - recall: 0.9975 - auc: 0.7885 - prc: 0.7920\n",
      "Epoch 9/100\n",
      "76/79 [===========================>..] - ETA: 0s - loss: 4.3322 - tp: 385.0000 - fp: 374.0000 - tn: 1.0000 - fn: 0.0000e+00 - accuracy: 0.5079 - precision: 0.5072 - recall: 1.0000 - auc: 0.7675 - prc: 0.7644WARNING:tensorflow:Early stopping conditioned on metric `val_prc` which is not available. Available metrics are: loss,tp,fp,tn,fn,accuracy,precision,recall,auc,prc\n",
      "79/79 [==============================] - 1s 13ms/step - loss: 4.3149 - tp: 401.0000 - fp: 385.0000 - tn: 1.0000 - fn: 0.0000e+00 - accuracy: 0.5108 - precision: 0.5102 - recall: 1.0000 - auc: 0.7703 - prc: 0.7700\n",
      "Epoch 10/100\n",
      "79/79 [==============================] - ETA: 0s - loss: 2.8847 - tp: 401.0000 - fp: 382.0000 - tn: 4.0000 - fn: 0.0000e+00 - accuracy: 0.5146 - precision: 0.5121 - recall: 1.0000 - auc: 0.8002 - prc: 0.7757WARNING:tensorflow:Early stopping conditioned on metric `val_prc` which is not available. Available metrics are: loss,tp,fp,tn,fn,accuracy,precision,recall,auc,prc\n",
      "79/79 [==============================] - 1s 12ms/step - loss: 2.8847 - tp: 401.0000 - fp: 382.0000 - tn: 4.0000 - fn: 0.0000e+00 - accuracy: 0.5146 - precision: 0.5121 - recall: 1.0000 - auc: 0.8002 - prc: 0.7757\n",
      "Epoch 11/100\n",
      "75/79 [===========================>..] - ETA: 0s - loss: 3.6719 - tp: 381.0000 - fp: 368.0000 - tn: 1.0000 - fn: 0.0000e+00 - accuracy: 0.5093 - precision: 0.5087 - recall: 1.0000 - auc: 0.7708 - prc: 0.7505WARNING:tensorflow:Early stopping conditioned on metric `val_prc` which is not available. Available metrics are: loss,tp,fp,tn,fn,accuracy,precision,recall,auc,prc\n",
      "79/79 [==============================] - 1s 13ms/step - loss: 3.5790 - tp: 401.0000 - fp: 385.0000 - tn: 1.0000 - fn: 0.0000e+00 - accuracy: 0.5108 - precision: 0.5102 - recall: 1.0000 - auc: 0.7706 - prc: 0.7493\n",
      "Epoch 12/100\n",
      "76/79 [===========================>..] - ETA: 0s - loss: 2.9697 - tp: 387.0000 - fp: 373.0000 - tn: 0.0000e+00 - fn: 0.0000e+00 - accuracy: 0.5092 - precision: 0.5092 - recall: 1.0000 - auc: 0.7843 - prc: 0.7534WARNING:tensorflow:Early stopping conditioned on metric `val_prc` which is not available. Available metrics are: loss,tp,fp,tn,fn,accuracy,precision,recall,auc,prc\n",
      "79/79 [==============================] - 1s 11ms/step - loss: 2.9404 - tp: 401.0000 - fp: 386.0000 - tn: 0.0000e+00 - fn: 0.0000e+00 - accuracy: 0.5095 - precision: 0.5095 - recall: 1.0000 - auc: 0.7854 - prc: 0.7550\n",
      "Epoch 13/100\n",
      "79/79 [==============================] - ETA: 0s - loss: 2.4284 - tp: 401.0000 - fp: 386.0000 - tn: 0.0000e+00 - fn: 0.0000e+00 - accuracy: 0.5095 - precision: 0.5095 - recall: 1.0000 - auc: 0.7862 - prc: 0.7501WARNING:tensorflow:Early stopping conditioned on metric `val_prc` which is not available. Available metrics are: loss,tp,fp,tn,fn,accuracy,precision,recall,auc,prc\n",
      "79/79 [==============================] - 1s 14ms/step - loss: 2.4284 - tp: 401.0000 - fp: 386.0000 - tn: 0.0000e+00 - fn: 0.0000e+00 - accuracy: 0.5095 - precision: 0.5095 - recall: 1.0000 - auc: 0.7862 - prc: 0.7501\n",
      "Epoch 14/100\n",
      "78/79 [============================>.] - ETA: 0s - loss: 2.6820 - tp: 398.0000 - fp: 382.0000 - tn: 0.0000e+00 - fn: 0.0000e+00 - accuracy: 0.5103 - precision: 0.5103 - recall: 1.0000 - auc: 0.7765 - prc: 0.7408WARNING:tensorflow:Early stopping conditioned on metric `val_prc` which is not available. Available metrics are: loss,tp,fp,tn,fn,accuracy,precision,recall,auc,prc\n",
      "79/79 [==============================] - 1s 14ms/step - loss: 2.6851 - tp: 401.0000 - fp: 386.0000 - tn: 0.0000e+00 - fn: 0.0000e+00 - accuracy: 0.5095 - precision: 0.5095 - recall: 1.0000 - auc: 0.7758 - prc: 0.7394\n"
     ]
    },
    {
     "name": "stdout",
     "output_type": "stream",
     "text": [
      "Epoch 15/100\n",
      "75/79 [===========================>..] - ETA: 0s - loss: 2.4348 - tp: 383.0000 - fp: 366.0000 - tn: 1.0000 - fn: 0.0000e+00 - accuracy: 0.5120 - precision: 0.5113 - recall: 1.0000 - auc: 0.7824 - prc: 0.7374WARNING:tensorflow:Early stopping conditioned on metric `val_prc` which is not available. Available metrics are: loss,tp,fp,tn,fn,accuracy,precision,recall,auc,prc\n",
      "79/79 [==============================] - 1s 14ms/step - loss: 2.4438 - tp: 401.0000 - fp: 385.0000 - tn: 1.0000 - fn: 0.0000e+00 - accuracy: 0.5108 - precision: 0.5102 - recall: 1.0000 - auc: 0.7818 - prc: 0.7370\n",
      "Epoch 16/100\n",
      "76/79 [===========================>..] - ETA: 0s - loss: 2.3105 - tp: 388.0000 - fp: 372.0000 - tn: 0.0000e+00 - fn: 0.0000e+00 - accuracy: 0.5105 - precision: 0.5105 - recall: 1.0000 - auc: 0.7905 - prc: 0.7527WARNING:tensorflow:Early stopping conditioned on metric `val_prc` which is not available. Available metrics are: loss,tp,fp,tn,fn,accuracy,precision,recall,auc,prc\n",
      "79/79 [==============================] - 1s 11ms/step - loss: 2.2772 - tp: 401.0000 - fp: 386.0000 - tn: 0.0000e+00 - fn: 0.0000e+00 - accuracy: 0.5095 - precision: 0.5095 - recall: 1.0000 - auc: 0.7909 - prc: 0.7510\n",
      "Epoch 17/100\n",
      "78/79 [============================>.] - ETA: 0s - loss: 2.4129 - tp: 398.0000 - fp: 379.0000 - tn: 3.0000 - fn: 0.0000e+00 - accuracy: 0.5141 - precision: 0.5122 - recall: 1.0000 - auc: 0.7878 - prc: 0.7425WARNING:tensorflow:Early stopping conditioned on metric `val_prc` which is not available. Available metrics are: loss,tp,fp,tn,fn,accuracy,precision,recall,auc,prc\n",
      "79/79 [==============================] - 1s 10ms/step - loss: 2.4087 - tp: 401.0000 - fp: 383.0000 - tn: 3.0000 - fn: 0.0000e+00 - accuracy: 0.5133 - precision: 0.5115 - recall: 1.0000 - auc: 0.7864 - prc: 0.7398\n",
      "Epoch 18/100\n",
      "76/79 [===========================>..] - ETA: 0s - loss: 2.3261 - tp: 387.0000 - fp: 373.0000 - tn: 0.0000e+00 - fn: 0.0000e+00 - accuracy: 0.5092 - precision: 0.5092 - recall: 1.0000 - auc: 0.7645 - prc: 0.7163WARNING:tensorflow:Early stopping conditioned on metric `val_prc` which is not available. Available metrics are: loss,tp,fp,tn,fn,accuracy,precision,recall,auc,prc\n",
      "79/79 [==============================] - 1s 14ms/step - loss: 2.3663 - tp: 401.0000 - fp: 386.0000 - tn: 0.0000e+00 - fn: 0.0000e+00 - accuracy: 0.5095 - precision: 0.5095 - recall: 1.0000 - auc: 0.7648 - prc: 0.7175\n",
      "Epoch 19/100\n",
      "78/79 [============================>.] - ETA: 0s - loss: 1.9960 - tp: 397.0000 - fp: 382.0000 - tn: 1.0000 - fn: 0.0000e+00 - accuracy: 0.5103 - precision: 0.5096 - recall: 1.0000 - auc: 0.7902 - prc: 0.7302WARNING:tensorflow:Early stopping conditioned on metric `val_prc` which is not available. Available metrics are: loss,tp,fp,tn,fn,accuracy,precision,recall,auc,prc\n",
      "79/79 [==============================] - 1s 14ms/step - loss: 1.9925 - tp: 401.0000 - fp: 385.0000 - tn: 1.0000 - fn: 0.0000e+00 - accuracy: 0.5108 - precision: 0.5102 - recall: 1.0000 - auc: 0.7896 - prc: 0.7301\n",
      "Epoch 20/100\n",
      "79/79 [==============================] - ETA: 0s - loss: 2.0653 - tp: 401.0000 - fp: 385.0000 - tn: 1.0000 - fn: 0.0000e+00 - accuracy: 0.5108 - precision: 0.5102 - recall: 1.0000 - auc: 0.8010 - prc: 0.7513  WARNING:tensorflow:Early stopping conditioned on metric `val_prc` which is not available. Available metrics are: loss,tp,fp,tn,fn,accuracy,precision,recall,auc,prc\n",
      "79/79 [==============================] - 1s 14ms/step - loss: 2.0653 - tp: 401.0000 - fp: 385.0000 - tn: 1.0000 - fn: 0.0000e+00 - accuracy: 0.5108 - precision: 0.5102 - recall: 1.0000 - auc: 0.8010 - prc: 0.7513\n",
      "Epoch 21/100\n",
      "76/79 [===========================>..] - ETA: 0s - loss: 1.7417 - tp: 388.0000 - fp: 372.0000 - tn: 0.0000e+00 - fn: 0.0000e+00 - accuracy: 0.5105 - precision: 0.5105 - recall: 1.0000 - auc: 0.8028 - prc: 0.7462WARNING:tensorflow:Early stopping conditioned on metric `val_prc` which is not available. Available metrics are: loss,tp,fp,tn,fn,accuracy,precision,recall,auc,prc\n",
      "79/79 [==============================] - 1s 12ms/step - loss: 1.7658 - tp: 401.0000 - fp: 385.0000 - tn: 1.0000 - fn: 0.0000e+00 - accuracy: 0.5108 - precision: 0.5102 - recall: 1.0000 - auc: 0.7989 - prc: 0.7419\n",
      "Epoch 22/100\n",
      "78/79 [============================>.] - ETA: 0s - loss: 2.1860 - tp: 400.0000 - fp: 379.0000 - tn: 1.0000 - fn: 0.0000e+00 - accuracy: 0.5141 - precision: 0.5135 - recall: 1.0000 - auc: 0.7932 - prc: 0.7447WARNING:tensorflow:Early stopping conditioned on metric `val_prc` which is not available. Available metrics are: loss,tp,fp,tn,fn,accuracy,precision,recall,auc,prc\n",
      "79/79 [==============================] - 1s 11ms/step - loss: 2.1841 - tp: 401.0000 - fp: 385.0000 - tn: 1.0000 - fn: 0.0000e+00 - accuracy: 0.5108 - precision: 0.5102 - recall: 1.0000 - auc: 0.7940 - prc: 0.7433\n",
      "Epoch 23/100\n",
      "78/79 [============================>.] - ETA: 0s - loss: 1.9888 - tp: 395.0000 - fp: 385.0000 - tn: 0.0000e+00 - fn: 0.0000e+00 - accuracy: 0.5064 - precision: 0.5064 - recall: 1.0000 - auc: 0.8045 - prc: 0.7487WARNING:tensorflow:Early stopping conditioned on metric `val_prc` which is not available. Available metrics are: loss,tp,fp,tn,fn,accuracy,precision,recall,auc,prc\n",
      "79/79 [==============================] - 1s 12ms/step - loss: 1.9802 - tp: 401.0000 - fp: 386.0000 - tn: 0.0000e+00 - fn: 0.0000e+00 - accuracy: 0.5095 - precision: 0.5095 - recall: 1.0000 - auc: 0.8049 - prc: 0.7514\n",
      "Epoch 24/100\n",
      "79/79 [==============================] - ETA: 0s - loss: 1.7758 - tp: 401.0000 - fp: 385.0000 - tn: 1.0000 - fn: 0.0000e+00 - accuracy: 0.5108 - precision: 0.5102 - recall: 1.0000 - auc: 0.7973 - prc: 0.7414   WARNING:tensorflow:Early stopping conditioned on metric `val_prc` which is not available. Available metrics are: loss,tp,fp,tn,fn,accuracy,precision,recall,auc,prc\n",
      "79/79 [==============================] - 1s 11ms/step - loss: 1.7758 - tp: 401.0000 - fp: 385.0000 - tn: 1.0000 - fn: 0.0000e+00 - accuracy: 0.5108 - precision: 0.5102 - recall: 1.0000 - auc: 0.7973 - prc: 0.7414\n",
      "Epoch 25/100\n",
      "79/79 [==============================] - ETA: 0s - loss: 1.8049 - tp: 401.0000 - fp: 385.0000 - tn: 1.0000 - fn: 0.0000e+00 - accuracy: 0.5108 - precision: 0.5102 - recall: 1.0000 - auc: 0.7976 - prc: 0.7416    WARNING:tensorflow:Early stopping conditioned on metric `val_prc` which is not available. Available metrics are: loss,tp,fp,tn,fn,accuracy,precision,recall,auc,prc\n",
      "79/79 [==============================] - 1s 14ms/step - loss: 1.8049 - tp: 401.0000 - fp: 385.0000 - tn: 1.0000 - fn: 0.0000e+00 - accuracy: 0.5108 - precision: 0.5102 - recall: 1.0000 - auc: 0.7976 - prc: 0.7416\n",
      "Epoch 26/100\n",
      "76/79 [===========================>..] - ETA: 0s - loss: 1.6824 - tp: 389.0000 - fp: 371.0000 - tn: 0.0000e+00 - fn: 0.0000e+00 - accuracy: 0.5118 - precision: 0.5118 - recall: 1.0000 - auc: 0.8224 - prc: 0.7701WARNING:tensorflow:Early stopping conditioned on metric `val_prc` which is not available. Available metrics are: loss,tp,fp,tn,fn,accuracy,precision,recall,auc,prc\n",
      "79/79 [==============================] - 1s 13ms/step - loss: 1.6736 - tp: 401.0000 - fp: 386.0000 - tn: 0.0000e+00 - fn: 0.0000e+00 - accuracy: 0.5095 - precision: 0.5095 - recall: 1.0000 - auc: 0.8213 - prc: 0.7667\n",
      "Epoch 27/100\n",
      "78/79 [============================>.] - ETA: 0s - loss: 1.9826 - tp: 397.0000 - fp: 383.0000 - tn: 0.0000e+00 - fn: 0.0000e+00 - accuracy: 0.5090 - precision: 0.5090 - recall: 1.0000 - auc: 0.8171 - prc: 0.7617WARNING:tensorflow:Early stopping conditioned on metric `val_prc` which is not available. Available metrics are: loss,tp,fp,tn,fn,accuracy,precision,recall,auc,prc\n",
      "79/79 [==============================] - 1s 11ms/step - loss: 1.9708 - tp: 401.0000 - fp: 386.0000 - tn: 0.0000e+00 - fn: 0.0000e+00 - accuracy: 0.5095 - precision: 0.5095 - recall: 1.0000 - auc: 0.8189 - prc: 0.7639\n",
      "Epoch 28/100\n",
      "79/79 [==============================] - ETA: 0s - loss: 1.9079 - tp: 401.0000 - fp: 386.0000 - tn: 0.0000e+00 - fn: 0.0000e+00 - accuracy: 0.5095 - precision: 0.5095 - recall: 1.0000 - auc: 0.8138 - prc: 0.7617WARNING:tensorflow:Early stopping conditioned on metric `val_prc` which is not available. Available metrics are: loss,tp,fp,tn,fn,accuracy,precision,recall,auc,prc\n"
     ]
    },
    {
     "name": "stdout",
     "output_type": "stream",
     "text": [
      "79/79 [==============================] - 1s 12ms/step - loss: 1.9079 - tp: 401.0000 - fp: 386.0000 - tn: 0.0000e+00 - fn: 0.0000e+00 - accuracy: 0.5095 - precision: 0.5095 - recall: 1.0000 - auc: 0.8138 - prc: 0.7617\n",
      "Epoch 29/100\n",
      "77/79 [============================>.] - ETA: 0s - loss: 1.8182 - tp: 394.0000 - fp: 376.0000 - tn: 0.0000e+00 - fn: 0.0000e+00 - accuracy: 0.5117 - precision: 0.5117 - recall: 1.0000 - auc: 0.8091 - prc: 0.7567WARNING:tensorflow:Early stopping conditioned on metric `val_prc` which is not available. Available metrics are: loss,tp,fp,tn,fn,accuracy,precision,recall,auc,prc\n",
      "79/79 [==============================] - 1s 10ms/step - loss: 1.8040 - tp: 401.0000 - fp: 386.0000 - tn: 0.0000e+00 - fn: 0.0000e+00 - accuracy: 0.5095 - precision: 0.5095 - recall: 1.0000 - auc: 0.8122 - prc: 0.7585\n",
      "Epoch 30/100\n",
      "76/79 [===========================>..] - ETA: 0s - loss: 1.7216 - tp: 388.0000 - fp: 369.0000 - tn: 3.0000 - fn: 0.0000e+00 - accuracy: 0.5145 - precision: 0.5125 - recall: 1.0000 - auc: 0.8154 - prc: 0.7586WARNING:tensorflow:Early stopping conditioned on metric `val_prc` which is not available. Available metrics are: loss,tp,fp,tn,fn,accuracy,precision,recall,auc,prc\n",
      "79/79 [==============================] - 1s 10ms/step - loss: 1.7096 - tp: 401.0000 - fp: 383.0000 - tn: 3.0000 - fn: 0.0000e+00 - accuracy: 0.5133 - precision: 0.5115 - recall: 1.0000 - auc: 0.8159 - prc: 0.7576\n",
      "Epoch 31/100\n",
      "76/79 [===========================>..] - ETA: 0s - loss: 1.9182 - tp: 388.0000 - fp: 372.0000 - tn: 0.0000e+00 - fn: 0.0000e+00 - accuracy: 0.5105 - precision: 0.5105 - recall: 1.0000 - auc: 0.8150 - prc: 0.7582WARNING:tensorflow:Early stopping conditioned on metric `val_prc` which is not available. Available metrics are: loss,tp,fp,tn,fn,accuracy,precision,recall,auc,prc\n",
      "79/79 [==============================] - 1s 10ms/step - loss: 1.8993 - tp: 401.0000 - fp: 386.0000 - tn: 0.0000e+00 - fn: 0.0000e+00 - accuracy: 0.5095 - precision: 0.5095 - recall: 1.0000 - auc: 0.8139 - prc: 0.7557\n",
      "Epoch 32/100\n",
      "77/79 [============================>.] - ETA: 0s - loss: 1.7814 - tp: 392.0000 - fp: 377.0000 - tn: 1.0000 - fn: 0.0000e+00 - accuracy: 0.5104 - precision: 0.5098 - recall: 1.0000 - auc: 0.8129 - prc: 0.7551WARNING:tensorflow:Early stopping conditioned on metric `val_prc` which is not available. Available metrics are: loss,tp,fp,tn,fn,accuracy,precision,recall,auc,prc\n",
      "79/79 [==============================] - 1s 11ms/step - loss: 1.7651 - tp: 401.0000 - fp: 385.0000 - tn: 1.0000 - fn: 0.0000e+00 - accuracy: 0.5108 - precision: 0.5102 - recall: 1.0000 - auc: 0.8143 - prc: 0.7566\n",
      "Epoch 33/100\n",
      "79/79 [==============================] - ETA: 0s - loss: 1.6439 - tp: 401.0000 - fp: 386.0000 - tn: 0.0000e+00 - fn: 0.0000e+00 - accuracy: 0.5095 - precision: 0.5095 - recall: 1.0000 - auc: 0.8282 - prc: 0.7650WARNING:tensorflow:Early stopping conditioned on metric `val_prc` which is not available. Available metrics are: loss,tp,fp,tn,fn,accuracy,precision,recall,auc,prc\n",
      "79/79 [==============================] - 1s 12ms/step - loss: 1.6439 - tp: 401.0000 - fp: 386.0000 - tn: 0.0000e+00 - fn: 0.0000e+00 - accuracy: 0.5095 - precision: 0.5095 - recall: 1.0000 - auc: 0.8282 - prc: 0.7650\n",
      "Epoch 34/100\n",
      "77/79 [============================>.] - ETA: 0s - loss: 1.5933 - tp: 393.0000 - fp: 377.0000 - tn: 0.0000e+00 - fn: 0.0000e+00 - accuracy: 0.5104 - precision: 0.5104 - recall: 1.0000 - auc: 0.8245 - prc: 0.7688WARNING:tensorflow:Early stopping conditioned on metric `val_prc` which is not available. Available metrics are: loss,tp,fp,tn,fn,accuracy,precision,recall,auc,prc\n",
      "79/79 [==============================] - 1s 11ms/step - loss: 1.5835 - tp: 401.0000 - fp: 386.0000 - tn: 0.0000e+00 - fn: 0.0000e+00 - accuracy: 0.5095 - precision: 0.5095 - recall: 1.0000 - auc: 0.8270 - prc: 0.7709\n",
      "Epoch 35/100\n",
      "79/79 [==============================] - ETA: 0s - loss: 1.7288 - tp: 401.0000 - fp: 386.0000 - tn: 0.0000e+00 - fn: 0.0000e+00 - accuracy: 0.5095 - precision: 0.5095 - recall: 1.0000 - auc: 0.8185 - prc: 0.7570WARNING:tensorflow:Early stopping conditioned on metric `val_prc` which is not available. Available metrics are: loss,tp,fp,tn,fn,accuracy,precision,recall,auc,prc\n",
      "79/79 [==============================] - 1s 10ms/step - loss: 1.7288 - tp: 401.0000 - fp: 386.0000 - tn: 0.0000e+00 - fn: 0.0000e+00 - accuracy: 0.5095 - precision: 0.5095 - recall: 1.0000 - auc: 0.8185 - prc: 0.7570\n",
      "Epoch 36/100\n",
      "78/79 [============================>.] - ETA: 0s - loss: 1.5021 - tp: 398.0000 - fp: 381.0000 - tn: 1.0000 - fn: 0.0000e+00 - accuracy: 0.5115 - precision: 0.5109 - recall: 1.0000 - auc: 0.8227 - prc: 0.7596WARNING:tensorflow:Early stopping conditioned on metric `val_prc` which is not available. Available metrics are: loss,tp,fp,tn,fn,accuracy,precision,recall,auc,prc\n",
      "79/79 [==============================] - 1s 10ms/step - loss: 1.5018 - tp: 401.0000 - fp: 385.0000 - tn: 1.0000 - fn: 0.0000e+00 - accuracy: 0.5108 - precision: 0.5102 - recall: 1.0000 - auc: 0.8219 - prc: 0.7579\n",
      "Epoch 37/100\n",
      "77/79 [============================>.] - ETA: 0s - loss: 1.4626 - tp: 394.0000 - fp: 375.0000 - tn: 1.0000 - fn: 0.0000e+00 - accuracy: 0.5130 - precision: 0.5124 - recall: 1.0000 - auc: 0.8412 - prc: 0.7825WARNING:tensorflow:Early stopping conditioned on metric `val_prc` which is not available. Available metrics are: loss,tp,fp,tn,fn,accuracy,precision,recall,auc,prc\n",
      "79/79 [==============================] - 1s 12ms/step - loss: 1.4617 - tp: 401.0000 - fp: 385.0000 - tn: 1.0000 - fn: 0.0000e+00 - accuracy: 0.5108 - precision: 0.5102 - recall: 1.0000 - auc: 0.8418 - prc: 0.7816\n",
      "Epoch 38/100\n",
      "77/79 [============================>.] - ETA: 0s - loss: 1.7186 - tp: 395.0000 - fp: 375.0000 - tn: 0.0000e+00 - fn: 0.0000e+00 - accuracy: 0.5130 - precision: 0.5130 - recall: 1.0000 - auc: 0.8538 - prc: 0.8040WARNING:tensorflow:Early stopping conditioned on metric `val_prc` which is not available. Available metrics are: loss,tp,fp,tn,fn,accuracy,precision,recall,auc,prc\n",
      "79/79 [==============================] - 1s 10ms/step - loss: 1.7153 - tp: 401.0000 - fp: 386.0000 - tn: 0.0000e+00 - fn: 0.0000e+00 - accuracy: 0.5095 - precision: 0.5095 - recall: 1.0000 - auc: 0.8511 - prc: 0.7977\n",
      "Epoch 39/100\n",
      "79/79 [==============================] - ETA: 0s - loss: 1.5378 - tp: 401.0000 - fp: 385.0000 - tn: 1.0000 - fn: 0.0000e+00 - accuracy: 0.5108 - precision: 0.5102 - recall: 1.0000 - auc: 0.8427 - prc: 0.7892WARNING:tensorflow:Early stopping conditioned on metric `val_prc` which is not available. Available metrics are: loss,tp,fp,tn,fn,accuracy,precision,recall,auc,prc\n",
      "79/79 [==============================] - 1s 10ms/step - loss: 1.5378 - tp: 401.0000 - fp: 385.0000 - tn: 1.0000 - fn: 0.0000e+00 - accuracy: 0.5108 - precision: 0.5102 - recall: 1.0000 - auc: 0.8427 - prc: 0.7892\n",
      "Epoch 40/100\n",
      "76/79 [===========================>..] - ETA: 0s - loss: 1.5089 - tp: 385.0000 - fp: 373.0000 - tn: 2.0000 - fn: 0.0000e+00 - accuracy: 0.5092 - precision: 0.5079 - recall: 1.0000 - auc: 0.8453 - prc: 0.7861WARNING:tensorflow:Early stopping conditioned on metric `val_prc` which is not available. Available metrics are: loss,tp,fp,tn,fn,accuracy,precision,recall,auc,prc\n",
      "79/79 [==============================] - 1s 11ms/step - loss: 1.4902 - tp: 401.0000 - fp: 383.0000 - tn: 3.0000 - fn: 0.0000e+00 - accuracy: 0.5133 - precision: 0.5115 - recall: 1.0000 - auc: 0.8457 - prc: 0.7877\n",
      "Epoch 41/100\n",
      "77/79 [============================>.] - ETA: 0s - loss: 1.9287 - tp: 391.0000 - fp: 378.0000 - tn: 1.0000 - fn: 0.0000e+00 - accuracy: 0.5091 - precision: 0.5085 - recall: 1.0000 - auc: 0.8457 - prc: 0.7879WARNING:tensorflow:Early stopping conditioned on metric `val_prc` which is not available. Available metrics are: loss,tp,fp,tn,fn,accuracy,precision,recall,auc,prc\n",
      "79/79 [==============================] - 1s 11ms/step - loss: 1.9112 - tp: 401.0000 - fp: 385.0000 - tn: 1.0000 - fn: 0.0000e+00 - accuracy: 0.5108 - precision: 0.5102 - recall: 1.0000 - auc: 0.8432 - prc: 0.7853\n",
      "Epoch 42/100\n"
     ]
    },
    {
     "name": "stdout",
     "output_type": "stream",
     "text": [
      "78/79 [============================>.] - ETA: 0s - loss: 1.3981 - tp: 398.0000 - fp: 380.0000 - tn: 2.0000 - fn: 0.0000e+00 - accuracy: 0.5128 - precision: 0.5116 - recall: 1.0000 - auc: 0.8701 - prc: 0.8178WARNING:tensorflow:Early stopping conditioned on metric `val_prc` which is not available. Available metrics are: loss,tp,fp,tn,fn,accuracy,precision,recall,auc,prc\n",
      "79/79 [==============================] - 1s 10ms/step - loss: 1.4196 - tp: 401.0000 - fp: 384.0000 - tn: 2.0000 - fn: 0.0000e+00 - accuracy: 0.5121 - precision: 0.5108 - recall: 1.0000 - auc: 0.8684 - prc: 0.8161\n",
      "Epoch 43/100\n",
      "76/79 [===========================>..] - ETA: 0s - loss: 1.3388 - tp: 394.0000 - fp: 365.0000 - tn: 1.0000 - fn: 0.0000e+00 - accuracy: 0.5197 - precision: 0.5191 - recall: 1.0000 - auc: 0.8688 - prc: 0.8164WARNING:tensorflow:Early stopping conditioned on metric `val_prc` which is not available. Available metrics are: loss,tp,fp,tn,fn,accuracy,precision,recall,auc,prc\n",
      "79/79 [==============================] - 1s 10ms/step - loss: 1.3459 - tp: 401.0000 - fp: 385.0000 - tn: 1.0000 - fn: 0.0000e+00 - accuracy: 0.5108 - precision: 0.5102 - recall: 1.0000 - auc: 0.8727 - prc: 0.8164\n",
      "Epoch 44/100\n",
      "78/79 [============================>.] - ETA: 0s - loss: 1.4410 - tp: 399.0000 - fp: 380.0000 - tn: 1.0000 - fn: 0.0000e+00 - accuracy: 0.5128 - precision: 0.5122 - recall: 1.0000 - auc: 0.8682 - prc: 0.8121WARNING:tensorflow:Early stopping conditioned on metric `val_prc` which is not available. Available metrics are: loss,tp,fp,tn,fn,accuracy,precision,recall,auc,prc\n",
      "79/79 [==============================] - 1s 10ms/step - loss: 1.4413 - tp: 401.0000 - fp: 385.0000 - tn: 1.0000 - fn: 0.0000e+00 - accuracy: 0.5108 - precision: 0.5102 - recall: 1.0000 - auc: 0.8693 - prc: 0.8124\n",
      "Epoch 45/100\n",
      "75/79 [===========================>..] - ETA: 0s - loss: 1.3228 - tp: 379.0000 - fp: 368.0000 - tn: 3.0000 - fn: 0.0000e+00 - accuracy: 0.5093 - precision: 0.5074 - recall: 1.0000 - auc: 0.8814 - prc: 0.8263WARNING:tensorflow:Early stopping conditioned on metric `val_prc` which is not available. Available metrics are: loss,tp,fp,tn,fn,accuracy,precision,recall,auc,prc\n",
      "79/79 [==============================] - 1s 11ms/step - loss: 1.3522 - tp: 401.0000 - fp: 383.0000 - tn: 3.0000 - fn: 0.0000e+00 - accuracy: 0.5133 - precision: 0.5115 - recall: 1.0000 - auc: 0.8784 - prc: 0.8272\n",
      "Epoch 46/100\n",
      "75/79 [===========================>..] - ETA: 0s - loss: 1.3180 - tp: 388.0000 - fp: 359.0000 - tn: 3.0000 - fn: 0.0000e+00 - accuracy: 0.5213 - precision: 0.5194 - recall: 1.0000 - auc: 0.8779 - prc: 0.8275WARNING:tensorflow:Early stopping conditioned on metric `val_prc` which is not available. Available metrics are: loss,tp,fp,tn,fn,accuracy,precision,recall,auc,prc\n",
      "79/79 [==============================] - 1s 11ms/step - loss: 1.3175 - tp: 401.0000 - fp: 382.0000 - tn: 4.0000 - fn: 0.0000e+00 - accuracy: 0.5146 - precision: 0.5121 - recall: 1.0000 - auc: 0.8797 - prc: 0.8255\n",
      "Epoch 47/100\n",
      "77/79 [============================>.] - ETA: 0s - loss: 1.4460 - tp: 391.0000 - fp: 378.0000 - tn: 1.0000 - fn: 0.0000e+00 - accuracy: 0.5091 - precision: 0.5085 - recall: 1.0000 - auc: 0.9030 - prc: 0.8584WARNING:tensorflow:Early stopping conditioned on metric `val_prc` which is not available. Available metrics are: loss,tp,fp,tn,fn,accuracy,precision,recall,auc,prc\n",
      "79/79 [==============================] - 1s 12ms/step - loss: 1.4336 - tp: 401.0000 - fp: 385.0000 - tn: 1.0000 - fn: 0.0000e+00 - accuracy: 0.5108 - precision: 0.5102 - recall: 1.0000 - auc: 0.9021 - prc: 0.8577\n",
      "Epoch 48/100\n",
      "76/79 [===========================>..] - ETA: 0s - loss: 1.4122 - tp: 387.0000 - fp: 371.0000 - tn: 2.0000 - fn: 0.0000e+00 - accuracy: 0.5118 - precision: 0.5106 - recall: 1.0000 - auc: 0.8918 - prc: 0.8455WARNING:tensorflow:Early stopping conditioned on metric `val_prc` which is not available. Available metrics are: loss,tp,fp,tn,fn,accuracy,precision,recall,auc,prc\n",
      "79/79 [==============================] - 1s 10ms/step - loss: 1.4416 - tp: 401.0000 - fp: 384.0000 - tn: 2.0000 - fn: 0.0000e+00 - accuracy: 0.5121 - precision: 0.5108 - recall: 1.0000 - auc: 0.8921 - prc: 0.8470\n",
      "Epoch 49/100\n",
      "76/79 [===========================>..] - ETA: 0s - loss: 1.5526 - tp: 386.0000 - fp: 370.0000 - tn: 4.0000 - fn: 0.0000e+00 - accuracy: 0.5132 - precision: 0.5106 - recall: 1.0000 - auc: 0.8593 - prc: 0.8064WARNING:tensorflow:Early stopping conditioned on metric `val_prc` which is not available. Available metrics are: loss,tp,fp,tn,fn,accuracy,precision,recall,auc,prc\n",
      "79/79 [==============================] - 1s 10ms/step - loss: 1.5312 - tp: 401.0000 - fp: 382.0000 - tn: 4.0000 - fn: 0.0000e+00 - accuracy: 0.5146 - precision: 0.5121 - recall: 1.0000 - auc: 0.8611 - prc: 0.8089\n",
      "Epoch 50/100\n",
      "79/79 [==============================] - ETA: 0s - loss: 1.5153 - tp: 401.0000 - fp: 384.0000 - tn: 2.0000 - fn: 0.0000e+00 - accuracy: 0.5121 - precision: 0.5108 - recall: 1.0000 - auc: 0.8845 - prc: 0.8372WARNING:tensorflow:Early stopping conditioned on metric `val_prc` which is not available. Available metrics are: loss,tp,fp,tn,fn,accuracy,precision,recall,auc,prc\n",
      "79/79 [==============================] - 1s 11ms/step - loss: 1.5153 - tp: 401.0000 - fp: 384.0000 - tn: 2.0000 - fn: 0.0000e+00 - accuracy: 0.5121 - precision: 0.5108 - recall: 1.0000 - auc: 0.8845 - prc: 0.8372\n",
      "Epoch 51/100\n",
      "79/79 [==============================] - ETA: 0s - loss: 1.2831 - tp: 401.0000 - fp: 378.0000 - tn: 8.0000 - fn: 0.0000e+00 - accuracy: 0.5197 - precision: 0.5148 - recall: 1.0000 - auc: 0.8936 - prc: 0.8419WARNING:tensorflow:Early stopping conditioned on metric `val_prc` which is not available. Available metrics are: loss,tp,fp,tn,fn,accuracy,precision,recall,auc,prc\n",
      "79/79 [==============================] - 1s 11ms/step - loss: 1.2831 - tp: 401.0000 - fp: 378.0000 - tn: 8.0000 - fn: 0.0000e+00 - accuracy: 0.5197 - precision: 0.5148 - recall: 1.0000 - auc: 0.8936 - prc: 0.8419\n",
      "Epoch 52/100\n",
      "79/79 [==============================] - ETA: 0s - loss: 1.3124 - tp: 401.0000 - fp: 379.0000 - tn: 7.0000 - fn: 0.0000e+00 - accuracy: 0.5184 - precision: 0.5141 - recall: 1.0000 - auc: 0.8730 - prc: 0.8162WARNING:tensorflow:Early stopping conditioned on metric `val_prc` which is not available. Available metrics are: loss,tp,fp,tn,fn,accuracy,precision,recall,auc,prc\n",
      "79/79 [==============================] - 1s 12ms/step - loss: 1.3124 - tp: 401.0000 - fp: 379.0000 - tn: 7.0000 - fn: 0.0000e+00 - accuracy: 0.5184 - precision: 0.5141 - recall: 1.0000 - auc: 0.8730 - prc: 0.8162\n",
      "Epoch 53/100\n",
      "77/79 [============================>.] - ETA: 0s - loss: 1.4269 - tp: 391.0000 - fp: 375.0000 - tn: 4.0000 - fn: 0.0000e+00 - accuracy: 0.5130 - precision: 0.5104 - recall: 1.0000 - auc: 0.8794 - prc: 0.8273WARNING:tensorflow:Early stopping conditioned on metric `val_prc` which is not available. Available metrics are: loss,tp,fp,tn,fn,accuracy,precision,recall,auc,prc\n",
      "79/79 [==============================] - 1s 10ms/step - loss: 1.4168 - tp: 401.0000 - fp: 382.0000 - tn: 4.0000 - fn: 0.0000e+00 - accuracy: 0.5146 - precision: 0.5121 - recall: 1.0000 - auc: 0.8798 - prc: 0.8285\n",
      "Epoch 54/100\n",
      "79/79 [==============================] - ETA: 0s - loss: 1.2600 - tp: 401.0000 - fp: 381.0000 - tn: 5.0000 - fn: 0.0000e+00 - accuracy: 0.5159 - precision: 0.5128 - recall: 1.0000 - auc: 0.8785 - prc: 0.8224WARNING:tensorflow:Early stopping conditioned on metric `val_prc` which is not available. Available metrics are: loss,tp,fp,tn,fn,accuracy,precision,recall,auc,prc\n",
      "79/79 [==============================] - 1s 10ms/step - loss: 1.2600 - tp: 401.0000 - fp: 381.0000 - tn: 5.0000 - fn: 0.0000e+00 - accuracy: 0.5159 - precision: 0.5128 - recall: 1.0000 - auc: 0.8785 - prc: 0.8224\n",
      "Epoch 55/100\n",
      "76/79 [===========================>..] - ETA: 0s - loss: 1.2858 - tp: 384.0000 - fp: 369.0000 - tn: 7.0000 - fn: 0.0000e+00 - accuracy: 0.5145 - precision: 0.5100 - recall: 1.0000 - auc: 0.8835 - prc: 0.8252WARNING:tensorflow:Early stopping conditioned on metric `val_prc` which is not available. Available metrics are: loss,tp,fp,tn,fn,accuracy,precision,recall,auc,prc\n",
      "79/79 [==============================] - 1s 10ms/step - loss: 1.3817 - tp: 401.0000 - fp: 379.0000 - tn: 7.0000 - fn: 0.0000e+00 - accuracy: 0.5184 - precision: 0.5141 - recall: 1.0000 - auc: 0.8838 - prc: 0.8298\n"
     ]
    },
    {
     "name": "stdout",
     "output_type": "stream",
     "text": [
      "Epoch 56/100\n",
      "75/79 [===========================>..] - ETA: 0s - loss: 1.3214 - tp: 382.0000 - fp: 362.0000 - tn: 6.0000 - fn: 0.0000e+00 - accuracy: 0.5173 - precision: 0.5134 - recall: 1.0000 - auc: 0.8974 - prc: 0.8524WARNING:tensorflow:Early stopping conditioned on metric `val_prc` which is not available. Available metrics are: loss,tp,fp,tn,fn,accuracy,precision,recall,auc,prc\n",
      "79/79 [==============================] - 1s 10ms/step - loss: 1.2986 - tp: 401.0000 - fp: 380.0000 - tn: 6.0000 - fn: 0.0000e+00 - accuracy: 0.5172 - precision: 0.5134 - recall: 1.0000 - auc: 0.9010 - prc: 0.8567\n",
      "Epoch 57/100\n",
      "77/79 [============================>.] - ETA: 0s - loss: 1.2717 - tp: 393.0000 - fp: 370.0000 - tn: 7.0000 - fn: 0.0000e+00 - accuracy: 0.5195 - precision: 0.5151 - recall: 1.0000 - auc: 0.9135 - prc: 0.8754WARNING:tensorflow:Early stopping conditioned on metric `val_prc` which is not available. Available metrics are: loss,tp,fp,tn,fn,accuracy,precision,recall,auc,prc\n",
      "79/79 [==============================] - 1s 10ms/step - loss: 1.2660 - tp: 401.0000 - fp: 379.0000 - tn: 7.0000 - fn: 0.0000e+00 - accuracy: 0.5184 - precision: 0.5141 - recall: 1.0000 - auc: 0.9142 - prc: 0.8757\n",
      "Epoch 58/100\n",
      "76/79 [===========================>..] - ETA: 0s - loss: 1.2855 - tp: 383.0000 - fp: 372.0000 - tn: 5.0000 - fn: 0.0000e+00 - accuracy: 0.5105 - precision: 0.5073 - recall: 1.0000 - auc: 0.9160 - prc: 0.8773WARNING:tensorflow:Early stopping conditioned on metric `val_prc` which is not available. Available metrics are: loss,tp,fp,tn,fn,accuracy,precision,recall,auc,prc\n",
      "79/79 [==============================] - 1s 10ms/step - loss: 1.2666 - tp: 401.0000 - fp: 381.0000 - tn: 5.0000 - fn: 0.0000e+00 - accuracy: 0.5159 - precision: 0.5128 - recall: 1.0000 - auc: 0.9144 - prc: 0.8762\n",
      "Epoch 59/100\n",
      "77/79 [============================>.] - ETA: 0s - loss: 1.2333 - tp: 393.0000 - fp: 374.0000 - tn: 3.0000 - fn: 0.0000e+00 - accuracy: 0.5143 - precision: 0.5124 - recall: 1.0000 - auc: 0.9142 - prc: 0.8718WARNING:tensorflow:Early stopping conditioned on metric `val_prc` which is not available. Available metrics are: loss,tp,fp,tn,fn,accuracy,precision,recall,auc,prc\n",
      "79/79 [==============================] - 1s 10ms/step - loss: 1.2288 - tp: 401.0000 - fp: 383.0000 - tn: 3.0000 - fn: 0.0000e+00 - accuracy: 0.5133 - precision: 0.5115 - recall: 1.0000 - auc: 0.9145 - prc: 0.8718\n",
      "Epoch 60/100\n",
      "77/79 [============================>.] - ETA: 0s - loss: 1.3289 - tp: 393.0000 - fp: 370.0000 - tn: 7.0000 - fn: 0.0000e+00 - accuracy: 0.5195 - precision: 0.5151 - recall: 1.0000 - auc: 0.9091 - prc: 0.8668WARNING:tensorflow:Early stopping conditioned on metric `val_prc` which is not available. Available metrics are: loss,tp,fp,tn,fn,accuracy,precision,recall,auc,prc\n",
      "79/79 [==============================] - 1s 11ms/step - loss: 1.3218 - tp: 401.0000 - fp: 379.0000 - tn: 7.0000 - fn: 0.0000e+00 - accuracy: 0.5184 - precision: 0.5141 - recall: 1.0000 - auc: 0.9096 - prc: 0.8668\n",
      "Epoch 61/100\n",
      "74/79 [===========================>..] - ETA: 0s - loss: 1.3185 - tp: 372.0000 - fp: 362.0000 - tn: 6.0000 - fn: 0.0000e+00 - accuracy: 0.5108 - precision: 0.5068 - recall: 1.0000 - auc: 0.8930 - prc: 0.8390WARNING:tensorflow:Early stopping conditioned on metric `val_prc` which is not available. Available metrics are: loss,tp,fp,tn,fn,accuracy,precision,recall,auc,prc\n",
      "79/79 [==============================] - 1s 12ms/step - loss: 1.2937 - tp: 401.0000 - fp: 380.0000 - tn: 6.0000 - fn: 0.0000e+00 - accuracy: 0.5172 - precision: 0.5134 - recall: 1.0000 - auc: 0.8938 - prc: 0.8431\n",
      "Epoch 62/100\n",
      "77/79 [============================>.] - ETA: 0s - loss: 1.2067 - tp: 393.0000 - fp: 373.0000 - tn: 4.0000 - fn: 0.0000e+00 - accuracy: 0.5156 - precision: 0.5131 - recall: 1.0000 - auc: 0.8981 - prc: 0.8465WARNING:tensorflow:Early stopping conditioned on metric `val_prc` which is not available. Available metrics are: loss,tp,fp,tn,fn,accuracy,precision,recall,auc,prc\n",
      "79/79 [==============================] - 1s 10ms/step - loss: 1.2043 - tp: 401.0000 - fp: 381.0000 - tn: 5.0000 - fn: 0.0000e+00 - accuracy: 0.5159 - precision: 0.5128 - recall: 1.0000 - auc: 0.8985 - prc: 0.8467\n",
      "Epoch 63/100\n",
      "77/79 [============================>.] - ETA: 0s - loss: 1.3101 - tp: 391.0000 - fp: 372.0000 - tn: 7.0000 - fn: 0.0000e+00 - accuracy: 0.5169 - precision: 0.5125 - recall: 1.0000 - auc: 0.8960 - prc: 0.8487WARNING:tensorflow:Early stopping conditioned on metric `val_prc` which is not available. Available metrics are: loss,tp,fp,tn,fn,accuracy,precision,recall,auc,prc\n",
      "79/79 [==============================] - 1s 10ms/step - loss: 1.3106 - tp: 401.0000 - fp: 379.0000 - tn: 7.0000 - fn: 0.0000e+00 - accuracy: 0.5184 - precision: 0.5141 - recall: 1.0000 - auc: 0.8921 - prc: 0.8439\n",
      "Epoch 64/100\n",
      "76/79 [===========================>..] - ETA: 0s - loss: 1.2319 - tp: 388.0000 - fp: 366.0000 - tn: 6.0000 - fn: 0.0000e+00 - accuracy: 0.5184 - precision: 0.5146 - recall: 1.0000 - auc: 0.9101 - prc: 0.8661WARNING:tensorflow:Early stopping conditioned on metric `val_prc` which is not available. Available metrics are: loss,tp,fp,tn,fn,accuracy,precision,recall,auc,prc\n",
      "79/79 [==============================] - 1s 11ms/step - loss: 1.2222 - tp: 401.0000 - fp: 379.0000 - tn: 7.0000 - fn: 0.0000e+00 - accuracy: 0.5184 - precision: 0.5141 - recall: 1.0000 - auc: 0.9104 - prc: 0.8657\n",
      "Epoch 65/100\n",
      "78/79 [============================>.] - ETA: 0s - loss: 1.2494 - tp: 397.0000 - fp: 376.0000 - tn: 7.0000 - fn: 0.0000e+00 - accuracy: 0.5179 - precision: 0.5136 - recall: 1.0000 - auc: 0.9134 - prc: 0.8696WARNING:tensorflow:Early stopping conditioned on metric `val_prc` which is not available. Available metrics are: loss,tp,fp,tn,fn,accuracy,precision,recall,auc,prc\n",
      "79/79 [==============================] - 1s 12ms/step - loss: 1.2428 - tp: 401.0000 - fp: 379.0000 - tn: 7.0000 - fn: 0.0000e+00 - accuracy: 0.5184 - precision: 0.5141 - recall: 1.0000 - auc: 0.9142 - prc: 0.8708\n",
      "Epoch 66/100\n",
      "79/79 [==============================] - ETA: 0s - loss: 1.3892 - tp: 401.0000 - fp: 382.0000 - tn: 4.0000 - fn: 0.0000e+00 - accuracy: 0.5146 - precision: 0.5121 - recall: 1.0000 - auc: 0.8816 - prc: 0.8272WARNING:tensorflow:Early stopping conditioned on metric `val_prc` which is not available. Available metrics are: loss,tp,fp,tn,fn,accuracy,precision,recall,auc,prc\n",
      "79/79 [==============================] - 1s 11ms/step - loss: 1.3892 - tp: 401.0000 - fp: 382.0000 - tn: 4.0000 - fn: 0.0000e+00 - accuracy: 0.5146 - precision: 0.5121 - recall: 1.0000 - auc: 0.8816 - prc: 0.8272\n",
      "Epoch 67/100\n",
      "78/79 [============================>.] - ETA: 0s - loss: 1.2489 - tp: 399.0000 - fp: 374.0000 - tn: 7.0000 - fn: 0.0000e+00 - accuracy: 0.5205 - precision: 0.5162 - recall: 1.0000 - auc: 0.9058 - prc: 0.8620WARNING:tensorflow:Early stopping conditioned on metric `val_prc` which is not available. Available metrics are: loss,tp,fp,tn,fn,accuracy,precision,recall,auc,prc\n",
      "79/79 [==============================] - 1s 12ms/step - loss: 1.2458 - tp: 401.0000 - fp: 379.0000 - tn: 7.0000 - fn: 0.0000e+00 - accuracy: 0.5184 - precision: 0.5141 - recall: 1.0000 - auc: 0.9069 - prc: 0.8626\n",
      "Epoch 68/100\n",
      "79/79 [==============================] - ETA: 0s - loss: 1.2312 - tp: 401.0000 - fp: 382.0000 - tn: 4.0000 - fn: 0.0000e+00 - accuracy: 0.5146 - precision: 0.5121 - recall: 1.0000 - auc: 0.9011 - prc: 0.8512WARNING:tensorflow:Early stopping conditioned on metric `val_prc` which is not available. Available metrics are: loss,tp,fp,tn,fn,accuracy,precision,recall,auc,prc\n",
      "79/79 [==============================] - 1s 13ms/step - loss: 1.2312 - tp: 401.0000 - fp: 382.0000 - tn: 4.0000 - fn: 0.0000e+00 - accuracy: 0.5146 - precision: 0.5121 - recall: 1.0000 - auc: 0.9011 - prc: 0.8512\n",
      "Epoch 69/100\n",
      "76/79 [===========================>..] - ETA: 0s - loss: 1.1445 - tp: 386.0000 - fp: 370.0000 - tn: 4.0000 - fn: 0.0000e+00 - accuracy: 0.5132 - precision: 0.5106 - recall: 1.0000 - auc: 0.9203 - prc: 0.8779WARNING:tensorflow:Early stopping conditioned on metric `val_prc` which is not available. Available metrics are: loss,tp,fp,tn,fn,accuracy,precision,recall,auc,prc\n",
      "79/79 [==============================] - 1s 14ms/step - loss: 1.1643 - tp: 401.0000 - fp: 381.0000 - tn: 5.0000 - fn: 0.0000e+00 - accuracy: 0.5159 - precision: 0.5128 - recall: 1.0000 - auc: 0.9190 - prc: 0.8773\n"
     ]
    },
    {
     "name": "stdout",
     "output_type": "stream",
     "text": [
      "Epoch 70/100\n",
      "79/79 [==============================] - ETA: 0s - loss: 1.1938 - tp: 401.0000 - fp: 382.0000 - tn: 4.0000 - fn: 0.0000e+00 - accuracy: 0.5146 - precision: 0.5121 - recall: 1.0000 - auc: 0.9016 - prc: 0.8525WARNING:tensorflow:Early stopping conditioned on metric `val_prc` which is not available. Available metrics are: loss,tp,fp,tn,fn,accuracy,precision,recall,auc,prc\n",
      "79/79 [==============================] - 1s 12ms/step - loss: 1.1938 - tp: 401.0000 - fp: 382.0000 - tn: 4.0000 - fn: 0.0000e+00 - accuracy: 0.5146 - precision: 0.5121 - recall: 1.0000 - auc: 0.9016 - prc: 0.8525\n",
      "Epoch 71/100\n",
      "79/79 [==============================] - ETA: 0s - loss: 1.3595 - tp: 401.0000 - fp: 381.0000 - tn: 5.0000 - fn: 0.0000e+00 - accuracy: 0.5159 - precision: 0.5128 - recall: 1.0000 - auc: 0.9006 - prc: 0.8515WARNING:tensorflow:Early stopping conditioned on metric `val_prc` which is not available. Available metrics are: loss,tp,fp,tn,fn,accuracy,precision,recall,auc,prc\n",
      "79/79 [==============================] - 1s 13ms/step - loss: 1.3595 - tp: 401.0000 - fp: 381.0000 - tn: 5.0000 - fn: 0.0000e+00 - accuracy: 0.5159 - precision: 0.5128 - recall: 1.0000 - auc: 0.9006 - prc: 0.8515\n",
      "Epoch 72/100\n",
      "76/79 [===========================>..] - ETA: 0s - loss: 1.2900 - tp: 385.0000 - fp: 369.0000 - tn: 6.0000 - fn: 0.0000e+00 - accuracy: 0.5145 - precision: 0.5106 - recall: 1.0000 - auc: 0.8986 - prc: 0.8466WARNING:tensorflow:Early stopping conditioned on metric `val_prc` which is not available. Available metrics are: loss,tp,fp,tn,fn,accuracy,precision,recall,auc,prc\n",
      "79/79 [==============================] - 1s 11ms/step - loss: 1.2737 - tp: 401.0000 - fp: 380.0000 - tn: 6.0000 - fn: 0.0000e+00 - accuracy: 0.5172 - precision: 0.5134 - recall: 1.0000 - auc: 0.8990 - prc: 0.8481\n",
      "Epoch 73/100\n",
      "78/79 [============================>.] - ETA: 0s - loss: 1.3268 - tp: 398.0000 - fp: 375.0000 - tn: 7.0000 - fn: 0.0000e+00 - accuracy: 0.5192 - precision: 0.5149 - recall: 1.0000 - auc: 0.9185 - prc: 0.8802WARNING:tensorflow:Early stopping conditioned on metric `val_prc` which is not available. Available metrics are: loss,tp,fp,tn,fn,accuracy,precision,recall,auc,prc\n",
      "79/79 [==============================] - 1s 13ms/step - loss: 1.3227 - tp: 401.0000 - fp: 379.0000 - tn: 7.0000 - fn: 0.0000e+00 - accuracy: 0.5184 - precision: 0.5141 - recall: 1.0000 - auc: 0.9193 - prc: 0.8810\n",
      "Epoch 74/100\n",
      "79/79 [==============================] - ETA: 0s - loss: 1.2957 - tp: 401.0000 - fp: 382.0000 - tn: 4.0000 - fn: 0.0000e+00 - accuracy: 0.5146 - precision: 0.5121 - recall: 1.0000 - auc: 0.9079 - prc: 0.8659WARNING:tensorflow:Early stopping conditioned on metric `val_prc` which is not available. Available metrics are: loss,tp,fp,tn,fn,accuracy,precision,recall,auc,prc\n",
      "79/79 [==============================] - 1s 12ms/step - loss: 1.2957 - tp: 401.0000 - fp: 382.0000 - tn: 4.0000 - fn: 0.0000e+00 - accuracy: 0.5146 - precision: 0.5121 - recall: 1.0000 - auc: 0.9079 - prc: 0.8659\n",
      "Epoch 75/100\n",
      "75/79 [===========================>..] - ETA: 0s - loss: 1.2427 - tp: 382.0000 - fp: 364.0000 - tn: 4.0000 - fn: 0.0000e+00 - accuracy: 0.5147 - precision: 0.5121 - recall: 1.0000 - auc: 0.8985 - prc: 0.8473WARNING:tensorflow:Early stopping conditioned on metric `val_prc` which is not available. Available metrics are: loss,tp,fp,tn,fn,accuracy,precision,recall,auc,prc\n",
      "79/79 [==============================] - 1s 12ms/step - loss: 1.2539 - tp: 401.0000 - fp: 382.0000 - tn: 4.0000 - fn: 0.0000e+00 - accuracy: 0.5146 - precision: 0.5121 - recall: 1.0000 - auc: 0.8991 - prc: 0.8494\n",
      "Epoch 76/100\n",
      "77/79 [============================>.] - ETA: 0s - loss: 1.1843 - tp: 388.0000 - fp: 376.0000 - tn: 6.0000 - fn: 0.0000e+00 - accuracy: 0.5117 - precision: 0.5079 - recall: 1.0000 - auc: 0.9182 - prc: 0.8717WARNING:tensorflow:Early stopping conditioned on metric `val_prc` which is not available. Available metrics are: loss,tp,fp,tn,fn,accuracy,precision,recall,auc,prc\n",
      "79/79 [==============================] - 1s 13ms/step - loss: 1.1719 - tp: 401.0000 - fp: 380.0000 - tn: 6.0000 - fn: 0.0000e+00 - accuracy: 0.5172 - precision: 0.5134 - recall: 1.0000 - auc: 0.9180 - prc: 0.8736\n",
      "Epoch 77/100\n",
      "75/79 [===========================>..] - ETA: 0s - loss: 1.0762 - tp: 380.0000 - fp: 365.0000 - tn: 5.0000 - fn: 0.0000e+00 - accuracy: 0.5133 - precision: 0.5101 - recall: 1.0000 - auc: 0.9198 - prc: 0.8743WARNING:tensorflow:Early stopping conditioned on metric `val_prc` which is not available. Available metrics are: loss,tp,fp,tn,fn,accuracy,precision,recall,auc,prc\n",
      "79/79 [==============================] - 1s 13ms/step - loss: 1.0884 - tp: 401.0000 - fp: 381.0000 - tn: 5.0000 - fn: 0.0000e+00 - accuracy: 0.5159 - precision: 0.5128 - recall: 1.0000 - auc: 0.9194 - prc: 0.8755\n",
      "Epoch 78/100\n",
      "75/79 [===========================>..] - ETA: 0s - loss: 1.1595 - tp: 381.0000 - fp: 364.0000 - tn: 5.0000 - fn: 0.0000e+00 - accuracy: 0.5147 - precision: 0.5114 - recall: 1.0000 - auc: 0.9143 - prc: 0.8721WARNING:tensorflow:Early stopping conditioned on metric `val_prc` which is not available. Available metrics are: loss,tp,fp,tn,fn,accuracy,precision,recall,auc,prc\n",
      "79/79 [==============================] - 1s 13ms/step - loss: 1.1424 - tp: 401.0000 - fp: 381.0000 - tn: 5.0000 - fn: 0.0000e+00 - accuracy: 0.5159 - precision: 0.5128 - recall: 1.0000 - auc: 0.9156 - prc: 0.8740\n",
      "Epoch 79/100\n",
      "76/79 [===========================>..] - ETA: 0s - loss: 1.0324 - tp: 384.0000 - fp: 365.0000 - tn: 11.0000 - fn: 0.0000e+00 - accuracy: 0.5197 - precision: 0.5127 - recall: 1.0000 - auc: 0.9314 - prc: 0.8909WARNING:tensorflow:Early stopping conditioned on metric `val_prc` which is not available. Available metrics are: loss,tp,fp,tn,fn,accuracy,precision,recall,auc,prc\n",
      "79/79 [==============================] - 1s 13ms/step - loss: 1.1294 - tp: 401.0000 - fp: 375.0000 - tn: 11.0000 - fn: 0.0000e+00 - accuracy: 0.5235 - precision: 0.5168 - recall: 1.0000 - auc: 0.9290 - prc: 0.8913\n",
      "Epoch 80/100\n",
      "79/79 [==============================] - ETA: 0s - loss: 1.1213 - tp: 401.0000 - fp: 377.0000 - tn: 9.0000 - fn: 0.0000e+00 - accuracy: 0.5210 - precision: 0.5154 - recall: 1.0000 - auc: 0.9280 - prc: 0.8902WARNING:tensorflow:Early stopping conditioned on metric `val_prc` which is not available. Available metrics are: loss,tp,fp,tn,fn,accuracy,precision,recall,auc,prc\n",
      "79/79 [==============================] - 1s 13ms/step - loss: 1.1213 - tp: 401.0000 - fp: 377.0000 - tn: 9.0000 - fn: 0.0000e+00 - accuracy: 0.5210 - precision: 0.5154 - recall: 1.0000 - auc: 0.9280 - prc: 0.8902\n",
      "Epoch 81/100\n",
      "78/79 [============================>.] - ETA: 0s - loss: 1.4739 - tp: 399.0000 - fp: 376.0000 - tn: 5.0000 - fn: 0.0000e+00 - accuracy: 0.5179 - precision: 0.5148 - recall: 1.0000 - auc: 0.9047 - prc: 0.8621WARNING:tensorflow:Early stopping conditioned on metric `val_prc` which is not available. Available metrics are: loss,tp,fp,tn,fn,accuracy,precision,recall,auc,prc\n",
      "79/79 [==============================] - 1s 11ms/step - loss: 1.4722 - tp: 401.0000 - fp: 381.0000 - tn: 5.0000 - fn: 0.0000e+00 - accuracy: 0.5159 - precision: 0.5128 - recall: 1.0000 - auc: 0.9045 - prc: 0.8608\n",
      "Epoch 82/100\n",
      "75/79 [===========================>..] - ETA: 0s - loss: 1.2428 - tp: 384.0000 - fp: 362.0000 - tn: 4.0000 - fn: 0.0000e+00 - accuracy: 0.5173 - precision: 0.5147 - recall: 1.0000 - auc: 0.9043 - prc: 0.8577WARNING:tensorflow:Early stopping conditioned on metric `val_prc` which is not available. Available metrics are: loss,tp,fp,tn,fn,accuracy,precision,recall,auc,prc\n",
      "79/79 [==============================] - 1s 10ms/step - loss: 1.2358 - tp: 401.0000 - fp: 382.0000 - tn: 4.0000 - fn: 0.0000e+00 - accuracy: 0.5146 - precision: 0.5121 - recall: 1.0000 - auc: 0.9082 - prc: 0.8621\n",
      "Epoch 83/100\n",
      "77/79 [============================>.] - ETA: 0s - loss: 1.0558 - tp: 392.0000 - fp: 374.0000 - tn: 4.0000 - fn: 0.0000e+00 - accuracy: 0.5143 - precision: 0.5117 - recall: 1.0000 - auc: 0.9241 - prc: 0.8818WARNING:tensorflow:Early stopping conditioned on metric `val_prc` which is not available. Available metrics are: loss,tp,fp,tn,fn,accuracy,precision,recall,auc,prc\n",
      "79/79 [==============================] - 1s 10ms/step - loss: 1.0982 - tp: 401.0000 - fp: 382.0000 - tn: 4.0000 - fn: 0.0000e+00 - accuracy: 0.5146 - precision: 0.5121 - recall: 1.0000 - auc: 0.9198 - prc: 0.8767\n"
     ]
    },
    {
     "name": "stdout",
     "output_type": "stream",
     "text": [
      "Epoch 84/100\n",
      "78/79 [============================>.] - ETA: 0s - loss: 1.1010 - tp: 397.0000 - fp: 377.0000 - tn: 6.0000 - fn: 0.0000e+00 - accuracy: 0.5167 - precision: 0.5129 - recall: 1.0000 - auc: 0.9260 - prc: 0.8849WARNING:tensorflow:Early stopping conditioned on metric `val_prc` which is not available. Available metrics are: loss,tp,fp,tn,fn,accuracy,precision,recall,auc,prc\n",
      "79/79 [==============================] - 1s 11ms/step - loss: 1.1013 - tp: 401.0000 - fp: 380.0000 - tn: 6.0000 - fn: 0.0000e+00 - accuracy: 0.5172 - precision: 0.5134 - recall: 1.0000 - auc: 0.9252 - prc: 0.8839\n",
      "Epoch 85/100\n",
      "75/79 [===========================>..] - ETA: 0s - loss: 1.0874 - tp: 377.0000 - fp: 367.0000 - tn: 6.0000 - fn: 0.0000e+00 - accuracy: 0.5107 - precision: 0.5067 - recall: 1.0000 - auc: 0.9336 - prc: 0.8954WARNING:tensorflow:Early stopping conditioned on metric `val_prc` which is not available. Available metrics are: loss,tp,fp,tn,fn,accuracy,precision,recall,auc,prc\n",
      "79/79 [==============================] - 1s 11ms/step - loss: 1.0715 - tp: 401.0000 - fp: 380.0000 - tn: 6.0000 - fn: 0.0000e+00 - accuracy: 0.5172 - precision: 0.5134 - recall: 1.0000 - auc: 0.9340 - prc: 0.8984\n",
      "Epoch 86/100\n",
      "78/79 [============================>.] - ETA: 0s - loss: 1.1586 - tp: 397.0000 - fp: 373.0000 - tn: 10.0000 - fn: 0.0000e+00 - accuracy: 0.5218 - precision: 0.5156 - recall: 1.0000 - auc: 0.9126 - prc: 0.8680WARNING:tensorflow:Early stopping conditioned on metric `val_prc` which is not available. Available metrics are: loss,tp,fp,tn,fn,accuracy,precision,recall,auc,prc\n",
      "79/79 [==============================] - 1s 11ms/step - loss: 1.1550 - tp: 401.0000 - fp: 376.0000 - tn: 10.0000 - fn: 0.0000e+00 - accuracy: 0.5222 - precision: 0.5161 - recall: 1.0000 - auc: 0.9133 - prc: 0.8692\n",
      "Epoch 87/100\n",
      "79/79 [==============================] - ETA: 0s - loss: 1.2700 - tp: 401.0000 - fp: 376.0000 - tn: 10.0000 - fn: 0.0000e+00 - accuracy: 0.5222 - precision: 0.5161 - recall: 1.0000 - auc: 0.9224 - prc: 0.8847WARNING:tensorflow:Early stopping conditioned on metric `val_prc` which is not available. Available metrics are: loss,tp,fp,tn,fn,accuracy,precision,recall,auc,prc\n",
      "79/79 [==============================] - 1s 11ms/step - loss: 1.2700 - tp: 401.0000 - fp: 376.0000 - tn: 10.0000 - fn: 0.0000e+00 - accuracy: 0.5222 - precision: 0.5161 - recall: 1.0000 - auc: 0.9224 - prc: 0.8847\n",
      "Epoch 88/100\n",
      "76/79 [===========================>..] - ETA: 0s - loss: 1.1303 - tp: 384.0000 - fp: 369.0000 - tn: 7.0000 - fn: 0.0000e+00 - accuracy: 0.5145 - precision: 0.5100 - recall: 1.0000 - auc: 0.9192 - prc: 0.8746WARNING:tensorflow:Early stopping conditioned on metric `val_prc` which is not available. Available metrics are: loss,tp,fp,tn,fn,accuracy,precision,recall,auc,prc\n",
      "79/79 [==============================] - 1s 11ms/step - loss: 1.1175 - tp: 401.0000 - fp: 379.0000 - tn: 7.0000 - fn: 0.0000e+00 - accuracy: 0.5184 - precision: 0.5141 - recall: 1.0000 - auc: 0.9209 - prc: 0.8788\n",
      "Epoch 89/100\n",
      "79/79 [==============================] - ETA: 0s - loss: 1.1021 - tp: 401.0000 - fp: 375.0000 - tn: 11.0000 - fn: 0.0000e+00 - accuracy: 0.5235 - precision: 0.5168 - recall: 1.0000 - auc: 0.9291 - prc: 0.8896WARNING:tensorflow:Early stopping conditioned on metric `val_prc` which is not available. Available metrics are: loss,tp,fp,tn,fn,accuracy,precision,recall,auc,prc\n",
      "79/79 [==============================] - 1s 11ms/step - loss: 1.1021 - tp: 401.0000 - fp: 375.0000 - tn: 11.0000 - fn: 0.0000e+00 - accuracy: 0.5235 - precision: 0.5168 - recall: 1.0000 - auc: 0.9291 - prc: 0.8896\n",
      "Epoch 90/100\n",
      "75/79 [===========================>..] - ETA: 0s - loss: 1.0461 - tp: 388.0000 - fp: 349.0000 - tn: 13.0000 - fn: 0.0000e+00 - accuracy: 0.5347 - precision: 0.5265 - recall: 1.0000 - auc: 0.9431 - prc: 0.9150WARNING:tensorflow:Early stopping conditioned on metric `val_prc` which is not available. Available metrics are: loss,tp,fp,tn,fn,accuracy,precision,recall,auc,prc\n",
      "79/79 [==============================] - 1s 11ms/step - loss: 1.0543 - tp: 401.0000 - fp: 372.0000 - tn: 14.0000 - fn: 0.0000e+00 - accuracy: 0.5273 - precision: 0.5188 - recall: 1.0000 - auc: 0.9406 - prc: 0.9083\n",
      "Epoch 91/100\n",
      "79/79 [==============================] - ETA: 0s - loss: 1.0305 - tp: 401.0000 - fp: 374.0000 - tn: 12.0000 - fn: 0.0000e+00 - accuracy: 0.5248 - precision: 0.5174 - recall: 1.0000 - auc: 0.9359 - prc: 0.9006WARNING:tensorflow:Early stopping conditioned on metric `val_prc` which is not available. Available metrics are: loss,tp,fp,tn,fn,accuracy,precision,recall,auc,prc\n",
      "79/79 [==============================] - 1s 11ms/step - loss: 1.0305 - tp: 401.0000 - fp: 374.0000 - tn: 12.0000 - fn: 0.0000e+00 - accuracy: 0.5248 - precision: 0.5174 - recall: 1.0000 - auc: 0.9359 - prc: 0.9006\n",
      "Epoch 92/100\n",
      "75/79 [===========================>..] - ETA: 0s - loss: 0.9640 - tp: 380.0000 - fp: 354.0000 - tn: 16.0000 - fn: 0.0000e+00 - accuracy: 0.5280 - precision: 0.5177 - recall: 1.0000 - auc: 0.9406 - prc: 0.9037WARNING:tensorflow:Early stopping conditioned on metric `val_prc` which is not available. Available metrics are: loss,tp,fp,tn,fn,accuracy,precision,recall,auc,prc\n",
      "79/79 [==============================] - 1s 11ms/step - loss: 0.9520 - tp: 401.0000 - fp: 370.0000 - tn: 16.0000 - fn: 0.0000e+00 - accuracy: 0.5299 - precision: 0.5201 - recall: 1.0000 - auc: 0.9428 - prc: 0.9081\n",
      "Epoch 93/100\n",
      "77/79 [============================>.] - ETA: 0s - loss: 1.1006 - tp: 391.0000 - fp: 362.0000 - tn: 17.0000 - fn: 0.0000e+00 - accuracy: 0.5299 - precision: 0.5193 - recall: 1.0000 - auc: 0.9304 - prc: 0.8921WARNING:tensorflow:Early stopping conditioned on metric `val_prc` which is not available. Available metrics are: loss,tp,fp,tn,fn,accuracy,precision,recall,auc,prc\n",
      "79/79 [==============================] - 1s 11ms/step - loss: 1.0933 - tp: 401.0000 - fp: 369.0000 - tn: 17.0000 - fn: 0.0000e+00 - accuracy: 0.5311 - precision: 0.5208 - recall: 1.0000 - auc: 0.9304 - prc: 0.8926\n",
      "Epoch 94/100\n",
      "75/79 [===========================>..] - ETA: 0s - loss: 1.2921 - tp: 384.0000 - fp: 355.0000 - tn: 11.0000 - fn: 0.0000e+00 - accuracy: 0.5267 - precision: 0.5196 - recall: 1.0000 - auc: 0.9217 - prc: 0.8838WARNING:tensorflow:Early stopping conditioned on metric `val_prc` which is not available. Available metrics are: loss,tp,fp,tn,fn,accuracy,precision,recall,auc,prc\n",
      "79/79 [==============================] - 1s 11ms/step - loss: 1.2849 - tp: 401.0000 - fp: 373.0000 - tn: 13.0000 - fn: 0.0000e+00 - accuracy: 0.5260 - precision: 0.5181 - recall: 1.0000 - auc: 0.9236 - prc: 0.8857\n",
      "Epoch 95/100\n",
      "76/79 [===========================>..] - ETA: 0s - loss: 1.0712 - tp: 385.0000 - fp: 360.0000 - tn: 15.0000 - fn: 0.0000e+00 - accuracy: 0.5263 - precision: 0.5168 - recall: 1.0000 - auc: 0.9277 - prc: 0.8887WARNING:tensorflow:Early stopping conditioned on metric `val_prc` which is not available. Available metrics are: loss,tp,fp,tn,fn,accuracy,precision,recall,auc,prc\n",
      "79/79 [==============================] - 1s 11ms/step - loss: 1.0674 - tp: 401.0000 - fp: 371.0000 - tn: 15.0000 - fn: 0.0000e+00 - accuracy: 0.5286 - precision: 0.5194 - recall: 1.0000 - auc: 0.9291 - prc: 0.8923\n",
      "Epoch 96/100\n",
      "76/79 [===========================>..] - ETA: 0s - loss: 1.0807 - tp: 389.0000 - fp: 360.0000 - tn: 11.0000 - fn: 0.0000e+00 - accuracy: 0.5263 - precision: 0.5194 - recall: 1.0000 - auc: 0.9175 - prc: 0.8730WARNING:tensorflow:Early stopping conditioned on metric `val_prc` which is not available. Available metrics are: loss,tp,fp,tn,fn,accuracy,precision,recall,auc,prc\n",
      "79/79 [==============================] - 1s 11ms/step - loss: 1.0823 - tp: 401.0000 - fp: 375.0000 - tn: 11.0000 - fn: 0.0000e+00 - accuracy: 0.5235 - precision: 0.5168 - recall: 1.0000 - auc: 0.9174 - prc: 0.8717\n",
      "Epoch 97/100\n",
      "77/79 [============================>.] - ETA: 0s - loss: 1.0669 - tp: 391.0000 - fp: 360.0000 - tn: 19.0000 - fn: 0.0000e+00 - accuracy: 0.5325 - precision: 0.5206 - recall: 1.0000 - auc: 0.9314 - prc: 0.8915WARNING:tensorflow:Early stopping conditioned on metric `val_prc` which is not available. Available metrics are: loss,tp,fp,tn,fn,accuracy,precision,recall,auc,prc\n",
      "79/79 [==============================] - 1s 11ms/step - loss: 1.0585 - tp: 401.0000 - fp: 367.0000 - tn: 19.0000 - fn: 0.0000e+00 - accuracy: 0.5337 - precision: 0.5221 - recall: 1.0000 - auc: 0.9314 - prc: 0.8919\n"
     ]
    },
    {
     "name": "stdout",
     "output_type": "stream",
     "text": [
      "Epoch 98/100\n",
      "77/79 [============================>.] - ETA: 0s - loss: 1.0060 - tp: 393.0000 - fp: 363.0000 - tn: 14.0000 - fn: 0.0000e+00 - accuracy: 0.5286 - precision: 0.5198 - recall: 1.0000 - auc: 0.9336 - prc: 0.8954WARNING:tensorflow:Early stopping conditioned on metric `val_prc` which is not available. Available metrics are: loss,tp,fp,tn,fn,accuracy,precision,recall,auc,prc\n",
      "79/79 [==============================] - 1s 14ms/step - loss: 1.0041 - tp: 401.0000 - fp: 370.0000 - tn: 16.0000 - fn: 0.0000e+00 - accuracy: 0.5299 - precision: 0.5201 - recall: 1.0000 - auc: 0.9323 - prc: 0.8929\n",
      "Epoch 99/100\n",
      "78/79 [============================>.] - ETA: 0s - loss: 0.9270 - tp: 398.0000 - fp: 364.0000 - tn: 18.0000 - fn: 0.0000e+00 - accuracy: 0.5333 - precision: 0.5223 - recall: 1.0000 - auc: 0.9358 - prc: 0.8970WARNING:tensorflow:Early stopping conditioned on metric `val_prc` which is not available. Available metrics are: loss,tp,fp,tn,fn,accuracy,precision,recall,auc,prc\n",
      "79/79 [==============================] - 1s 14ms/step - loss: 0.9232 - tp: 401.0000 - fp: 367.0000 - tn: 19.0000 - fn: 0.0000e+00 - accuracy: 0.5337 - precision: 0.5221 - recall: 1.0000 - auc: 0.9365 - prc: 0.8978\n",
      "Epoch 100/100\n",
      "77/79 [============================>.] - ETA: 0s - loss: 0.9696 - tp: 395.0000 - fp: 356.0000 - tn: 19.0000 - fn: 0.0000e+00 - accuracy: 0.5377 - precision: 0.5260 - recall: 1.0000 - auc: 0.9323 - prc: 0.8926WARNING:tensorflow:Early stopping conditioned on metric `val_prc` which is not available. Available metrics are: loss,tp,fp,tn,fn,accuracy,precision,recall,auc,prc\n",
      "79/79 [==============================] - 1s 14ms/step - loss: 0.9728 - tp: 401.0000 - fp: 366.0000 - tn: 20.0000 - fn: 0.0000e+00 - accuracy: 0.5349 - precision: 0.5228 - recall: 1.0000 - auc: 0.9326 - prc: 0.8918\n"
     ]
    }
   ],
   "source": [
    "res_weight_model = make_model()\n",
    "res_weight_model.load_weights(initial_weights)\n",
    "weighted_history_res = res_weight_model.fit(X_train_transform,y_train_re,epochs=EPOCHS,batch_size=10,callbacks=[early_stopping],class_weight=class_weights)"
   ]
  },
  {
   "cell_type": "code",
   "execution_count": 191,
   "id": "33963f69",
   "metadata": {},
   "outputs": [],
   "source": [
    "#old X_test for validation and using old ttranformed \n",
    "X_test_transform_re = sc.transform(X_test)"
   ]
  },
  {
   "cell_type": "code",
   "execution_count": 206,
   "id": "a09016a3",
   "metadata": {},
   "outputs": [
    {
     "name": "stdout",
     "output_type": "stream",
     "text": [
      "5697/5697 [==============================] - 9s 2ms/step\n"
     ]
    },
    {
     "data": {
      "text/plain": [
       "Text(50.722222222222214, 0.5, 'Actual label')"
      ]
     },
     "execution_count": 206,
     "metadata": {},
     "output_type": "execute_result"
    },
    {
     "data": {
      "image/png": "[encoded data removed]",
      "text/plain": [
       "<Figure size 640x480 with 2 Axes>"
      ]
     },
     "metadata": {},
     "output_type": "display_data"
    }
   ],
   "source": [
    "y_cw_res_predict = res_weight_model.predict(X_test_transform,batch_size=10)\n",
    "y_cw__res_predictions = np.where(y_cw_res_predict>0.6,1,0)\n",
    "cm = confusion_matrix(y_test,y_cw__res_predictions)\n",
    "sns.heatmap(cm,annot=True)\n",
    "plt.title(\"Threshold @0.5 \")\n",
    "plt.xlabel(\"Predicted label \")\n",
    "plt.ylabel(\"Actual label\")"
   ]
  },
  {
   "cell_type": "code",
   "execution_count": 208,
   "id": "67631b60",
   "metadata": {},
   "outputs": [],
   "source": [
    "# here we see that the false negative has decreased ,but precision has also decreased \n",
    "# we need to change the threshold levels to come to a conclusion \n",
    "# from the above steps we see that , class weights approach gives better solutin than oversampling one in this case"
   ]
  },
  {
   "cell_type": "code",
   "execution_count": null,
   "id": "1dba3578",
   "metadata": {},
   "outputs": [],
   "source": []
  },
  {
   "cell_type": "code",
   "execution_count": 204,
   "id": "674dc0aa",
   "metadata": {},
   "outputs": [],
   "source": []
  },
  {
   "cell_type": "code",
   "execution_count": null,
   "id": "2f0aef12",
   "metadata": {},
   "outputs": [],
   "source": []
  }
 ],
 "metadata": {
  "kernelspec": {
   "display_name": "Python 3 (ipykernel)",
   "language": "python",
   "name": "python3"
  },
  "language_info": {
   "codemirror_mode": {
    "name": "ipython",
    "version": 3
   },
   "file_extension": ".py",
   "mimetype": "text/x-python",
   "name": "python",
   "nbconvert_exporter": "python",
   "pygments_lexer": "ipython3",
   "version": "3.7.13"
  }
 },
 "nbformat": 4,
 "nbformat_minor": 5
}
